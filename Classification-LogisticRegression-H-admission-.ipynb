{
 "cells": [
  {
   "cell_type": "code",
   "execution_count": 34,
   "metadata": {},
   "outputs": [],
   "source": [
    "import pandas as pd\n",
    "import numpy as np\n",
    "import matplotlib.pyplot as plt\n",
    "import seaborn as sns\n",
    "\n",
    "from sklearn.linear_model import LogisticRegression\n",
    "from sklearn.model_selection import train_test_split\n",
    "from sklearn.metrics import confusion_matrix\n",
    "\n",
    "import warnings\n",
    "warnings.filterwarnings(action= \"ignore\")"
   ]
  },
  {
   "cell_type": "markdown",
   "metadata": {},
   "source": [
    "OBJECT OF THE STUDY\n",
    "\n",
    "Predict a patient who will be readmitted in 30 days after having treatment in hospital and discharged\n"
   ]
  },
  {
   "cell_type": "markdown",
   "metadata": {},
   "source": [
    "DATASET DESCRIPTION"
   ]
  },
  {
   "cell_type": "raw",
   "metadata": {},
   "source": [
    "\n",
    "Description of Features\t\n",
    "\n",
    "encounter_id\tUnique identifier of an encounter\n",
    "\n",
    "patient_nbr\tUnique identifier of a patient\n",
    "\n",
    "race\tCaucasian, Asian, African American, Hispanic, and other\n",
    "gender\t male, female, and unknown/invalid\n",
    "age\tGrouped in 10-year intervals: [0, 10), [10, 20), ..., [90, 100)\n",
    "weight\tWeight in pounds\n",
    "admission_type_id\t\"Integer identifier corresponding to 9 distinct values, for example, emergency, urgent,\n",
    "elective, newborn, and not available\"\n",
    "discharge_disposition_id\tInteger identifier corresponding to 29 distinct values, for example, discharged to home, expired, and not available\n",
    "admission_source_id\tInteger identifier corresponding to 21 distinct values, for example, physician referral, emergency room, and transfer from a hospital\n",
    "time_in_hospital\t Integer number of days between admission and discharge\n",
    "payer_code\t\"Integer identifier corresponding to 23 distinct values, for example, Blue Cross\\Blue\n",
    "Shield, Medicare, and self-pay\"\n",
    "medical_specialty\t\"Integer identifier of a specialty of the admitting physician, corresponding to 84 distinct\n",
    "values, for example, cardiology, internal medicine, family\\general practice, and\n",
    "surgeon\"\n",
    "num_lab_procedures\tNumber of lab tests performed during the encounter\n",
    "num_procedures\tNumber of procedures (other than lab tests) performed during the encounter\n",
    "num_medications\tNumber of distinct generic names administered during the encounter\n",
    "number_outpatient\tNumber of outpatient visits of the patient in the year preceding the encounter\n",
    "number_emergency\tNumber of emergency visits of the patient in the year preceding the encounter\n",
    "number_inpatient\tNumber of inpatient visits of the patient in the year preceding the encounter\n",
    "diag_1\tThe primary diagnosis (coded as first three digits of ICD9); 848 distinct values\n",
    "diag_2\tSecondary diagnosis (coded as first three digits of ICD9); 923 distinct values\n",
    "diag_3\tAdditional secondary diagnosis (coded as first three digits of ICD9); 954 distinct values\n",
    "number_diagnoses\tNumber of diagnoses entered to the system\n",
    "max_glu_serum\tIndicates the range of the result or if the test was not taken. Values: “>200,” “>300,” “normal,” and “none” if not measured\n",
    "A1Cresult\tIndicates the range of the result or if the test was not taken. Values: “>8” if the result was greater than 8%, “>7” if the result was greater than 7% but less than 8%, “normal” if the result was less than 7%, and “none” if not measured\n",
    "metformin\t\"Indicates if there was a change in diabetic medications (either dosage or generic\n",
    "name). Values: “change” and “no change”\"\n",
    "change\t\"Indicates if there was a change in diabetic medications (either dosage or generic\n",
    "name). Values: “change” and “no change”\"\n",
    "diabetesMed\t Indicates if there was any diabetic medication prescribed. Values: “yes” and “no”\n",
    "\n",
    "metformin, repaglinide, nateglinide, chlorpropamide, glimepiride, acetohexamide, glipizide, glyburide, tolbutamide, pioglitazone, rosiglitazone, acarbose, miglitol, troglitazone, tolazamide, examide, sitagliptin, insulin, glyburide-metformin, glipizide-metformin, glimepiride- pioglitazone, metformin-rosiglitazone, and metformin- pioglitazone\t\n",
    "\n",
    "the feature indicates whether\n",
    "the drug was prescribed or there was a change in the dosage. Values: “up” if the dosage\n",
    "was increased during the encounter, “down” if the dosage was decreased, “steady” if the\n",
    "dosage did not change, and “no” if the drug was not prescribed\"\n",
    "\n",
    "readmitted\t\"Days to inpatient readmission. Values: “<30” if the patient was readmitted in less than\n",
    "30 days, “>30” if the patient was readmitted in more than 30 days, and “No” for no\n",
    "record of readmission\"\n"
   ]
  },
  {
   "cell_type": "code",
   "execution_count": 35,
   "metadata": {},
   "outputs": [
    {
     "data": {
      "text/html": [
       "<div>\n",
       "<style scoped>\n",
       "    .dataframe tbody tr th:only-of-type {\n",
       "        vertical-align: middle;\n",
       "    }\n",
       "\n",
       "    .dataframe tbody tr th {\n",
       "        vertical-align: top;\n",
       "    }\n",
       "\n",
       "    .dataframe thead th {\n",
       "        text-align: right;\n",
       "    }\n",
       "</style>\n",
       "<table border=\"1\" class=\"dataframe\">\n",
       "  <thead>\n",
       "    <tr style=\"text-align: right;\">\n",
       "      <th></th>\n",
       "      <th>encounter_id</th>\n",
       "      <th>patient_nbr</th>\n",
       "      <th>race</th>\n",
       "      <th>gender</th>\n",
       "      <th>age</th>\n",
       "      <th>weight</th>\n",
       "      <th>admission_type_id</th>\n",
       "      <th>discharge_disposition_id</th>\n",
       "      <th>admission_source_id</th>\n",
       "      <th>time_in_hospital</th>\n",
       "      <th>...</th>\n",
       "      <th>citoglipton</th>\n",
       "      <th>insulin</th>\n",
       "      <th>glyburide-metformin</th>\n",
       "      <th>glipizide-metformin</th>\n",
       "      <th>glimepiride-pioglitazone</th>\n",
       "      <th>metformin-rosiglitazone</th>\n",
       "      <th>metformin-pioglitazone</th>\n",
       "      <th>change</th>\n",
       "      <th>diabetesMed</th>\n",
       "      <th>readmitted</th>\n",
       "    </tr>\n",
       "  </thead>\n",
       "  <tbody>\n",
       "    <tr>\n",
       "      <th>0</th>\n",
       "      <td>2278392</td>\n",
       "      <td>8222157</td>\n",
       "      <td>Caucasian</td>\n",
       "      <td>Female</td>\n",
       "      <td>[0-10)</td>\n",
       "      <td>?</td>\n",
       "      <td>6</td>\n",
       "      <td>25</td>\n",
       "      <td>1</td>\n",
       "      <td>1</td>\n",
       "      <td>...</td>\n",
       "      <td>No</td>\n",
       "      <td>No</td>\n",
       "      <td>No</td>\n",
       "      <td>No</td>\n",
       "      <td>No</td>\n",
       "      <td>No</td>\n",
       "      <td>No</td>\n",
       "      <td>No</td>\n",
       "      <td>No</td>\n",
       "      <td>NO</td>\n",
       "    </tr>\n",
       "    <tr>\n",
       "      <th>1</th>\n",
       "      <td>149190</td>\n",
       "      <td>55629189</td>\n",
       "      <td>Caucasian</td>\n",
       "      <td>Female</td>\n",
       "      <td>[10-20)</td>\n",
       "      <td>?</td>\n",
       "      <td>1</td>\n",
       "      <td>1</td>\n",
       "      <td>7</td>\n",
       "      <td>3</td>\n",
       "      <td>...</td>\n",
       "      <td>No</td>\n",
       "      <td>Up</td>\n",
       "      <td>No</td>\n",
       "      <td>No</td>\n",
       "      <td>No</td>\n",
       "      <td>No</td>\n",
       "      <td>No</td>\n",
       "      <td>Ch</td>\n",
       "      <td>Yes</td>\n",
       "      <td>&gt;30</td>\n",
       "    </tr>\n",
       "    <tr>\n",
       "      <th>2</th>\n",
       "      <td>64410</td>\n",
       "      <td>86047875</td>\n",
       "      <td>AfricanAmerican</td>\n",
       "      <td>Female</td>\n",
       "      <td>[20-30)</td>\n",
       "      <td>?</td>\n",
       "      <td>1</td>\n",
       "      <td>1</td>\n",
       "      <td>7</td>\n",
       "      <td>2</td>\n",
       "      <td>...</td>\n",
       "      <td>No</td>\n",
       "      <td>No</td>\n",
       "      <td>No</td>\n",
       "      <td>No</td>\n",
       "      <td>No</td>\n",
       "      <td>No</td>\n",
       "      <td>No</td>\n",
       "      <td>No</td>\n",
       "      <td>Yes</td>\n",
       "      <td>NO</td>\n",
       "    </tr>\n",
       "    <tr>\n",
       "      <th>3</th>\n",
       "      <td>500364</td>\n",
       "      <td>82442376</td>\n",
       "      <td>Caucasian</td>\n",
       "      <td>Male</td>\n",
       "      <td>[30-40)</td>\n",
       "      <td>?</td>\n",
       "      <td>1</td>\n",
       "      <td>1</td>\n",
       "      <td>7</td>\n",
       "      <td>2</td>\n",
       "      <td>...</td>\n",
       "      <td>No</td>\n",
       "      <td>Up</td>\n",
       "      <td>No</td>\n",
       "      <td>No</td>\n",
       "      <td>No</td>\n",
       "      <td>No</td>\n",
       "      <td>No</td>\n",
       "      <td>Ch</td>\n",
       "      <td>Yes</td>\n",
       "      <td>NO</td>\n",
       "    </tr>\n",
       "    <tr>\n",
       "      <th>4</th>\n",
       "      <td>16680</td>\n",
       "      <td>42519267</td>\n",
       "      <td>Caucasian</td>\n",
       "      <td>Male</td>\n",
       "      <td>[40-50)</td>\n",
       "      <td>?</td>\n",
       "      <td>1</td>\n",
       "      <td>1</td>\n",
       "      <td>7</td>\n",
       "      <td>1</td>\n",
       "      <td>...</td>\n",
       "      <td>No</td>\n",
       "      <td>Steady</td>\n",
       "      <td>No</td>\n",
       "      <td>No</td>\n",
       "      <td>No</td>\n",
       "      <td>No</td>\n",
       "      <td>No</td>\n",
       "      <td>Ch</td>\n",
       "      <td>Yes</td>\n",
       "      <td>NO</td>\n",
       "    </tr>\n",
       "  </tbody>\n",
       "</table>\n",
       "<p>5 rows × 50 columns</p>\n",
       "</div>"
      ],
      "text/plain": [
       "   encounter_id  patient_nbr             race  gender      age weight  \\\n",
       "0       2278392      8222157        Caucasian  Female   [0-10)      ?   \n",
       "1        149190     55629189        Caucasian  Female  [10-20)      ?   \n",
       "2         64410     86047875  AfricanAmerican  Female  [20-30)      ?   \n",
       "3        500364     82442376        Caucasian    Male  [30-40)      ?   \n",
       "4         16680     42519267        Caucasian    Male  [40-50)      ?   \n",
       "\n",
       "   admission_type_id  discharge_disposition_id  admission_source_id  \\\n",
       "0                  6                        25                    1   \n",
       "1                  1                         1                    7   \n",
       "2                  1                         1                    7   \n",
       "3                  1                         1                    7   \n",
       "4                  1                         1                    7   \n",
       "\n",
       "   time_in_hospital  ... citoglipton insulin  glyburide-metformin  \\\n",
       "0                 1  ...          No      No                   No   \n",
       "1                 3  ...          No      Up                   No   \n",
       "2                 2  ...          No      No                   No   \n",
       "3                 2  ...          No      Up                   No   \n",
       "4                 1  ...          No  Steady                   No   \n",
       "\n",
       "   glipizide-metformin  glimepiride-pioglitazone  metformin-rosiglitazone  \\\n",
       "0                   No                        No                       No   \n",
       "1                   No                        No                       No   \n",
       "2                   No                        No                       No   \n",
       "3                   No                        No                       No   \n",
       "4                   No                        No                       No   \n",
       "\n",
       "   metformin-pioglitazone  change diabetesMed readmitted  \n",
       "0                      No      No          No         NO  \n",
       "1                      No      Ch         Yes        >30  \n",
       "2                      No      No         Yes         NO  \n",
       "3                      No      Ch         Yes         NO  \n",
       "4                      No      Ch         Yes         NO  \n",
       "\n",
       "[5 rows x 50 columns]"
      ]
     },
     "execution_count": 35,
     "metadata": {},
     "output_type": "execute_result"
    }
   ],
   "source": [
    "df=pd.read_csv(\"./data_os/diabetic_data_readmission.csv\")\n",
    "df.head()"
   ]
  },
  {
   "cell_type": "code",
   "execution_count": 36,
   "metadata": {},
   "outputs": [
    {
     "name": "stdout",
     "output_type": "stream",
     "text": [
      "<class 'pandas.core.frame.DataFrame'>\n",
      "RangeIndex: 101766 entries, 0 to 101765\n",
      "Data columns (total 50 columns):\n",
      " #   Column                    Non-Null Count   Dtype \n",
      "---  ------                    --------------   ----- \n",
      " 0   encounter_id              101766 non-null  int64 \n",
      " 1   patient_nbr               101766 non-null  int64 \n",
      " 2   race                      101766 non-null  object\n",
      " 3   gender                    101766 non-null  object\n",
      " 4   age                       101766 non-null  object\n",
      " 5   weight                    101766 non-null  object\n",
      " 6   admission_type_id         101766 non-null  int64 \n",
      " 7   discharge_disposition_id  101766 non-null  int64 \n",
      " 8   admission_source_id       101766 non-null  int64 \n",
      " 9   time_in_hospital          101766 non-null  int64 \n",
      " 10  payer_code                101766 non-null  object\n",
      " 11  medical_specialty         101766 non-null  object\n",
      " 12  num_lab_procedures        101766 non-null  int64 \n",
      " 13  num_procedures            101766 non-null  int64 \n",
      " 14  num_medications           101766 non-null  int64 \n",
      " 15  number_outpatient         101766 non-null  int64 \n",
      " 16  number_emergency          101766 non-null  int64 \n",
      " 17  number_inpatient          101766 non-null  int64 \n",
      " 18  diag_1                    101766 non-null  object\n",
      " 19  diag_2                    101766 non-null  object\n",
      " 20  diag_3                    101766 non-null  object\n",
      " 21  number_diagnoses          101766 non-null  int64 \n",
      " 22  max_glu_serum             101766 non-null  object\n",
      " 23  A1Cresult                 101766 non-null  object\n",
      " 24  metformin                 101766 non-null  object\n",
      " 25  repaglinide               101766 non-null  object\n",
      " 26  nateglinide               101766 non-null  object\n",
      " 27  chlorpropamide            101766 non-null  object\n",
      " 28  glimepiride               101766 non-null  object\n",
      " 29  acetohexamide             101766 non-null  object\n",
      " 30  glipizide                 101766 non-null  object\n",
      " 31  glyburide                 101766 non-null  object\n",
      " 32  tolbutamide               101766 non-null  object\n",
      " 33  pioglitazone              101766 non-null  object\n",
      " 34  rosiglitazone             101766 non-null  object\n",
      " 35  acarbose                  101766 non-null  object\n",
      " 36  miglitol                  101766 non-null  object\n",
      " 37  troglitazone              101766 non-null  object\n",
      " 38  tolazamide                101766 non-null  object\n",
      " 39  examide                   101766 non-null  object\n",
      " 40  citoglipton               101766 non-null  object\n",
      " 41  insulin                   101766 non-null  object\n",
      " 42  glyburide-metformin       101766 non-null  object\n",
      " 43  glipizide-metformin       101766 non-null  object\n",
      " 44  glimepiride-pioglitazone  101766 non-null  object\n",
      " 45  metformin-rosiglitazone   101766 non-null  object\n",
      " 46  metformin-pioglitazone    101766 non-null  object\n",
      " 47  change                    101766 non-null  object\n",
      " 48  diabetesMed               101766 non-null  object\n",
      " 49  readmitted                101766 non-null  object\n",
      "dtypes: int64(13), object(37)\n",
      "memory usage: 38.8+ MB\n"
     ]
    }
   ],
   "source": [
    "df.info()"
   ]
  },
  {
   "cell_type": "code",
   "execution_count": 4,
   "metadata": {},
   "outputs": [],
   "source": [
    "# Data Cleaning"
   ]
  },
  {
   "cell_type": "code",
   "execution_count": 37,
   "metadata": {},
   "outputs": [],
   "source": [
    "# NaN fields in the data \"?\" coded with \"?\" we make the data that is NaN. Then we will fix the missing value problem\n",
    "\n",
    "df.replace(\"?\",np.nan,inplace=True)\n"
   ]
  },
  {
   "cell_type": "code",
   "execution_count": 38,
   "metadata": {},
   "outputs": [],
   "source": [
    "# The function finding the ratio of missing values\n",
    "\n",
    "def missing_df(df):\n",
    "    \n",
    "    total_missing = df.isnull().sum().sort_values(ascending = False)\n",
    "    pct_missing = total_missing/len(df)*100\n",
    "    pct_missing = pct_missing.round(1)\n",
    "    missing_df = pd.concat([total_missing, pct_missing], axis = 1, keys=[\"Total\", \"Pct\"])\n",
    "    #missing_df.columns = [\"Total\", \"Pct\"]\n",
    "    return missing_df[missing_df.Total > 0]"
   ]
  },
  {
   "cell_type": "code",
   "execution_count": 40,
   "metadata": {},
   "outputs": [
    {
     "data": {
      "text/html": [
       "<div>\n",
       "<style scoped>\n",
       "    .dataframe tbody tr th:only-of-type {\n",
       "        vertical-align: middle;\n",
       "    }\n",
       "\n",
       "    .dataframe tbody tr th {\n",
       "        vertical-align: top;\n",
       "    }\n",
       "\n",
       "    .dataframe thead th {\n",
       "        text-align: right;\n",
       "    }\n",
       "</style>\n",
       "<table border=\"1\" class=\"dataframe\">\n",
       "  <thead>\n",
       "    <tr style=\"text-align: right;\">\n",
       "      <th></th>\n",
       "      <th>Total</th>\n",
       "      <th>Pct</th>\n",
       "    </tr>\n",
       "  </thead>\n",
       "  <tbody>\n",
       "    <tr>\n",
       "      <th>weight</th>\n",
       "      <td>98569</td>\n",
       "      <td>96.9</td>\n",
       "    </tr>\n",
       "    <tr>\n",
       "      <th>medical_specialty</th>\n",
       "      <td>49949</td>\n",
       "      <td>49.1</td>\n",
       "    </tr>\n",
       "    <tr>\n",
       "      <th>payer_code</th>\n",
       "      <td>40256</td>\n",
       "      <td>39.6</td>\n",
       "    </tr>\n",
       "    <tr>\n",
       "      <th>race</th>\n",
       "      <td>2273</td>\n",
       "      <td>2.2</td>\n",
       "    </tr>\n",
       "    <tr>\n",
       "      <th>diag_3</th>\n",
       "      <td>1423</td>\n",
       "      <td>1.4</td>\n",
       "    </tr>\n",
       "    <tr>\n",
       "      <th>diag_2</th>\n",
       "      <td>358</td>\n",
       "      <td>0.4</td>\n",
       "    </tr>\n",
       "    <tr>\n",
       "      <th>diag_1</th>\n",
       "      <td>21</td>\n",
       "      <td>0.0</td>\n",
       "    </tr>\n",
       "  </tbody>\n",
       "</table>\n",
       "</div>"
      ],
      "text/plain": [
       "                   Total   Pct\n",
       "weight             98569  96.9\n",
       "medical_specialty  49949  49.1\n",
       "payer_code         40256  39.6\n",
       "race                2273   2.2\n",
       "diag_3              1423   1.4\n",
       "diag_2               358   0.4\n",
       "diag_1                21   0.0"
      ]
     },
     "execution_count": 40,
     "metadata": {},
     "output_type": "execute_result"
    }
   ],
   "source": [
    "missing_df(df)"
   ]
  },
  {
   "cell_type": "code",
   "execution_count": 41,
   "metadata": {},
   "outputs": [
    {
     "data": {
      "text/plain": [
       "(101766, 50)"
      ]
     },
     "execution_count": 41,
     "metadata": {},
     "output_type": "execute_result"
    }
   ],
   "source": [
    "df.shape"
   ]
  },
  {
   "cell_type": "code",
   "execution_count": 42,
   "metadata": {},
   "outputs": [],
   "source": [
    "# We're dropping the features that have very much missing values\n",
    "df.drop(['weight','medical_specialty','payer_code'],axis=1,inplace=True)\n",
    "\n",
    "# encounter_id,patient_nbr,admission_type_id will be dropped while feature with Id will not have significant effect on Analyse.\n",
    "df.drop(['encounter_id','patient_nbr','admission_type_id',\n",
    "         'discharge_disposition_id','admission_source_id'],axis=1,inplace=True)\n",
    "\n",
    "#removing invalid/unknown entries for gender\n",
    "df=df[df['gender']!='Unknown/Invalid']\n",
    "\n",
    "# The remaining missing values, which are represented by a very small % and \n",
    "# understood that they cannot be filled with the interpolate method, are dropped.\n",
    "df.dropna(inplace=True)"
   ]
  },
  {
   "cell_type": "code",
   "execution_count": 44,
   "metadata": {},
   "outputs": [
    {
     "data": {
      "text/html": [
       "<div>\n",
       "<style scoped>\n",
       "    .dataframe tbody tr th:only-of-type {\n",
       "        vertical-align: middle;\n",
       "    }\n",
       "\n",
       "    .dataframe tbody tr th {\n",
       "        vertical-align: top;\n",
       "    }\n",
       "\n",
       "    .dataframe thead th {\n",
       "        text-align: right;\n",
       "    }\n",
       "</style>\n",
       "<table border=\"1\" class=\"dataframe\">\n",
       "  <thead>\n",
       "    <tr style=\"text-align: right;\">\n",
       "      <th></th>\n",
       "      <th>Total</th>\n",
       "      <th>Pct</th>\n",
       "    </tr>\n",
       "  </thead>\n",
       "  <tbody>\n",
       "  </tbody>\n",
       "</table>\n",
       "</div>"
      ],
      "text/plain": [
       "Empty DataFrame\n",
       "Columns: [Total, Pct]\n",
       "Index: []"
      ]
     },
     "execution_count": 44,
     "metadata": {},
     "output_type": "execute_result"
    }
   ],
   "source": [
    "#We test whether there is Missing Value left\n",
    "missing_df(df)"
   ]
  },
  {
   "cell_type": "code",
   "execution_count": 29,
   "metadata": {},
   "outputs": [
    {
     "data": {
      "text/plain": [
       "(98052, 42)"
      ]
     },
     "execution_count": 29,
     "metadata": {},
     "output_type": "execute_result"
    }
   ],
   "source": [
    "df.shape"
   ]
  },
  {
   "cell_type": "code",
   "execution_count": 45,
   "metadata": {},
   "outputs": [],
   "source": [
    "#  Since we are dealing with early readmission our target class was into two category diveded. \n",
    "df[\"readmitted\"].replace(\"NO\", 0, inplace=True)\n",
    "df[\"readmitted\"].replace(\">30\", 0,inplace=True)\n",
    "df[\"readmitted\"].replace(\"<30\",1, inplace=True)"
   ]
  },
  {
   "cell_type": "code",
   "execution_count": 46,
   "metadata": {},
   "outputs": [
    {
     "data": {
      "text/plain": [
       "Index(['race', 'gender', 'age', 'diag_1', 'diag_2', 'diag_3', 'max_glu_serum',\n",
       "       'A1Cresult', 'metformin', 'repaglinide', 'nateglinide',\n",
       "       'chlorpropamide', 'glimepiride', 'acetohexamide', 'glipizide',\n",
       "       'glyburide', 'tolbutamide', 'pioglitazone', 'rosiglitazone', 'acarbose',\n",
       "       'miglitol', 'troglitazone', 'tolazamide', 'examide', 'citoglipton',\n",
       "       'insulin', 'glyburide-metformin', 'glipizide-metformin',\n",
       "       'glimepiride-pioglitazone', 'metformin-rosiglitazone',\n",
       "       'metformin-pioglitazone', 'change', 'diabetesMed'],\n",
       "      dtype='object')"
      ]
     },
     "execution_count": 46,
     "metadata": {},
     "output_type": "execute_result"
    }
   ],
   "source": [
    "# We detect numerical and objective features\n",
    "numerical_features = df.dtypes[df.dtypes != 'object'].index\n",
    "categorical_features = df.dtypes[df.dtypes == 'object'].index\n",
    "categorical_features"
   ]
  },
  {
   "cell_type": "code",
   "execution_count": 16,
   "metadata": {},
   "outputs": [],
   "source": [
    "# With barplot and countplot, we are looking at the relationship between readmitted and other features.\n",
    "# sns.barplot(data=df,x=\"number_diagnoses\", y=\"readmitted\")\n",
    "# sns.countplot(data=df,x=\"insulin\", hue=\"readmitted\")"
   ]
  },
  {
   "cell_type": "code",
   "execution_count": 49,
   "metadata": {},
   "outputs": [
    {
     "data": {
      "image/png": "[encoded data removed]",
      "text/plain": [
       "<Figure size 1080x2160 with 9 Axes>"
      ]
     },
     "metadata": {
      "needs_background": "light"
     },
     "output_type": "display_data"
    }
   ],
   "source": [
    "plt.figure(figsize=(15,30))\n",
    "for i, col in enumerate(numerical_features[:]):\n",
    "    plt.subplot(12,3,i+1)\n",
    "    sns.countplot(data=df,x=numerical_features[i], hue=\"readmitted\")\n",
    "    plt.title(col)\n",
    "#     plt.xticks(rotation=90)\n",
    "plt.tight_layout()\n",
    "plt.show()"
   ]
  },
  {
   "cell_type": "code",
   "execution_count": 18,
   "metadata": {},
   "outputs": [
    {
     "data": {
      "image/png": "[encoded data removed]",
      "text/plain": [
       "<Figure size 1080x2160 with 33 Axes>"
      ]
     },
     "metadata": {
      "needs_background": "light"
     },
     "output_type": "display_data"
    }
   ],
   "source": [
    "plt.figure(figsize=(15,30))\n",
    "for i, col in enumerate(categorical_features[:]):\n",
    "    plt.subplot(12,3,i+1)\n",
    "    sns.barplot(data=df, x=categorical_features[i], y=\"readmitted\")\n",
    "    plt.xticks(rotation=90)\n",
    "plt.tight_layout()\n",
    "plt.show()"
   ]
  },
  {
   "cell_type": "code",
   "execution_count": 47,
   "metadata": {},
   "outputs": [],
   "source": [
    "# medications featurelarından examide,citoglipton ve metformin-rosiglitazone all values are \"No\" so we drop them.\n",
    "\n",
    "df.drop([\"examide\",\"citoglipton\",\"metformin-rosiglitazone\"],axis=1,inplace=True)"
   ]
  },
  {
   "cell_type": "code",
   "execution_count": 48,
   "metadata": {},
   "outputs": [],
   "source": [
    "# medication change\n",
    "df[\"change\"] = df[\"change\"].replace(\"No\", 0)\n",
    "df[\"change\"] = df[\"change\"].replace(\"Ch\", 1)\n",
    "\n",
    "df[\"gender\"] = df[\"gender\"].replace(\"Female\", 0)\n",
    "df[\"gender\"] = df[\"gender\"].replace(\"Male\", 1)\n",
    "\n",
    "df['diabetesMed'] = df['diabetesMed'].replace('No', 0)\n",
    "df['diabetesMed'] = df['diabetesMed'].replace('Yes', 1)\n"
   ]
  },
  {
   "cell_type": "code",
   "execution_count": null,
   "metadata": {},
   "outputs": [],
   "source": []
  },
  {
   "cell_type": "code",
   "execution_count": 49,
   "metadata": {},
   "outputs": [],
   "source": [
    "# Age is in time interval lets do it integer\n",
    "\n",
    "df[\"age\"] = df[\"age\"].replace(\"[0-10)\",10)\n",
    "df[\"age\"] = df[\"age\"].replace(\"[10-20)\",20)\n",
    "df[\"age\"] = df[\"age\"].replace(\"[20-30)\",30)\n",
    "df[\"age\"] = df[\"age\"].replace(\"[30-40)\",40)\n",
    "df[\"age\"] = df[\"age\"].replace(\"[40-50)\",50)\n",
    "df[\"age\"] = df[\"age\"].replace(\"[50-60)\",60)\n",
    "df[\"age\"] = df[\"age\"].replace(\"[60-70)\",70)\n",
    "df[\"age\"] = df[\"age\"].replace(\"[70-80)\",80)\n",
    "df[\"age\"] = df[\"age\"].replace(\"[80-90)\",90)\n",
    "df[\"age\"] = df[\"age\"].replace(\"[90-100)\",100)\n"
   ]
  },
  {
   "cell_type": "code",
   "execution_count": 50,
   "metadata": {},
   "outputs": [],
   "source": [
    "df[\"age\"] = df[\"age\"].astype(int)"
   ]
  },
  {
   "cell_type": "code",
   "execution_count": 51,
   "metadata": {},
   "outputs": [
    {
     "data": {
      "text/plain": [
       "(98052, 39)"
      ]
     },
     "execution_count": 51,
     "metadata": {},
     "output_type": "execute_result"
    }
   ],
   "source": [
    "df.shape"
   ]
  },
  {
   "cell_type": "code",
   "execution_count": 24,
   "metadata": {},
   "outputs": [],
   "source": [
    "#The values of  diag_1, diag_2 and diag_3 consist of data classified according to international disease codes,\n",
    "#where we convert the grouped data into general disease names based on the information in the data description.\n",
    "# coded as first three digits of ICD9"
   ]
  },
  {
   "cell_type": "raw",
   "metadata": {},
   "source": [
    "ICD9 Codes for Diseases\n",
    "Circulatory 390–459, 785 \n",
    "Respiratory 460–519, 786\n",
    "Digestive 520–579, 787\n",
    "Diabetes 250.xx\n",
    "Injury 800–999\n",
    "Musculoskeletal 710–739\n",
    "Genitourinary 580–629, 788\n",
    "Neoplasms 140–239\n",
    "Others  (17.3%)"
   ]
  },
  {
   "cell_type": "code",
   "execution_count": 52,
   "metadata": {},
   "outputs": [],
   "source": [
    "# diag_1, diag_2 and diag_3 values are encoded as Diabetes 250.x.We need to clear the .x here.\n",
    "# We also delete E and V encoded with the first character E and V in some ICD9 columns.\n",
    "\n",
    "cols_d=[\"diag_1\", \"diag_2\", \"diag_3\"]\n",
    "\n",
    "for col in cols_d:\n",
    "    df[col]=df[col].str.replace(\"E\",\"-\")\n",
    "    df[col]=df[col].str.replace(\"V\",\"-\")\n",
    "    df.loc[df[col].str.contains(\"250\"),col]=\"250\"\n",
    "    \n",
    "df[cols_d]=df[cols_d].astype(float)\n"
   ]
  },
  {
   "cell_type": "code",
   "execution_count": null,
   "metadata": {},
   "outputs": [],
   "source": []
  },
  {
   "cell_type": "code",
   "execution_count": 53,
   "metadata": {},
   "outputs": [],
   "source": [
    "# diagnosis grouping\n",
    "\n",
    "for col in cols_d:\n",
    "    df['temp']=np.nan\n",
    "    \n",
    "    condition = df[col]==250\n",
    "    df.loc[condition,'temp']='Diabetes'\n",
    "    \n",
    "    condition = (df[col]>=390) & (df[col]<=458) | (df[col]==785)\n",
    "    df.loc[condition,'temp']='Circulatory'\n",
    "    \n",
    "    condition = (df[col]>=460) & (df[col]<=519) | (df[col]==786)\n",
    "    df.loc[condition,'temp']='Respiratory'\n",
    "    \n",
    "    condition = (df[col]>=520) & (df[col]<=579) | (df[col]==787)\n",
    "    df.loc[condition,'temp']='Digestive'\n",
    "    \n",
    "    condition = (df[col]>=580) & (df[col]<=629) | (df[col]==788)\n",
    "    df.loc[condition,'temp']='Genitourinary'\n",
    "    \n",
    "    condition = (df[col]>=800) & (df[col]<=999)\n",
    "    df.loc[condition,'temp']='Injury'\n",
    "    \n",
    "    condition = (df[col]>=710) & (df[col]<=739)\n",
    "    df.loc[condition,'temp']='Muscoloskeletal'\n",
    "    \n",
    "    condition = (df[col]>=140) & (df[col]<=239)\n",
    "    df.loc[condition,'temp']='Neoplasms'\n",
    "    \n",
    "    condition = df[col]==0\n",
    "    df.loc[condition,col]='?'\n",
    "    df['temp']=df['temp'].fillna('Others')\n",
    "    condition = df['temp']=='0'\n",
    "    df.loc[condition,'temp']=np.nan\n",
    "    df[col]=df['temp']\n",
    "    df.drop('temp',axis=1,inplace=True)\n"
   ]
  },
  {
   "cell_type": "code",
   "execution_count": 54,
   "metadata": {},
   "outputs": [
    {
     "data": {
      "text/plain": [
       "0    86986\n",
       "1    11066\n",
       "Name: readmitted, dtype: int64"
      ]
     },
     "execution_count": 54,
     "metadata": {},
     "output_type": "execute_result"
    }
   ],
   "source": [
    "df[\"readmitted\"].value_counts()"
   ]
  },
  {
   "cell_type": "code",
   "execution_count": 55,
   "metadata": {},
   "outputs": [
    {
     "name": "stdout",
     "output_type": "stream",
     "text": [
      "Patients readmitted in 30 days ratio %11.29\n",
      "Patients nicht readmitted in 30 days ratio    : %88.71\n"
     ]
    },
    {
     "data": {
      "image/png": "[encoded data removed]",
      "text/plain": [
       "<Figure size 432x288 with 1 Axes>"
      ]
     },
     "metadata": {
      "needs_background": "light"
     },
     "output_type": "display_data"
    }
   ],
   "source": [
    "sns.countplot(df.readmitted)\n",
    "\n",
    "print(\"Patients readmitted in 30 days ratio %{:.2f}\".format(sum(df.readmitted)/len(df.readmitted)*100))\n",
    "print(\"Patients nicht readmitted in 30 days ratio    : %{:.2f}\".format((len(df.readmitted)-sum(df.readmitted))/len(df.readmitted)*100))"
   ]
  },
  {
   "cell_type": "code",
   "execution_count": 56,
   "metadata": {},
   "outputs": [],
   "source": [
    "dfm=df.copy()"
   ]
  },
  {
   "cell_type": "code",
   "execution_count": 57,
   "metadata": {},
   "outputs": [],
   "source": [
    "#We have the other features with dummies filled\n",
    "dfm=pd.get_dummies(df)"
   ]
  },
  {
   "cell_type": "code",
   "execution_count": 58,
   "metadata": {},
   "outputs": [
    {
     "name": "stdout",
     "output_type": "stream",
     "text": [
      "<class 'pandas.core.frame.DataFrame'>\n",
      "Int64Index: 98052 entries, 1 to 101765\n",
      "Columns: 120 entries, gender to metformin-pioglitazone_Steady\n",
      "dtypes: int32(1), int64(12), uint8(107)\n",
      "memory usage: 22.6 MB\n"
     ]
    }
   ],
   "source": [
    "dfm.info()"
   ]
  },
  {
   "cell_type": "code",
   "execution_count": 60,
   "metadata": {},
   "outputs": [
    {
     "data": {
      "text/plain": [
       "(98052, 120)"
      ]
     },
     "execution_count": 60,
     "metadata": {},
     "output_type": "execute_result"
    }
   ],
   "source": [
    "dfm.shape"
   ]
  },
  {
   "cell_type": "code",
   "execution_count": 61,
   "metadata": {},
   "outputs": [],
   "source": [
    "# Modelling\n",
    "\n",
    "X=dfm.drop(\"readmitted\", axis=1)\n",
    "y=dfm[\"readmitted\"]"
   ]
  },
  {
   "cell_type": "code",
   "execution_count": 62,
   "metadata": {},
   "outputs": [],
   "source": [
    "# Split dataframe\n",
    "    \n",
    "X_train, X_test, y_train, y_test =  train_test_split(X, y, test_size=0.20, random_state=111, stratify = y)"
   ]
  },
  {
   "cell_type": "code",
   "execution_count": 102,
   "metadata": {},
   "outputs": [],
   "source": [
    "from sklearn.metrics import classification_report"
   ]
  },
  {
   "cell_type": "code",
   "execution_count": 103,
   "metadata": {},
   "outputs": [],
   "source": [
    "# We set up our models with x and y datasets and receive classification reports.\n",
    "\n",
    "def create_model(X, y):\n",
    "    X_train, X_test, y_train, y_test =  train_test_split(X, y, test_size=0.20, random_state=111, stratify = y)\n",
    "    \n",
    "    logreg_model = LogisticRegression()\n",
    "    logreg_model.fit(X_train, y_train)\n",
    "\n",
    "    pred_train = logreg_model.predict(X_train)\n",
    "    pred_test = logreg_model.predict(X_test)\n",
    "    \n",
    "    conf_mtx_train = confusion_matrix(y_train, pred_train)\n",
    "    conf_mtx_test = confusion_matrix(y_test, pred_test)\n",
    "    \n",
    "    print(\"Accuracy : {}\\n\".format(logreg_model.score(X_test, y_test)))\n",
    "       \n",
    "     \n",
    "    print(\"Train Dataset_smote\")\n",
    "    print(classification_report(y_train, pred_train))\n",
    "    \n",
    "    print(\"Test Dataset\")\n",
    "    print(classification_report(y_test, pred_test))\n",
    "    \n",
    "    return  None"
   ]
  },
  {
   "cell_type": "code",
   "execution_count": 104,
   "metadata": {},
   "outputs": [
    {
     "name": "stdout",
     "output_type": "stream",
     "text": [
      "Accuracy : 0.8869512008566621\n",
      "\n",
      "Train Dataset\n",
      "              precision    recall  f1-score   support\n",
      "\n",
      "           0       0.89      1.00      0.94     69588\n",
      "           1       0.49      0.02      0.03      8853\n",
      "\n",
      "    accuracy                           0.89     78441\n",
      "   macro avg       0.69      0.51      0.48     78441\n",
      "weighted avg       0.84      0.89      0.84     78441\n",
      "\n",
      "Test Dataset\n",
      "              precision    recall  f1-score   support\n",
      "\n",
      "           0       0.89      1.00      0.94     17398\n",
      "           1       0.47      0.01      0.03      2213\n",
      "\n",
      "    accuracy                           0.89     19611\n",
      "   macro avg       0.68      0.51      0.48     19611\n",
      "weighted avg       0.84      0.89      0.84     19611\n",
      "\n"
     ]
    }
   ],
   "source": [
    "create_model(X, y)"
   ]
  },
  {
   "cell_type": "code",
   "execution_count": null,
   "metadata": {},
   "outputs": [],
   "source": []
  },
  {
   "cell_type": "code",
   "execution_count": null,
   "metadata": {},
   "outputs": [],
   "source": [
    "# Because it is imbalance data, we remodel it with SMOTE."
   ]
  },
  {
   "cell_type": "code",
   "execution_count": 80,
   "metadata": {},
   "outputs": [],
   "source": [
    "from imblearn.over_sampling import SMOTE"
   ]
  },
  {
   "cell_type": "code",
   "execution_count": 93,
   "metadata": {},
   "outputs": [],
   "source": [
    "Xm=dfm.drop(\"readmitted\", axis=1)\n",
    "ym=dfm[\"readmitted\"]\n"
   ]
  },
  {
   "cell_type": "code",
   "execution_count": 94,
   "metadata": {},
   "outputs": [],
   "source": [
    "\n",
    "# Xm_train, Xm_test, ym_train, ym_test =  train_test_split(Xm, ym, test_size=0.20, random_state=25, stratify = ym)"
   ]
  },
  {
   "cell_type": "code",
   "execution_count": 116,
   "metadata": {},
   "outputs": [],
   "source": [
    "smm = SMOTE(random_state=3, sampling_strategy=1.0)\n",
    "X_smotem, y_smotem = smm.fit_resample(X_train, y_train)"
   ]
  },
  {
   "cell_type": "code",
   "execution_count": 117,
   "metadata": {},
   "outputs": [
    {
     "name": "stdout",
     "output_type": "stream",
     "text": [
      "X_Smote shape (139176, 119) ,Y_Smote shape (139176,)\n"
     ]
    }
   ],
   "source": [
    "print (\"X_Smote shape\", X_smotem.shape, \",Y_Smote shape\", y_smotem.shape)"
   ]
  },
  {
   "cell_type": "code",
   "execution_count": 118,
   "metadata": {},
   "outputs": [
    {
     "name": "stdout",
     "output_type": "stream",
     "text": [
      "X shape (98052, 119) ,y shape (98052,)\n"
     ]
    }
   ],
   "source": [
    "print (\"X shape\", X.shape, \",y shape\", y.shape)"
   ]
  },
  {
   "cell_type": "code",
   "execution_count": 119,
   "metadata": {},
   "outputs": [
    {
     "name": "stdout",
     "output_type": "stream",
     "text": [
      "Xmtrain shape (78441, 119) ,ymtrain shape (78441,)\n"
     ]
    }
   ],
   "source": [
    "print (\"Xmtrain shape\", X_train.shape, \",ymtrain shape\", y_train.shape)"
   ]
  },
  {
   "cell_type": "code",
   "execution_count": 128,
   "metadata": {},
   "outputs": [],
   "source": [
    "def create_model_smote(X_smotem, y_smotem, X_test, y_test):\n",
    "    Xs_train, Xs_test, ys_train, ys_test =  train_test_split(X_smotem, y_smotem, test_size=0.20, random_state=111, stratify = y_smotem)\n",
    "    \n",
    "    logreg_models = LogisticRegression()\n",
    "    logreg_models.fit(Xs_train, ys_train)\n",
    "\n",
    "    pred_train_s = logreg_models.predict(Xs_train)\n",
    "    pred_test_s = logreg_models.predict(Xs_test)\n",
    "    pred_test = logreg_models.predict(X_test)\n",
    "    \n",
    "    conf_mtx_train_s = confusion_matrix(ys_train, pred_train_s)\n",
    "    conf_mtx_test_s = confusion_matrix(ys_test, pred_test_s)\n",
    "    conf_mtx_test = confusion_matrix(y_test, pred_test)\n",
    "    \n",
    "    print(\"Accuracy : {}\\n\".format(logreg_models.score(Xs_test, ys_test)))\n",
    "    \n",
    "    print(\"confusion Matrix-train_s\")\n",
    "    print(conf_mtx_train_s)\n",
    "    \n",
    "    print(\"confusion Matrix-test_s\")\n",
    "    print(conf_mtx_test_s)\n",
    "    \n",
    "    print(\"confusion Matrix-test\")\n",
    "    print(conf_mtx_test)\n",
    "    \n",
    "    print(\"Train Dataset_ Smote dataset\")\n",
    "    print(classification_report(ys_train, pred_train_s))\n",
    "    \n",
    "    print(\"Test Dataset_ Original Dataset\")\n",
    "    print(classification_report(y_test, pred_test))\n",
    "    \n",
    "    return  None"
   ]
  },
  {
   "cell_type": "code",
   "execution_count": 129,
   "metadata": {},
   "outputs": [
    {
     "name": "stdout",
     "output_type": "stream",
     "text": [
      "Accuracy : 0.9160798965368587\n",
      "\n",
      "confusion Matrix-train_s\n",
      "[[53728  1942]\n",
      " [ 7426 48244]]\n",
      "confusion Matrix-test_s\n",
      "[[13419   499]\n",
      " [ 1837 12081]]\n",
      "confusion Matrix-test\n",
      "[[16778   620]\n",
      " [ 2066   147]]\n",
      "Train Dataset_ Smote dataset\n",
      "              precision    recall  f1-score   support\n",
      "\n",
      "           0       0.88      0.97      0.92     55670\n",
      "           1       0.96      0.87      0.91     55670\n",
      "\n",
      "    accuracy                           0.92    111340\n",
      "   macro avg       0.92      0.92      0.92    111340\n",
      "weighted avg       0.92      0.92      0.92    111340\n",
      "\n",
      "Test Dataset_ Original Dataset\n",
      "              precision    recall  f1-score   support\n",
      "\n",
      "           0       0.89      0.96      0.93     17398\n",
      "           1       0.19      0.07      0.10      2213\n",
      "\n",
      "    accuracy                           0.86     19611\n",
      "   macro avg       0.54      0.52      0.51     19611\n",
      "weighted avg       0.81      0.86      0.83     19611\n",
      "\n"
     ]
    }
   ],
   "source": [
    "create_model_smote(X_smotem, y_smotem, X_test, y_test)"
   ]
  },
  {
   "cell_type": "code",
   "execution_count": null,
   "metadata": {},
   "outputs": [],
   "source": []
  },
  {
   "cell_type": "code",
   "execution_count": 140,
   "metadata": {},
   "outputs": [
    {
     "name": "stdout",
     "output_type": "stream",
     "text": [
      "Accuracy : 0.9160798965368587\n",
      "\n",
      "Train Dataset\n",
      "              precision    recall  f1-score   support\n",
      "\n",
      "           0       0.88      0.97      0.92     55670\n",
      "           1       0.96      0.87      0.91     55670\n",
      "\n",
      "    accuracy                           0.92    111340\n",
      "   macro avg       0.92      0.92      0.92    111340\n",
      "weighted avg       0.92      0.92      0.92    111340\n",
      "\n",
      "Test Dataset\n",
      "              precision    recall  f1-score   support\n",
      "\n",
      "           0       0.88      0.96      0.92     13918\n",
      "           1       0.96      0.87      0.91     13918\n",
      "\n",
      "    accuracy                           0.92     27836\n",
      "   macro avg       0.92      0.92      0.92     27836\n",
      "weighted avg       0.92      0.92      0.92     27836\n",
      "\n"
     ]
    }
   ],
   "source": [
    "#If we set up the model directly with the smote X and y\n",
    "create_model(X_smotem, y_smotem)"
   ]
  },
  {
   "cell_type": "code",
   "execution_count": null,
   "metadata": {},
   "outputs": [],
   "source": [
    "# Polynomial feature\n",
    "# from sklearn.preprocessing import PolynomialFeatures"
   ]
  },
  {
   "cell_type": "code",
   "execution_count": null,
   "metadata": {},
   "outputs": [],
   "source": [
    "# dfp=dfm.copy()\n",
    "# Xpol=X_smote\n",
    "# poly = PolynomialFeatures(interaction_only=True)\n",
    "# XP=poly.fit_transform(Xpol)\n",
    "# create_model(XP, y_smote)"
   ]
  },
  {
   "cell_type": "code",
   "execution_count": null,
   "metadata": {},
   "outputs": [],
   "source": [
    "# Polynomial Features creates new features by multiplying all the features together, but the result was unexpected as it consumed too much resources"
   ]
  },
  {
   "cell_type": "code",
   "execution_count": null,
   "metadata": {},
   "outputs": [],
   "source": [
    "# We can make the best estimation with at least how many feautures in our model, we use RFE for this.\n",
    "# recursive feature elimination (RFE)"
   ]
  },
  {
   "cell_type": "code",
   "execution_count": 141,
   "metadata": {},
   "outputs": [],
   "source": [
    "from sklearn.feature_selection import RFE"
   ]
  },
  {
   "cell_type": "code",
   "execution_count": 143,
   "metadata": {},
   "outputs": [],
   "source": [
    "logreg_model = LogisticRegression()\n",
    "selector = RFE(logreg_model, n_features_to_select=25, step=2)\n",
    "selector = selector.fit(X_smotem, y_smotem)\n"
   ]
  },
  {
   "cell_type": "code",
   "execution_count": 144,
   "metadata": {},
   "outputs": [],
   "source": [
    "selected_features= X_smotem.columns[selector.support_]\n",
    "Xselected_features=X_smotem[selected_features]"
   ]
  },
  {
   "cell_type": "code",
   "execution_count": 145,
   "metadata": {},
   "outputs": [
    {
     "name": "stdout",
     "output_type": "stream",
     "text": [
      "Accuracy : 0.9167624658715333\n",
      "\n",
      "Train Dataset\n",
      "              precision    recall  f1-score   support\n",
      "\n",
      "           0       0.86      0.99      0.92     55670\n",
      "           1       0.98      0.84      0.91     55670\n",
      "\n",
      "    accuracy                           0.92    111340\n",
      "   macro avg       0.92      0.92      0.91    111340\n",
      "weighted avg       0.92      0.92      0.91    111340\n",
      "\n",
      "Test Dataset\n",
      "              precision    recall  f1-score   support\n",
      "\n",
      "           0       0.87      0.99      0.92     13918\n",
      "           1       0.98      0.85      0.91     13918\n",
      "\n",
      "    accuracy                           0.92     27836\n",
      "   macro avg       0.93      0.92      0.92     27836\n",
      "weighted avg       0.93      0.92      0.92     27836\n",
      "\n"
     ]
    }
   ],
   "source": [
    "create_model(Xselected_features,y_smotem)"
   ]
  },
  {
   "cell_type": "code",
   "execution_count": 146,
   "metadata": {},
   "outputs": [
    {
     "data": {
      "text/plain": [
       "Index(['diag_1_Digestive', 'diag_1_Muscoloskeletal', 'diag_1_Neoplasms',\n",
       "       'diag_1_Respiratory', 'diag_2_Circulatory', 'diag_2_Diabetes',\n",
       "       'diag_2_Digestive', 'diag_2_Genitourinary', 'diag_2_Injury',\n",
       "       'diag_2_Muscoloskeletal', 'diag_2_Others', 'diag_2_Respiratory',\n",
       "       'diag_3_Circulatory', 'diag_3_Diabetes', 'diag_3_Digestive',\n",
       "       'diag_3_Genitourinary', 'diag_3_Injury', 'diag_3_Muscoloskeletal',\n",
       "       'diag_3_Neoplasms', 'diag_3_Others', 'diag_3_Respiratory',\n",
       "       'insulin_Down', 'insulin_No', 'insulin_Steady', 'insulin_Up'],\n",
       "      dtype='object')"
      ]
     },
     "execution_count": 146,
     "metadata": {},
     "output_type": "execute_result"
    }
   ],
   "source": [
    "#We find best 25 features by selecting n_features_to_select=25\n",
    "selected_features"
   ]
  },
  {
   "cell_type": "code",
   "execution_count": 147,
   "metadata": {},
   "outputs": [
    {
     "name": "stdout",
     "output_type": "stream",
     "text": [
      "Accuracy : 0.8862983187239546\n",
      "\n",
      "Train Dataset\n",
      "              precision    recall  f1-score   support\n",
      "\n",
      "           0       0.81      1.00      0.90     55670\n",
      "           1       1.00      0.77      0.87     55670\n",
      "\n",
      "    accuracy                           0.89    111340\n",
      "   macro avg       0.91      0.89      0.88    111340\n",
      "weighted avg       0.91      0.89      0.88    111340\n",
      "\n",
      "Test Dataset\n",
      "              precision    recall  f1-score   support\n",
      "\n",
      "           0       0.81      1.00      0.90     13918\n",
      "           1       1.00      0.77      0.87     13918\n",
      "\n",
      "    accuracy                           0.89     27836\n",
      "   macro avg       0.91      0.89      0.88     27836\n",
      "weighted avg       0.91      0.89      0.88     27836\n",
      "\n"
     ]
    }
   ],
   "source": [
    "logreg_model = LogisticRegression()\n",
    "selector = RFE(logreg_model, n_features_to_select=15, step=2)\n",
    "selector = selector.fit(X_smotem, y_smotem)\n",
    "selected_features= X_smotem.columns[selector.support_]\n",
    "Xselected_features=X_smotem[selected_features]\n",
    "create_model(Xselected_features,y_smotem)\n"
   ]
  },
  {
   "cell_type": "code",
   "execution_count": 148,
   "metadata": {},
   "outputs": [
    {
     "data": {
      "text/plain": [
       "Index(['diag_2_Muscoloskeletal', 'diag_2_Respiratory', 'diag_3_Circulatory',\n",
       "       'diag_3_Diabetes', 'diag_3_Digestive', 'diag_3_Genitourinary',\n",
       "       'diag_3_Injury', 'diag_3_Muscoloskeletal', 'diag_3_Neoplasms',\n",
       "       'diag_3_Others', 'diag_3_Respiratory', 'insulin_Down', 'insulin_No',\n",
       "       'insulin_Steady', 'insulin_Up'],\n",
       "      dtype='object')"
      ]
     },
     "execution_count": 148,
     "metadata": {},
     "output_type": "execute_result"
    }
   ],
   "source": [
    "#We find best 25 features by selecting n_features_to_select=25\n",
    "selected_features"
   ]
  },
  {
   "cell_type": "code",
   "execution_count": 149,
   "metadata": {},
   "outputs": [
    {
     "name": "stdout",
     "output_type": "stream",
     "text": [
      "Accuracy : 0.8862983187239546\n",
      "\n",
      "Train Dataset\n",
      "              precision    recall  f1-score   support\n",
      "\n",
      "           0       0.81      1.00      0.90     55670\n",
      "           1       1.00      0.77      0.87     55670\n",
      "\n",
      "    accuracy                           0.89    111340\n",
      "   macro avg       0.91      0.89      0.88    111340\n",
      "weighted avg       0.91      0.89      0.88    111340\n",
      "\n",
      "Test Dataset\n",
      "              precision    recall  f1-score   support\n",
      "\n",
      "           0       0.81      1.00      0.90     13918\n",
      "           1       1.00      0.77      0.87     13918\n",
      "\n",
      "    accuracy                           0.89     27836\n",
      "   macro avg       0.91      0.89      0.88     27836\n",
      "weighted avg       0.91      0.89      0.88     27836\n",
      "\n"
     ]
    }
   ],
   "source": [
    "#Modelling with Lojistik Regression with RFE selected 20 features\n",
    "\n",
    "logreg_model = LogisticRegression()\n",
    "selector = RFE(logreg_model, n_features_to_select=20, step=2)\n",
    "selector = selector.fit(X_smotem, y_smotem)\n",
    "selected_features= X_smotem.columns[selector.support_]\n",
    "Xselected_features=X_smotem[selected_features]\n",
    "create_model(Xselected_features,y_smotem)"
   ]
  },
  {
   "cell_type": "code",
   "execution_count": 150,
   "metadata": {},
   "outputs": [
    {
     "data": {
      "text/plain": [
       "Index(['diag_2_Diabetes', 'diag_2_Digestive', 'diag_2_Genitourinary',\n",
       "       'diag_2_Injury', 'diag_2_Muscoloskeletal', 'diag_2_Others',\n",
       "       'diag_2_Respiratory', 'diag_3_Circulatory', 'diag_3_Diabetes',\n",
       "       'diag_3_Digestive', 'diag_3_Genitourinary', 'diag_3_Injury',\n",
       "       'diag_3_Muscoloskeletal', 'diag_3_Neoplasms', 'diag_3_Others',\n",
       "       'diag_3_Respiratory', 'insulin_Down', 'insulin_No', 'insulin_Steady',\n",
       "       'insulin_Up'],\n",
       "      dtype='object')"
      ]
     },
     "execution_count": 150,
     "metadata": {},
     "output_type": "execute_result"
    }
   ],
   "source": [
    "selected_features"
   ]
  },
  {
   "cell_type": "code",
   "execution_count": null,
   "metadata": {},
   "outputs": [],
   "source": [
    "# Modelling with KNN"
   ]
  },
  {
   "cell_type": "code",
   "execution_count": null,
   "metadata": {},
   "outputs": [],
   "source": [
    "# from sklearn.neighbors import KNeighborsClassifier\n",
    "# neighbors = KNeighborsClassifier(n_neighbors=1)\n",
    "# X = diabetes[['Glucose', 'BloodPressure']]\n",
    "# Y = diabetes.Outcome\n",
    "# neighbors.fit(X,Y)"
   ]
  },
  {
   "cell_type": "code",
   "execution_count": null,
   "metadata": {},
   "outputs": [],
   "source": [
    "# from sklearn.neighbors import KNeighborsClassifier\n",
    "# knn = KNeighborsClassifier(n_neighbors = 1)\n",
    "# knn.fit(X_train,y_train)\n",
    "# knn.score(X_test, y_test)"
   ]
  },
  {
   "cell_type": "code",
   "execution_count": 2,
   "metadata": {},
   "outputs": [],
   "source": [
    "from sklearn.neighbors import KNeighborsClassifier"
   ]
  },
  {
   "cell_type": "code",
   "execution_count": 63,
   "metadata": {},
   "outputs": [],
   "source": [
    " X_train, X_test, y_train, y_test =  train_test_split(X, y, test_size=0.20, random_state=111, stratify = y)"
   ]
  },
  {
   "cell_type": "code",
   "execution_count": 153,
   "metadata": {},
   "outputs": [],
   "source": [
    "#modeling with KNN when n_neighbors selected 2\n",
    "knn = KNeighborsClassifier(n_neighbors = 2)"
   ]
  },
  {
   "cell_type": "code",
   "execution_count": 154,
   "metadata": {},
   "outputs": [
    {
     "data": {
      "text/plain": [
       "0.8781806129213197"
      ]
     },
     "execution_count": 154,
     "metadata": {},
     "output_type": "execute_result"
    }
   ],
   "source": [
    "knn.fit(X_train,y_train)\n",
    "knn.score(X_test, y_test)"
   ]
  },
  {
   "cell_type": "code",
   "execution_count": 155,
   "metadata": {},
   "outputs": [
    {
     "data": {
      "text/plain": [
       "0.8650757228086278"
      ]
     },
     "execution_count": 155,
     "metadata": {},
     "output_type": "execute_result"
    }
   ],
   "source": [
    "#modeling with KNN when n_neighbors selected 3\n",
    "knn = KNeighborsClassifier(n_neighbors = 3)\n",
    "knn.fit(X_train,y_train)\n",
    "knn.score(X_test, y_test)"
   ]
  },
  {
   "cell_type": "code",
   "execution_count": 64,
   "metadata": {},
   "outputs": [
    {
     "data": {
      "text/plain": [
       "0.811891285503034"
      ]
     },
     "execution_count": 64,
     "metadata": {},
     "output_type": "execute_result"
    }
   ],
   "source": [
    "#modeling with KNN when n_neighbors selected 1\n",
    "knn = KNeighborsClassifier(n_neighbors = 1)\n",
    "knn.fit(X_train,y_train)\n",
    "knn.score(X_test, y_test)"
   ]
  },
  {
   "cell_type": "code",
   "execution_count": null,
   "metadata": {},
   "outputs": [],
   "source": []
  },
  {
   "cell_type": "code",
   "execution_count": 157,
   "metadata": {},
   "outputs": [
    {
     "data": {
      "text/plain": [
       "0.8832797919534955"
      ]
     },
     "execution_count": 157,
     "metadata": {},
     "output_type": "execute_result"
    }
   ],
   "source": [
    "#modeling with KNN when n_neighbors selected 4\n",
    "knn = KNeighborsClassifier(n_neighbors = 4)\n",
    "knn.fit(X_train,y_train)\n",
    "knn.score(X_test, y_test)"
   ]
  },
  {
   "cell_type": "code",
   "execution_count": 158,
   "metadata": {},
   "outputs": [
    {
     "data": {
      "text/plain": [
       "0.8786905308245373"
      ]
     },
     "execution_count": 158,
     "metadata": {},
     "output_type": "execute_result"
    }
   ],
   "source": [
    "#modeling with KNN when n_neighbors selected 5\n",
    "knn = KNeighborsClassifier(n_neighbors = 5)\n",
    "knn.fit(X_train,y_train)\n",
    "knn.score(X_test, y_test)"
   ]
  },
  {
   "cell_type": "code",
   "execution_count": null,
   "metadata": {},
   "outputs": [],
   "source": [
    "#from here we understand that when we select n_neigbors parameter 4 than it gives best score"
   ]
  },
  {
   "cell_type": "markdown",
   "metadata": {},
   "source": [
    "..CONCLUSION..\n",
    "\n",
    "\n",
    "I went to the best of my ability to clean up the data. I have tried to feature elimination and used RFE and  have determined that diagnos results are the best predictive features.  In our data, I have faced the imbalanced data and used the SMOTE method to eliminate the imbalance problem.I have modeled the data with logistics regression and K-Neigbours-Network (KNN). I have predicted any patient who will be readmitted in 30 days after having treatment in hospital and discharged. The test scores are compared and in our model logistik regression gave 0,92 and KNN gave 0,88 respectively. "
   ]
  }
 ],
 "metadata": {
  "kernelspec": {
   "display_name": "Python 3",
   "language": "python",
   "name": "python3"
  },
  "language_info": {
   "codemirror_mode": {
    "name": "ipython",
    "version": 3
   },
   "file_extension": ".py",
   "mimetype": "text/x-python",
   "name": "python",
   "nbconvert_exporter": "python",
   "pygments_lexer": "ipython3",
   "version": "3.8.5"
  }
 },
 "nbformat": 4,
 "nbformat_minor": 4
}
