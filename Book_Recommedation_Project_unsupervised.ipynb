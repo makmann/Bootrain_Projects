{
 "cells": [
  {
   "cell_type": "code",
   "execution_count": 46,
   "metadata": {},
   "outputs": [],
   "source": [
    "import numpy as np\n",
    "import pandas as pd\n",
    "import plotly.express as px\n",
    "import seaborn as sns\n",
    "import matplotlib.pyplot as plt\n",
    "import seaborn as sns\n",
    "import sklearn\n",
    "from collections import Counter\n",
    "import nltk\n",
    "import spacy\n",
    "import de_core_news_sm\n",
    "import en_core_web_sm\n",
    "import re\n",
    "import gensim\n",
    "from nltk.corpus import stopwords\n",
    "from sklearn.feature_extraction.text import CountVectorizer\n",
    "from sklearn.metrics.pairwise import cosine_similarity\n",
    "from sklearn.preprocessing import scale\n",
    "import warnings\n",
    "warnings.filterwarnings('ignore')"
   ]
  },
  {
   "cell_type": "code",
   "execution_count": 47,
   "metadata": {},
   "outputs": [],
   "source": [
    "pd.set_option('display.max_columns', 30)\n",
    "pd.set_option('display.max_rows', 200) "
   ]
  },
  {
   "cell_type": "code",
   "execution_count": 48,
   "metadata": {},
   "outputs": [],
   "source": [
    "df=pd.read_json('book_crawled_data.json')"
   ]
  },
  {
   "cell_type": "code",
   "execution_count": 49,
   "metadata": {},
   "outputs": [
    {
     "data": {
      "text/html": [
       "<div>\n",
       "<style scoped>\n",
       "    .dataframe tbody tr th:only-of-type {\n",
       "        vertical-align: middle;\n",
       "    }\n",
       "\n",
       "    .dataframe tbody tr th {\n",
       "        vertical-align: top;\n",
       "    }\n",
       "\n",
       "    .dataframe thead th {\n",
       "        text-align: right;\n",
       "    }\n",
       "</style>\n",
       "<table border=\"1\" class=\"dataframe\">\n",
       "  <thead>\n",
       "    <tr style=\"text-align: right;\">\n",
       "      <th></th>\n",
       "      <th>0</th>\n",
       "      <th>1</th>\n",
       "      <th>2</th>\n",
       "      <th>3</th>\n",
       "      <th>4</th>\n",
       "    </tr>\n",
       "  </thead>\n",
       "  <tbody>\n",
       "    <tr>\n",
       "      <th>_id</th>\n",
       "      <td>{'$oid': '5f95295e33f37739666330c3'}</td>\n",
       "      <td>{'$oid': '5f95295e33f37739666330c8'}</td>\n",
       "      <td>{'$oid': '5f95295f33f37739666330d1'}</td>\n",
       "      <td>{'$oid': '5f95296033f37739666330da'}</td>\n",
       "      <td>{'$oid': '5f95296033f37739666330e2'}</td>\n",
       "    </tr>\n",
       "    <tr>\n",
       "      <th>DeliveryMessages</th>\n",
       "      <td>[]</td>\n",
       "      <td>[]</td>\n",
       "      <td>[]</td>\n",
       "      <td>[]</td>\n",
       "      <td>[]</td>\n",
       "    </tr>\n",
       "    <tr>\n",
       "      <th>AllVariationNameValues</th>\n",
       "      <td>[]</td>\n",
       "      <td>[]</td>\n",
       "      <td>[]</td>\n",
       "      <td>[]</td>\n",
       "      <td>[]</td>\n",
       "    </tr>\n",
       "    <tr>\n",
       "      <th>CurrentVariationNameValues</th>\n",
       "      <td>[]</td>\n",
       "      <td>[]</td>\n",
       "      <td>[]</td>\n",
       "      <td>[]</td>\n",
       "      <td>[]</td>\n",
       "    </tr>\n",
       "    <tr>\n",
       "      <th>DataStatus</th>\n",
       "      <td>4</td>\n",
       "      <td>4</td>\n",
       "      <td>4</td>\n",
       "      <td>4</td>\n",
       "      <td>4</td>\n",
       "    </tr>\n",
       "    <tr>\n",
       "      <th>DataStatusText</th>\n",
       "      <td>Completed</td>\n",
       "      <td>Completed</td>\n",
       "      <td>Completed</td>\n",
       "      <td>Completed</td>\n",
       "      <td>Completed</td>\n",
       "    </tr>\n",
       "    <tr>\n",
       "      <th>DataDate</th>\n",
       "      <td>{'$date': '2020-10-25T07:29:25.584Z'}</td>\n",
       "      <td>{'$date': '2020-10-25T07:29:25.592Z'}</td>\n",
       "      <td>{'$date': '2020-10-25T07:29:26.501Z'}</td>\n",
       "      <td>{'$date': '2020-10-25T07:29:25.575Z'}</td>\n",
       "      <td>{'$date': '2020-10-25T07:29:25.589Z'}</td>\n",
       "    </tr>\n",
       "    <tr>\n",
       "      <th>IsTranslated</th>\n",
       "      <td>False</td>\n",
       "      <td>False</td>\n",
       "      <td>False</td>\n",
       "      <td>False</td>\n",
       "      <td>False</td>\n",
       "    </tr>\n",
       "    <tr>\n",
       "      <th>MarketPlaceId</th>\n",
       "      <td>A1PA6795UKMFR9</td>\n",
       "      <td>A1PA6795UKMFR9</td>\n",
       "      <td>A1PA6795UKMFR9</td>\n",
       "      <td>A1PA6795UKMFR9</td>\n",
       "      <td>A1PA6795UKMFR9</td>\n",
       "    </tr>\n",
       "    <tr>\n",
       "      <th>Asin</th>\n",
       "      <td>1781934606</td>\n",
       "      <td>1782325956</td>\n",
       "      <td>178232707X</td>\n",
       "      <td>1495335216</td>\n",
       "      <td>178232321X</td>\n",
       "    </tr>\n",
       "    <tr>\n",
       "      <th>ProductAsin</th>\n",
       "      <td>1781934606</td>\n",
       "      <td>1782325956</td>\n",
       "      <td>178232707X</td>\n",
       "      <td>1495335216</td>\n",
       "      <td>178232321X</td>\n",
       "    </tr>\n",
       "    <tr>\n",
       "      <th>ParentAsin</th>\n",
       "      <td>NaN</td>\n",
       "      <td>NaN</td>\n",
       "      <td>NaN</td>\n",
       "      <td>NaN</td>\n",
       "      <td>NaN</td>\n",
       "    </tr>\n",
       "    <tr>\n",
       "      <th>IsParent</th>\n",
       "      <td>False</td>\n",
       "      <td>False</td>\n",
       "      <td>False</td>\n",
       "      <td>False</td>\n",
       "      <td>False</td>\n",
       "    </tr>\n",
       "    <tr>\n",
       "      <th>Title</th>\n",
       "      <td>Warhammer Age of Sigmar - Im Reich der Unbegra...</td>\n",
       "      <td>Mein Stickerbuch: Abenteuer Raumfahrt</td>\n",
       "      <td>Mein Wisch-und-weg-Buch Schulstart: Ich schrei...</td>\n",
       "      <td>Praxishandbuch Healing Code: Weiterentwicklung...</td>\n",
       "      <td>Mein Mode-Stickerbuch: Hochzeitskollektion</td>\n",
       "    </tr>\n",
       "    <tr>\n",
       "      <th>RelatedAsinList</th>\n",
       "      <td>[]</td>\n",
       "      <td>[]</td>\n",
       "      <td>[]</td>\n",
       "      <td>[]</td>\n",
       "      <td>[]</td>\n",
       "    </tr>\n",
       "    <tr>\n",
       "      <th>TitleForListing</th>\n",
       "      <td>NaN</td>\n",
       "      <td>NaN</td>\n",
       "      <td>NaN</td>\n",
       "      <td>NaN</td>\n",
       "      <td>NaN</td>\n",
       "    </tr>\n",
       "    <tr>\n",
       "      <th>ProductLink</th>\n",
       "      <td>NaN</td>\n",
       "      <td>NaN</td>\n",
       "      <td>NaN</td>\n",
       "      <td>NaN</td>\n",
       "      <td>NaN</td>\n",
       "    </tr>\n",
       "    <tr>\n",
       "      <th>OfferLink</th>\n",
       "      <td>NaN</td>\n",
       "      <td>NaN</td>\n",
       "      <td>NaN</td>\n",
       "      <td>NaN</td>\n",
       "      <td>NaN</td>\n",
       "    </tr>\n",
       "    <tr>\n",
       "      <th>ImageLink</th>\n",
       "      <td>NaN</td>\n",
       "      <td>NaN</td>\n",
       "      <td>NaN</td>\n",
       "      <td>NaN</td>\n",
       "      <td>NaN</td>\n",
       "    </tr>\n",
       "    <tr>\n",
       "      <th>ImageLinkFull</th>\n",
       "      <td>NaN</td>\n",
       "      <td>NaN</td>\n",
       "      <td>NaN</td>\n",
       "      <td>NaN</td>\n",
       "      <td>NaN</td>\n",
       "    </tr>\n",
       "    <tr>\n",
       "      <th>IsAddOn</th>\n",
       "      <td>False</td>\n",
       "      <td>False</td>\n",
       "      <td>False</td>\n",
       "      <td>False</td>\n",
       "      <td>False</td>\n",
       "    </tr>\n",
       "    <tr>\n",
       "      <th>Images</th>\n",
       "      <td>[]</td>\n",
       "      <td>[]</td>\n",
       "      <td>[]</td>\n",
       "      <td>[]</td>\n",
       "      <td>[]</td>\n",
       "    </tr>\n",
       "    <tr>\n",
       "      <th>HighResImages</th>\n",
       "      <td>[]</td>\n",
       "      <td>[]</td>\n",
       "      <td>[]</td>\n",
       "      <td>[]</td>\n",
       "      <td>[]</td>\n",
       "    </tr>\n",
       "    <tr>\n",
       "      <th>MainImage</th>\n",
       "      <td>https://images-na.ssl-images-amazon.com/images...</td>\n",
       "      <td>https://images-na.ssl-images-amazon.com/images...</td>\n",
       "      <td>https://images-na.ssl-images-amazon.com/images...</td>\n",
       "      <td>https://images-na.ssl-images-amazon.com/images...</td>\n",
       "      <td>https://images-na.ssl-images-amazon.com/images...</td>\n",
       "    </tr>\n",
       "    <tr>\n",
       "      <th>ImageArray</th>\n",
       "      <td>[https://images-na.ssl-images-amazon.com/image...</td>\n",
       "      <td>[https://images-na.ssl-images-amazon.com/image...</td>\n",
       "      <td>[https://images-na.ssl-images-amazon.com/image...</td>\n",
       "      <td>[https://images-na.ssl-images-amazon.com/image...</td>\n",
       "      <td>[https://images-na.ssl-images-amazon.com/image...</td>\n",
       "    </tr>\n",
       "    <tr>\n",
       "      <th>ManipulatedImages</th>\n",
       "      <td>[]</td>\n",
       "      <td>[]</td>\n",
       "      <td>[]</td>\n",
       "      <td>[]</td>\n",
       "      <td>[]</td>\n",
       "    </tr>\n",
       "    <tr>\n",
       "      <th>Condition</th>\n",
       "      <td>used_like_new</td>\n",
       "      <td>used_like_new</td>\n",
       "      <td>used_like_new</td>\n",
       "      <td>used_like_new</td>\n",
       "      <td>used_like_new</td>\n",
       "    </tr>\n",
       "    <tr>\n",
       "      <th>LanguageId</th>\n",
       "      <td>0</td>\n",
       "      <td>0</td>\n",
       "      <td>0</td>\n",
       "      <td>0</td>\n",
       "      <td>0</td>\n",
       "    </tr>\n",
       "    <tr>\n",
       "      <th>Language</th>\n",
       "      <td>None</td>\n",
       "      <td>None</td>\n",
       "      <td>None</td>\n",
       "      <td>None</td>\n",
       "      <td>None</td>\n",
       "    </tr>\n",
       "    <tr>\n",
       "      <th>Price1</th>\n",
       "      <td>{'$numberDecimal': '12.99'}</td>\n",
       "      <td>{'$numberDecimal': '6.95'}</td>\n",
       "      <td>{'$numberDecimal': '6.95'}</td>\n",
       "      <td>{'$numberDecimal': '9.80'}</td>\n",
       "      <td>{'$numberDecimal': '6.95'}</td>\n",
       "    </tr>\n",
       "    <tr>\n",
       "      <th>Price2</th>\n",
       "      <td>{'$numberDecimal': '0'}</td>\n",
       "      <td>{'$numberDecimal': '0'}</td>\n",
       "      <td>{'$numberDecimal': '0'}</td>\n",
       "      <td>{'$numberDecimal': '0'}</td>\n",
       "      <td>{'$numberDecimal': '0'}</td>\n",
       "    </tr>\n",
       "    <tr>\n",
       "      <th>RetailPrice</th>\n",
       "      <td>{'$numberDecimal': '0'}</td>\n",
       "      <td>{'$numberDecimal': '0'}</td>\n",
       "      <td>{'$numberDecimal': '0'}</td>\n",
       "      <td>{'$numberDecimal': '0'}</td>\n",
       "      <td>{'$numberDecimal': '0'}</td>\n",
       "    </tr>\n",
       "    <tr>\n",
       "      <th>PDWidth</th>\n",
       "      <td>{'$numberDecimal': '0'}</td>\n",
       "      <td>{'$numberDecimal': '0'}</td>\n",
       "      <td>{'$numberDecimal': '0'}</td>\n",
       "      <td>{'$numberDecimal': '0'}</td>\n",
       "      <td>{'$numberDecimal': '0'}</td>\n",
       "    </tr>\n",
       "    <tr>\n",
       "      <th>PDHeight</th>\n",
       "      <td>{'$numberDecimal': '0'}</td>\n",
       "      <td>{'$numberDecimal': '0'}</td>\n",
       "      <td>{'$numberDecimal': '0'}</td>\n",
       "      <td>{'$numberDecimal': '0'}</td>\n",
       "      <td>{'$numberDecimal': '0'}</td>\n",
       "    </tr>\n",
       "    <tr>\n",
       "      <th>PDLength</th>\n",
       "      <td>{'$numberDecimal': '0'}</td>\n",
       "      <td>{'$numberDecimal': '0'}</td>\n",
       "      <td>{'$numberDecimal': '0'}</td>\n",
       "      <td>{'$numberDecimal': '0'}</td>\n",
       "      <td>{'$numberDecimal': '0'}</td>\n",
       "    </tr>\n",
       "    <tr>\n",
       "      <th>PDDimensionUnit</th>\n",
       "      <td>NaN</td>\n",
       "      <td>NaN</td>\n",
       "      <td>NaN</td>\n",
       "      <td>NaN</td>\n",
       "      <td>NaN</td>\n",
       "    </tr>\n",
       "    <tr>\n",
       "      <th>PDWeight</th>\n",
       "      <td>{'$numberDecimal': '0'}</td>\n",
       "      <td>{'$numberDecimal': '0'}</td>\n",
       "      <td>{'$numberDecimal': '0'}</td>\n",
       "      <td>{'$numberDecimal': '0'}</td>\n",
       "      <td>{'$numberDecimal': '0'}</td>\n",
       "    </tr>\n",
       "    <tr>\n",
       "      <th>PDWeightUnit</th>\n",
       "      <td>NaN</td>\n",
       "      <td>NaN</td>\n",
       "      <td>NaN</td>\n",
       "      <td>NaN</td>\n",
       "      <td>NaN</td>\n",
       "    </tr>\n",
       "    <tr>\n",
       "      <th>ShipLocation</th>\n",
       "      <td>34117‌</td>\n",
       "      <td>34117‌</td>\n",
       "      <td>34117‌</td>\n",
       "      <td>34117‌</td>\n",
       "      <td>34117‌</td>\n",
       "    </tr>\n",
       "    <tr>\n",
       "      <th>BuyBoxPriceNew</th>\n",
       "      <td>{'$numberDecimal': '12.99'}</td>\n",
       "      <td>{'$numberDecimal': '6.95'}</td>\n",
       "      <td>{'$numberDecimal': '6.95'}</td>\n",
       "      <td>{'$numberDecimal': '9.80'}</td>\n",
       "      <td>{'$numberDecimal': '6.95'}</td>\n",
       "    </tr>\n",
       "    <tr>\n",
       "      <th>BuyBoxShippingNew</th>\n",
       "      <td>{'$numberDecimal': '0'}</td>\n",
       "      <td>{'$numberDecimal': '0'}</td>\n",
       "      <td>{'$numberDecimal': '0'}</td>\n",
       "      <td>{'$numberDecimal': '0'}</td>\n",
       "      <td>{'$numberDecimal': '0'}</td>\n",
       "    </tr>\n",
       "    <tr>\n",
       "      <th>BuyBoxPriceUsed</th>\n",
       "      <td>{'$numberDecimal': '9.01'}</td>\n",
       "      <td>{'$numberDecimal': '5.99'}</td>\n",
       "      <td>{'$numberDecimal': '5.06'}</td>\n",
       "      <td>{'$numberDecimal': '1.39'}</td>\n",
       "      <td>{'$numberDecimal': '0'}</td>\n",
       "    </tr>\n",
       "    <tr>\n",
       "      <th>BuyBoxShippingUsed</th>\n",
       "      <td>{'$numberDecimal': '0'}</td>\n",
       "      <td>{'$numberDecimal': '0'}</td>\n",
       "      <td>{'$numberDecimal': '0'}</td>\n",
       "      <td>{'$numberDecimal': '3.00'}</td>\n",
       "      <td>{'$numberDecimal': '0'}</td>\n",
       "    </tr>\n",
       "    <tr>\n",
       "      <th>OfferNewMinPrice</th>\n",
       "      <td>{'$numberDecimal': '5'}</td>\n",
       "      <td>{'$numberDecimal': '4'}</td>\n",
       "      <td>{'$numberDecimal': '5'}</td>\n",
       "      <td>{'$numberDecimal': '8'}</td>\n",
       "      <td>{'$numberDecimal': '3'}</td>\n",
       "    </tr>\n",
       "    <tr>\n",
       "      <th>OfferUsedMinPrice</th>\n",
       "      <td>{'$numberDecimal': '0'}</td>\n",
       "      <td>{'$numberDecimal': '0'}</td>\n",
       "      <td>{'$numberDecimal': '0'}</td>\n",
       "      <td>{'$numberDecimal': '0'}</td>\n",
       "      <td>{'$numberDecimal': '0'}</td>\n",
       "    </tr>\n",
       "    <tr>\n",
       "      <th>OfferNewMinShip</th>\n",
       "      <td>{'$numberDecimal': '0'}</td>\n",
       "      <td>{'$numberDecimal': '0'}</td>\n",
       "      <td>{'$numberDecimal': '0'}</td>\n",
       "      <td>{'$numberDecimal': '0'}</td>\n",
       "      <td>{'$numberDecimal': '0'}</td>\n",
       "    </tr>\n",
       "    <tr>\n",
       "      <th>OfferUsedMinShip</th>\n",
       "      <td>{'$numberDecimal': '0'}</td>\n",
       "      <td>{'$numberDecimal': '0'}</td>\n",
       "      <td>{'$numberDecimal': '0'}</td>\n",
       "      <td>{'$numberDecimal': '0'}</td>\n",
       "      <td>{'$numberDecimal': '0'}</td>\n",
       "    </tr>\n",
       "    <tr>\n",
       "      <th>Currency</th>\n",
       "      <td>EUR</td>\n",
       "      <td>EUR</td>\n",
       "      <td>EUR</td>\n",
       "      <td>EUR</td>\n",
       "      <td>EUR</td>\n",
       "    </tr>\n",
       "    <tr>\n",
       "      <th>Stars</th>\n",
       "      <td>{'$numberDecimal': '3.9'}</td>\n",
       "      <td>{'$numberDecimal': '4.9'}</td>\n",
       "      <td>{'$numberDecimal': '4.5'}</td>\n",
       "      <td>{'$numberDecimal': '4.3'}</td>\n",
       "      <td>{'$numberDecimal': '4.7'}</td>\n",
       "    </tr>\n",
       "    <tr>\n",
       "      <th>Comments</th>\n",
       "      <td>23</td>\n",
       "      <td>10</td>\n",
       "      <td>27</td>\n",
       "      <td>93</td>\n",
       "      <td>18</td>\n",
       "    </tr>\n",
       "    <tr>\n",
       "      <th>IsBestSeller</th>\n",
       "      <td>False</td>\n",
       "      <td>False</td>\n",
       "      <td>False</td>\n",
       "      <td>False</td>\n",
       "      <td>False</td>\n",
       "    </tr>\n",
       "    <tr>\n",
       "      <th>IsPrime</th>\n",
       "      <td>True</td>\n",
       "      <td>True</td>\n",
       "      <td>True</td>\n",
       "      <td>True</td>\n",
       "      <td>True</td>\n",
       "    </tr>\n",
       "    <tr>\n",
       "      <th>IsFBA</th>\n",
       "      <td>True</td>\n",
       "      <td>True</td>\n",
       "      <td>True</td>\n",
       "      <td>True</td>\n",
       "      <td>True</td>\n",
       "    </tr>\n",
       "    <tr>\n",
       "      <th>Brand</th>\n",
       "      <td>Entdecken Sie Darius Hinks bei Amazon</td>\n",
       "      <td>Fiona Watt</td>\n",
       "      <td>Hannah Watson</td>\n",
       "      <td>Entdecken Sie Simon Kraft bei Amazon</td>\n",
       "      <td>Entdecken Sie Fiona Watt bei Amazon</td>\n",
       "    </tr>\n",
       "    <tr>\n",
       "      <th>BrandNode</th>\n",
       "      <td>NaN</td>\n",
       "      <td>NaN</td>\n",
       "      <td>NaN</td>\n",
       "      <td>NaN</td>\n",
       "      <td>NaN</td>\n",
       "    </tr>\n",
       "    <tr>\n",
       "      <th>BrandForListing</th>\n",
       "      <td>NaN</td>\n",
       "      <td>NaN</td>\n",
       "      <td>NaN</td>\n",
       "      <td>NaN</td>\n",
       "      <td>NaN</td>\n",
       "    </tr>\n",
       "    <tr>\n",
       "      <th>CategoryPath</th>\n",
       "      <td>[Bücher, Literatur &amp; Fiktion, Unterhaltungslit...</td>\n",
       "      <td>[Bücher, Kinderbücher, Spiel &amp; Spaß]</td>\n",
       "      <td>[Bücher, Kinderbücher, Kunst, Musik &amp; Fotografie]</td>\n",
       "      <td>[Bücher, Ratgeber, Gesundheit &amp; Medizin]</td>\n",
       "      <td>[Bücher, Kinderbücher, Spiel &amp; Spaß]</td>\n",
       "    </tr>\n",
       "    <tr>\n",
       "      <th>CategoryPathS</th>\n",
       "      <td>Bücher&gt;Literatur &amp; Fiktion&gt;Unterhaltungsliteratur</td>\n",
       "      <td>Bücher&gt;Kinderbücher&gt;Spiel &amp; Spaß</td>\n",
       "      <td>Bücher&gt;Kinderbücher&gt;Kunst, Musik &amp; Fotografie</td>\n",
       "      <td>Bücher&gt;Ratgeber&gt;Gesundheit &amp; Medizin</td>\n",
       "      <td>Bücher&gt;Kinderbücher&gt;Spiel &amp; Spaß</td>\n",
       "    </tr>\n",
       "    <tr>\n",
       "      <th>CategoryPathById</th>\n",
       "      <td>[186606, 117, 14166873031]</td>\n",
       "      <td>[186606, 5452736031, 5452805031]</td>\n",
       "      <td>[186606, 5452736031, 5452770031]</td>\n",
       "      <td>[186606, 536302, 189584]</td>\n",
       "      <td>[186606, 5452736031, 5452805031]</td>\n",
       "    </tr>\n",
       "    <tr>\n",
       "      <th>CategoryPathSById</th>\n",
       "      <td>186606&gt;117&gt;14166873031</td>\n",
       "      <td>186606&gt;5452736031&gt;5452805031</td>\n",
       "      <td>186606&gt;5452736031&gt;5452770031</td>\n",
       "      <td>186606&gt;536302&gt;189584</td>\n",
       "      <td>186606&gt;5452736031&gt;5452805031</td>\n",
       "    </tr>\n",
       "    <tr>\n",
       "      <th>Publisher</th>\n",
       "      <td>None</td>\n",
       "      <td>None</td>\n",
       "      <td>None</td>\n",
       "      <td>None</td>\n",
       "      <td>None</td>\n",
       "    </tr>\n",
       "    <tr>\n",
       "      <th>Author</th>\n",
       "      <td>NaN</td>\n",
       "      <td>NaN</td>\n",
       "      <td>NaN</td>\n",
       "      <td>NaN</td>\n",
       "      <td>NaN</td>\n",
       "    </tr>\n",
       "    <tr>\n",
       "      <th>PageCount</th>\n",
       "      <td>NaN</td>\n",
       "      <td>NaN</td>\n",
       "      <td>NaN</td>\n",
       "      <td>NaN</td>\n",
       "      <td>NaN</td>\n",
       "    </tr>\n",
       "    <tr>\n",
       "      <th>Bullets</th>\n",
       "      <td>[]</td>\n",
       "      <td>[]</td>\n",
       "      <td>[]</td>\n",
       "      <td>[]</td>\n",
       "      <td>[]</td>\n",
       "    </tr>\n",
       "    <tr>\n",
       "      <th>BulletsS</th>\n",
       "      <td></td>\n",
       "      <td></td>\n",
       "      <td></td>\n",
       "      <td></td>\n",
       "      <td></td>\n",
       "    </tr>\n",
       "    <tr>\n",
       "      <th>Descriptions</th>\n",
       "      <td>NaN</td>\n",
       "      <td>NaN</td>\n",
       "      <td>NaN</td>\n",
       "      <td>NaN</td>\n",
       "      <td>NaN</td>\n",
       "    </tr>\n",
       "    <tr>\n",
       "      <th>DescriptionsHtml</th>\n",
       "      <td>NaN</td>\n",
       "      <td>NaN</td>\n",
       "      <td>NaN</td>\n",
       "      <td>NaN</td>\n",
       "      <td>NaN</td>\n",
       "    </tr>\n",
       "    <tr>\n",
       "      <th>Videos</th>\n",
       "      <td>[]</td>\n",
       "      <td>[]</td>\n",
       "      <td>[]</td>\n",
       "      <td>[]</td>\n",
       "      <td>[]</td>\n",
       "    </tr>\n",
       "    <tr>\n",
       "      <th>ShippingMessage</th>\n",
       "      <td></td>\n",
       "      <td></td>\n",
       "      <td></td>\n",
       "      <td></td>\n",
       "      <td></td>\n",
       "    </tr>\n",
       "    <tr>\n",
       "      <th>Shipping</th>\n",
       "      <td>{'$numberDecimal': '0'}</td>\n",
       "      <td>{'$numberDecimal': '0'}</td>\n",
       "      <td>{'$numberDecimal': '0'}</td>\n",
       "      <td>{'$numberDecimal': '0'}</td>\n",
       "      <td>{'$numberDecimal': '0'}</td>\n",
       "    </tr>\n",
       "    <tr>\n",
       "      <th>IsFreeShipping</th>\n",
       "      <td>False</td>\n",
       "      <td>False</td>\n",
       "      <td>False</td>\n",
       "      <td>False</td>\n",
       "      <td>False</td>\n",
       "    </tr>\n",
       "    <tr>\n",
       "      <th>DomesticShipping</th>\n",
       "      <td>None</td>\n",
       "      <td>None</td>\n",
       "      <td>None</td>\n",
       "      <td>None</td>\n",
       "      <td>None</td>\n",
       "    </tr>\n",
       "    <tr>\n",
       "      <th>InternationalShipping</th>\n",
       "      <td>None</td>\n",
       "      <td>None</td>\n",
       "      <td>None</td>\n",
       "      <td>None</td>\n",
       "      <td>None</td>\n",
       "    </tr>\n",
       "    <tr>\n",
       "      <th>IsMerchantAmazon</th>\n",
       "      <td>True</td>\n",
       "      <td>True</td>\n",
       "      <td>True</td>\n",
       "      <td>True</td>\n",
       "      <td>True</td>\n",
       "    </tr>\n",
       "    <tr>\n",
       "      <th>Merchant</th>\n",
       "      <td>Amazon.de</td>\n",
       "      <td>Amazon.de</td>\n",
       "      <td>Amazon.de</td>\n",
       "      <td>Amazon.de</td>\n",
       "      <td>Amazon.de</td>\n",
       "    </tr>\n",
       "    <tr>\n",
       "      <th>MerchantId</th>\n",
       "      <td>A3JWKAKR8XB7XF</td>\n",
       "      <td>A3JWKAKR8XB7XF</td>\n",
       "      <td>A3JWKAKR8XB7XF</td>\n",
       "      <td>A3JWKAKR8XB7XF</td>\n",
       "      <td>A3JWKAKR8XB7XF</td>\n",
       "    </tr>\n",
       "    <tr>\n",
       "      <th>SellerName</th>\n",
       "      <td>NaN</td>\n",
       "      <td>NaN</td>\n",
       "      <td>NaN</td>\n",
       "      <td>NaN</td>\n",
       "      <td>NaN</td>\n",
       "    </tr>\n",
       "    <tr>\n",
       "      <th>SellerId</th>\n",
       "      <td>NaN</td>\n",
       "      <td>NaN</td>\n",
       "      <td>NaN</td>\n",
       "      <td>NaN</td>\n",
       "      <td>NaN</td>\n",
       "    </tr>\n",
       "    <tr>\n",
       "      <th>MerchantUsed</th>\n",
       "      <td>reBuy reCommerce GmbH</td>\n",
       "      <td>reBuy reCommerce GmbH</td>\n",
       "      <td>buchgeheimnis</td>\n",
       "      <td>MEDIMOPS</td>\n",
       "      <td></td>\n",
       "    </tr>\n",
       "    <tr>\n",
       "      <th>MerchantIdUsed</th>\n",
       "      <td>A15UX8GPD9OYJE</td>\n",
       "      <td>A15UX8GPD9OYJE</td>\n",
       "      <td>A1REDELOKPR10T</td>\n",
       "      <td>ALYY2EOZQ7QUK</td>\n",
       "      <td></td>\n",
       "    </tr>\n",
       "    <tr>\n",
       "      <th>StockOnHand</th>\n",
       "      <td>10</td>\n",
       "      <td>30</td>\n",
       "      <td>30</td>\n",
       "      <td>30</td>\n",
       "      <td>30</td>\n",
       "    </tr>\n",
       "    <tr>\n",
       "      <th>Available</th>\n",
       "      <td>True</td>\n",
       "      <td>True</td>\n",
       "      <td>True</td>\n",
       "      <td>True</td>\n",
       "      <td>True</td>\n",
       "    </tr>\n",
       "    <tr>\n",
       "      <th>AvailabilityString</th>\n",
       "      <td>Nur noch 10 auf Lager</td>\n",
       "      <td>Auf Lager.</td>\n",
       "      <td>Auf Lager.</td>\n",
       "      <td>Auf Lager.</td>\n",
       "      <td>Auf Lager.</td>\n",
       "    </tr>\n",
       "    <tr>\n",
       "      <th>DeliveryStatus</th>\n",
       "      <td>1</td>\n",
       "      <td>1</td>\n",
       "      <td>1</td>\n",
       "      <td>1</td>\n",
       "      <td>1</td>\n",
       "    </tr>\n",
       "    <tr>\n",
       "      <th>ProductDimensions</th>\n",
       "      <td>None</td>\n",
       "      <td>None</td>\n",
       "      <td>None</td>\n",
       "      <td>None</td>\n",
       "      <td>None</td>\n",
       "    </tr>\n",
       "    <tr>\n",
       "      <th>PackageDimensions</th>\n",
       "      <td>None</td>\n",
       "      <td>None</td>\n",
       "      <td>None</td>\n",
       "      <td>None</td>\n",
       "      <td>None</td>\n",
       "    </tr>\n",
       "    <tr>\n",
       "      <th>ItemWeight</th>\n",
       "      <td></td>\n",
       "      <td></td>\n",
       "      <td></td>\n",
       "      <td></td>\n",
       "      <td></td>\n",
       "    </tr>\n",
       "    <tr>\n",
       "      <th>ShippingWeight</th>\n",
       "      <td>None</td>\n",
       "      <td>None</td>\n",
       "      <td>None</td>\n",
       "      <td>None</td>\n",
       "      <td>None</td>\n",
       "    </tr>\n",
       "    <tr>\n",
       "      <th>BestSellersRanks</th>\n",
       "      <td>[]</td>\n",
       "      <td>[]</td>\n",
       "      <td>[]</td>\n",
       "      <td>[]</td>\n",
       "      <td>[]</td>\n",
       "    </tr>\n",
       "    <tr>\n",
       "      <th>Manufacturer</th>\n",
       "      <td>None</td>\n",
       "      <td>None</td>\n",
       "      <td>None</td>\n",
       "      <td>None</td>\n",
       "      <td>None</td>\n",
       "    </tr>\n",
       "    <tr>\n",
       "      <th>FirstListed</th>\n",
       "      <td>{'$date': '0001-01-01T00:00:00.000Z'}</td>\n",
       "      <td>{'$date': '0001-01-01T00:00:00.000Z'}</td>\n",
       "      <td>{'$date': '0001-01-01T00:00:00.000Z'}</td>\n",
       "      <td>{'$date': '0001-01-01T00:00:00.000Z'}</td>\n",
       "      <td>{'$date': '0001-01-01T00:00:00.000Z'}</td>\n",
       "    </tr>\n",
       "    <tr>\n",
       "      <th>Department</th>\n",
       "      <td>None</td>\n",
       "      <td>None</td>\n",
       "      <td>None</td>\n",
       "      <td>None</td>\n",
       "      <td>None</td>\n",
       "    </tr>\n",
       "    <tr>\n",
       "      <th>ItemModelNumber</th>\n",
       "      <td>None</td>\n",
       "      <td>None</td>\n",
       "      <td>None</td>\n",
       "      <td>None</td>\n",
       "      <td>None</td>\n",
       "    </tr>\n",
       "    <tr>\n",
       "      <th>IsDiscontinuedbyManufacturer</th>\n",
       "      <td>False</td>\n",
       "      <td>False</td>\n",
       "      <td>False</td>\n",
       "      <td>False</td>\n",
       "      <td>False</td>\n",
       "    </tr>\n",
       "    <tr>\n",
       "      <th>PropValues</th>\n",
       "      <td>[{'PropertyName': 'Authors', 'PropertyValue': ...</td>\n",
       "      <td>[{'PropertyName': 'Authors', 'PropertyValue': ...</td>\n",
       "      <td>[{'PropertyName': 'Authors', 'PropertyValue': ...</td>\n",
       "      <td>[{'PropertyName': 'Authors', 'PropertyValue': ...</td>\n",
       "      <td>[{'PropertyName': 'Authors', 'PropertyValue': ...</td>\n",
       "    </tr>\n",
       "    <tr>\n",
       "      <th>Keywords</th>\n",
       "      <td></td>\n",
       "      <td></td>\n",
       "      <td></td>\n",
       "      <td></td>\n",
       "      <td></td>\n",
       "    </tr>\n",
       "    <tr>\n",
       "      <th>OfferLists</th>\n",
       "      <td>[]</td>\n",
       "      <td>[{'DataDate': {'$date': '2020-10-25T07:30:17.0...</td>\n",
       "      <td>[{'DataDate': {'$date': '2020-10-25T07:31:17.3...</td>\n",
       "      <td>[{'DataDate': {'$date': '2020-10-25T08:14:04.3...</td>\n",
       "      <td>[{'DataDate': {'$date': '2020-10-25T07:30:43.2...</td>\n",
       "    </tr>\n",
       "    <tr>\n",
       "      <th>OfferMessages</th>\n",
       "      <td>[5 Gebraucht ab 9,01 €\\r\\n35 Neu ab 12,99 €]</td>\n",
       "      <td>[4 Gebraucht ab 5,99 €\\r\\n22 Neu ab 6,95 €]</td>\n",
       "      <td>[5 Gebraucht ab 2,08 €\\r\\n20 Neu ab 6,95 €]</td>\n",
       "      <td>[8 Gebraucht ab 1,39 €\\r\\n1 Neu ab 9,80 €]</td>\n",
       "      <td>[3 Gebraucht ab 6,95 €\\r\\n21 Neu ab 6,95 €]</td>\n",
       "    </tr>\n",
       "    <tr>\n",
       "      <th>OfferCountNew</th>\n",
       "      <td>5</td>\n",
       "      <td>4</td>\n",
       "      <td>5</td>\n",
       "      <td>8</td>\n",
       "      <td>3</td>\n",
       "    </tr>\n",
       "    <tr>\n",
       "      <th>OfferCountUsed</th>\n",
       "      <td>0</td>\n",
       "      <td>0</td>\n",
       "      <td>0</td>\n",
       "      <td>0</td>\n",
       "      <td>0</td>\n",
       "    </tr>\n",
       "    <tr>\n",
       "      <th>DiscountAmount</th>\n",
       "      <td>{'$numberDecimal': '0'}</td>\n",
       "      <td>{'$numberDecimal': '0'}</td>\n",
       "      <td>{'$numberDecimal': '0'}</td>\n",
       "      <td>{'$numberDecimal': '0'}</td>\n",
       "      <td>{'$numberDecimal': '0'}</td>\n",
       "    </tr>\n",
       "    <tr>\n",
       "      <th>HasDiscount</th>\n",
       "      <td>False</td>\n",
       "      <td>False</td>\n",
       "      <td>False</td>\n",
       "      <td>False</td>\n",
       "      <td>False</td>\n",
       "    </tr>\n",
       "  </tbody>\n",
       "</table>\n",
       "</div>"
      ],
      "text/plain": [
       "                                                                              0  \\\n",
       "_id                                        {'$oid': '5f95295e33f37739666330c3'}   \n",
       "DeliveryMessages                                                             []   \n",
       "AllVariationNameValues                                                       []   \n",
       "CurrentVariationNameValues                                                   []   \n",
       "DataStatus                                                                    4   \n",
       "DataStatusText                                                        Completed   \n",
       "DataDate                                  {'$date': '2020-10-25T07:29:25.584Z'}   \n",
       "IsTranslated                                                              False   \n",
       "MarketPlaceId                                                    A1PA6795UKMFR9   \n",
       "Asin                                                                 1781934606   \n",
       "ProductAsin                                                          1781934606   \n",
       "ParentAsin                                                                  NaN   \n",
       "IsParent                                                                  False   \n",
       "Title                         Warhammer Age of Sigmar - Im Reich der Unbegra...   \n",
       "RelatedAsinList                                                              []   \n",
       "TitleForListing                                                             NaN   \n",
       "ProductLink                                                                 NaN   \n",
       "OfferLink                                                                   NaN   \n",
       "ImageLink                                                                   NaN   \n",
       "ImageLinkFull                                                               NaN   \n",
       "IsAddOn                                                                   False   \n",
       "Images                                                                       []   \n",
       "HighResImages                                                                []   \n",
       "MainImage                     https://images-na.ssl-images-amazon.com/images...   \n",
       "ImageArray                    [https://images-na.ssl-images-amazon.com/image...   \n",
       "ManipulatedImages                                                            []   \n",
       "Condition                                                         used_like_new   \n",
       "LanguageId                                                                    0   \n",
       "Language                                                                   None   \n",
       "Price1                                              {'$numberDecimal': '12.99'}   \n",
       "Price2                                                  {'$numberDecimal': '0'}   \n",
       "RetailPrice                                             {'$numberDecimal': '0'}   \n",
       "PDWidth                                                 {'$numberDecimal': '0'}   \n",
       "PDHeight                                                {'$numberDecimal': '0'}   \n",
       "PDLength                                                {'$numberDecimal': '0'}   \n",
       "PDDimensionUnit                                                             NaN   \n",
       "PDWeight                                                {'$numberDecimal': '0'}   \n",
       "PDWeightUnit                                                                NaN   \n",
       "ShipLocation                                                             34117‌   \n",
       "BuyBoxPriceNew                                      {'$numberDecimal': '12.99'}   \n",
       "BuyBoxShippingNew                                       {'$numberDecimal': '0'}   \n",
       "BuyBoxPriceUsed                                      {'$numberDecimal': '9.01'}   \n",
       "BuyBoxShippingUsed                                      {'$numberDecimal': '0'}   \n",
       "OfferNewMinPrice                                        {'$numberDecimal': '5'}   \n",
       "OfferUsedMinPrice                                       {'$numberDecimal': '0'}   \n",
       "OfferNewMinShip                                         {'$numberDecimal': '0'}   \n",
       "OfferUsedMinShip                                        {'$numberDecimal': '0'}   \n",
       "Currency                                                                    EUR   \n",
       "Stars                                                 {'$numberDecimal': '3.9'}   \n",
       "Comments                                                                     23   \n",
       "IsBestSeller                                                              False   \n",
       "IsPrime                                                                    True   \n",
       "IsFBA                                                                      True   \n",
       "Brand                                     Entdecken Sie Darius Hinks bei Amazon   \n",
       "BrandNode                                                                   NaN   \n",
       "BrandForListing                                                             NaN   \n",
       "CategoryPath                  [Bücher, Literatur & Fiktion, Unterhaltungslit...   \n",
       "CategoryPathS                 Bücher>Literatur & Fiktion>Unterhaltungsliteratur   \n",
       "CategoryPathById                                     [186606, 117, 14166873031]   \n",
       "CategoryPathSById                                        186606>117>14166873031   \n",
       "Publisher                                                                  None   \n",
       "Author                                                                      NaN   \n",
       "PageCount                                                                   NaN   \n",
       "Bullets                                                                      []   \n",
       "BulletsS                                                                          \n",
       "Descriptions                                                                NaN   \n",
       "DescriptionsHtml                                                            NaN   \n",
       "Videos                                                                       []   \n",
       "ShippingMessage                                                                   \n",
       "Shipping                                                {'$numberDecimal': '0'}   \n",
       "IsFreeShipping                                                            False   \n",
       "DomesticShipping                                                           None   \n",
       "InternationalShipping                                                      None   \n",
       "IsMerchantAmazon                                                           True   \n",
       "Merchant                                                              Amazon.de   \n",
       "MerchantId                                                       A3JWKAKR8XB7XF   \n",
       "SellerName                                                                  NaN   \n",
       "SellerId                                                                    NaN   \n",
       "MerchantUsed                                              reBuy reCommerce GmbH   \n",
       "MerchantIdUsed                                                   A15UX8GPD9OYJE   \n",
       "StockOnHand                                                                  10   \n",
       "Available                                                                  True   \n",
       "AvailabilityString                                        Nur noch 10 auf Lager   \n",
       "DeliveryStatus                                                                1   \n",
       "ProductDimensions                                                          None   \n",
       "PackageDimensions                                                          None   \n",
       "ItemWeight                                                                        \n",
       "ShippingWeight                                                             None   \n",
       "BestSellersRanks                                                             []   \n",
       "Manufacturer                                                               None   \n",
       "FirstListed                               {'$date': '0001-01-01T00:00:00.000Z'}   \n",
       "Department                                                                 None   \n",
       "ItemModelNumber                                                            None   \n",
       "IsDiscontinuedbyManufacturer                                              False   \n",
       "PropValues                    [{'PropertyName': 'Authors', 'PropertyValue': ...   \n",
       "Keywords                                                                          \n",
       "OfferLists                                                                   []   \n",
       "OfferMessages                      [5 Gebraucht ab 9,01 €\\r\\n35 Neu ab 12,99 €]   \n",
       "OfferCountNew                                                                 5   \n",
       "OfferCountUsed                                                                0   \n",
       "DiscountAmount                                          {'$numberDecimal': '0'}   \n",
       "HasDiscount                                                               False   \n",
       "\n",
       "                                                                              1  \\\n",
       "_id                                        {'$oid': '5f95295e33f37739666330c8'}   \n",
       "DeliveryMessages                                                             []   \n",
       "AllVariationNameValues                                                       []   \n",
       "CurrentVariationNameValues                                                   []   \n",
       "DataStatus                                                                    4   \n",
       "DataStatusText                                                        Completed   \n",
       "DataDate                                  {'$date': '2020-10-25T07:29:25.592Z'}   \n",
       "IsTranslated                                                              False   \n",
       "MarketPlaceId                                                    A1PA6795UKMFR9   \n",
       "Asin                                                                 1782325956   \n",
       "ProductAsin                                                          1782325956   \n",
       "ParentAsin                                                                  NaN   \n",
       "IsParent                                                                  False   \n",
       "Title                                     Mein Stickerbuch: Abenteuer Raumfahrt   \n",
       "RelatedAsinList                                                              []   \n",
       "TitleForListing                                                             NaN   \n",
       "ProductLink                                                                 NaN   \n",
       "OfferLink                                                                   NaN   \n",
       "ImageLink                                                                   NaN   \n",
       "ImageLinkFull                                                               NaN   \n",
       "IsAddOn                                                                   False   \n",
       "Images                                                                       []   \n",
       "HighResImages                                                                []   \n",
       "MainImage                     https://images-na.ssl-images-amazon.com/images...   \n",
       "ImageArray                    [https://images-na.ssl-images-amazon.com/image...   \n",
       "ManipulatedImages                                                            []   \n",
       "Condition                                                         used_like_new   \n",
       "LanguageId                                                                    0   \n",
       "Language                                                                   None   \n",
       "Price1                                               {'$numberDecimal': '6.95'}   \n",
       "Price2                                                  {'$numberDecimal': '0'}   \n",
       "RetailPrice                                             {'$numberDecimal': '0'}   \n",
       "PDWidth                                                 {'$numberDecimal': '0'}   \n",
       "PDHeight                                                {'$numberDecimal': '0'}   \n",
       "PDLength                                                {'$numberDecimal': '0'}   \n",
       "PDDimensionUnit                                                             NaN   \n",
       "PDWeight                                                {'$numberDecimal': '0'}   \n",
       "PDWeightUnit                                                                NaN   \n",
       "ShipLocation                                                             34117‌   \n",
       "BuyBoxPriceNew                                       {'$numberDecimal': '6.95'}   \n",
       "BuyBoxShippingNew                                       {'$numberDecimal': '0'}   \n",
       "BuyBoxPriceUsed                                      {'$numberDecimal': '5.99'}   \n",
       "BuyBoxShippingUsed                                      {'$numberDecimal': '0'}   \n",
       "OfferNewMinPrice                                        {'$numberDecimal': '4'}   \n",
       "OfferUsedMinPrice                                       {'$numberDecimal': '0'}   \n",
       "OfferNewMinShip                                         {'$numberDecimal': '0'}   \n",
       "OfferUsedMinShip                                        {'$numberDecimal': '0'}   \n",
       "Currency                                                                    EUR   \n",
       "Stars                                                 {'$numberDecimal': '4.9'}   \n",
       "Comments                                                                     10   \n",
       "IsBestSeller                                                              False   \n",
       "IsPrime                                                                    True   \n",
       "IsFBA                                                                      True   \n",
       "Brand                                                                Fiona Watt   \n",
       "BrandNode                                                                   NaN   \n",
       "BrandForListing                                                             NaN   \n",
       "CategoryPath                               [Bücher, Kinderbücher, Spiel & Spaß]   \n",
       "CategoryPathS                                  Bücher>Kinderbücher>Spiel & Spaß   \n",
       "CategoryPathById                               [186606, 5452736031, 5452805031]   \n",
       "CategoryPathSById                                  186606>5452736031>5452805031   \n",
       "Publisher                                                                  None   \n",
       "Author                                                                      NaN   \n",
       "PageCount                                                                   NaN   \n",
       "Bullets                                                                      []   \n",
       "BulletsS                                                                          \n",
       "Descriptions                                                                NaN   \n",
       "DescriptionsHtml                                                            NaN   \n",
       "Videos                                                                       []   \n",
       "ShippingMessage                                                                   \n",
       "Shipping                                                {'$numberDecimal': '0'}   \n",
       "IsFreeShipping                                                            False   \n",
       "DomesticShipping                                                           None   \n",
       "InternationalShipping                                                      None   \n",
       "IsMerchantAmazon                                                           True   \n",
       "Merchant                                                              Amazon.de   \n",
       "MerchantId                                                       A3JWKAKR8XB7XF   \n",
       "SellerName                                                                  NaN   \n",
       "SellerId                                                                    NaN   \n",
       "MerchantUsed                                              reBuy reCommerce GmbH   \n",
       "MerchantIdUsed                                                   A15UX8GPD9OYJE   \n",
       "StockOnHand                                                                  30   \n",
       "Available                                                                  True   \n",
       "AvailabilityString                                                   Auf Lager.   \n",
       "DeliveryStatus                                                                1   \n",
       "ProductDimensions                                                          None   \n",
       "PackageDimensions                                                          None   \n",
       "ItemWeight                                                                        \n",
       "ShippingWeight                                                             None   \n",
       "BestSellersRanks                                                             []   \n",
       "Manufacturer                                                               None   \n",
       "FirstListed                               {'$date': '0001-01-01T00:00:00.000Z'}   \n",
       "Department                                                                 None   \n",
       "ItemModelNumber                                                            None   \n",
       "IsDiscontinuedbyManufacturer                                              False   \n",
       "PropValues                    [{'PropertyName': 'Authors', 'PropertyValue': ...   \n",
       "Keywords                                                                          \n",
       "OfferLists                    [{'DataDate': {'$date': '2020-10-25T07:30:17.0...   \n",
       "OfferMessages                       [4 Gebraucht ab 5,99 €\\r\\n22 Neu ab 6,95 €]   \n",
       "OfferCountNew                                                                 4   \n",
       "OfferCountUsed                                                                0   \n",
       "DiscountAmount                                          {'$numberDecimal': '0'}   \n",
       "HasDiscount                                                               False   \n",
       "\n",
       "                                                                              2  \\\n",
       "_id                                        {'$oid': '5f95295f33f37739666330d1'}   \n",
       "DeliveryMessages                                                             []   \n",
       "AllVariationNameValues                                                       []   \n",
       "CurrentVariationNameValues                                                   []   \n",
       "DataStatus                                                                    4   \n",
       "DataStatusText                                                        Completed   \n",
       "DataDate                                  {'$date': '2020-10-25T07:29:26.501Z'}   \n",
       "IsTranslated                                                              False   \n",
       "MarketPlaceId                                                    A1PA6795UKMFR9   \n",
       "Asin                                                                 178232707X   \n",
       "ProductAsin                                                          178232707X   \n",
       "ParentAsin                                                                  NaN   \n",
       "IsParent                                                                  False   \n",
       "Title                         Mein Wisch-und-weg-Buch Schulstart: Ich schrei...   \n",
       "RelatedAsinList                                                              []   \n",
       "TitleForListing                                                             NaN   \n",
       "ProductLink                                                                 NaN   \n",
       "OfferLink                                                                   NaN   \n",
       "ImageLink                                                                   NaN   \n",
       "ImageLinkFull                                                               NaN   \n",
       "IsAddOn                                                                   False   \n",
       "Images                                                                       []   \n",
       "HighResImages                                                                []   \n",
       "MainImage                     https://images-na.ssl-images-amazon.com/images...   \n",
       "ImageArray                    [https://images-na.ssl-images-amazon.com/image...   \n",
       "ManipulatedImages                                                            []   \n",
       "Condition                                                         used_like_new   \n",
       "LanguageId                                                                    0   \n",
       "Language                                                                   None   \n",
       "Price1                                               {'$numberDecimal': '6.95'}   \n",
       "Price2                                                  {'$numberDecimal': '0'}   \n",
       "RetailPrice                                             {'$numberDecimal': '0'}   \n",
       "PDWidth                                                 {'$numberDecimal': '0'}   \n",
       "PDHeight                                                {'$numberDecimal': '0'}   \n",
       "PDLength                                                {'$numberDecimal': '0'}   \n",
       "PDDimensionUnit                                                             NaN   \n",
       "PDWeight                                                {'$numberDecimal': '0'}   \n",
       "PDWeightUnit                                                                NaN   \n",
       "ShipLocation                                                             34117‌   \n",
       "BuyBoxPriceNew                                       {'$numberDecimal': '6.95'}   \n",
       "BuyBoxShippingNew                                       {'$numberDecimal': '0'}   \n",
       "BuyBoxPriceUsed                                      {'$numberDecimal': '5.06'}   \n",
       "BuyBoxShippingUsed                                      {'$numberDecimal': '0'}   \n",
       "OfferNewMinPrice                                        {'$numberDecimal': '5'}   \n",
       "OfferUsedMinPrice                                       {'$numberDecimal': '0'}   \n",
       "OfferNewMinShip                                         {'$numberDecimal': '0'}   \n",
       "OfferUsedMinShip                                        {'$numberDecimal': '0'}   \n",
       "Currency                                                                    EUR   \n",
       "Stars                                                 {'$numberDecimal': '4.5'}   \n",
       "Comments                                                                     27   \n",
       "IsBestSeller                                                              False   \n",
       "IsPrime                                                                    True   \n",
       "IsFBA                                                                      True   \n",
       "Brand                                                             Hannah Watson   \n",
       "BrandNode                                                                   NaN   \n",
       "BrandForListing                                                             NaN   \n",
       "CategoryPath                  [Bücher, Kinderbücher, Kunst, Musik & Fotografie]   \n",
       "CategoryPathS                     Bücher>Kinderbücher>Kunst, Musik & Fotografie   \n",
       "CategoryPathById                               [186606, 5452736031, 5452770031]   \n",
       "CategoryPathSById                                  186606>5452736031>5452770031   \n",
       "Publisher                                                                  None   \n",
       "Author                                                                      NaN   \n",
       "PageCount                                                                   NaN   \n",
       "Bullets                                                                      []   \n",
       "BulletsS                                                                          \n",
       "Descriptions                                                                NaN   \n",
       "DescriptionsHtml                                                            NaN   \n",
       "Videos                                                                       []   \n",
       "ShippingMessage                                                                   \n",
       "Shipping                                                {'$numberDecimal': '0'}   \n",
       "IsFreeShipping                                                            False   \n",
       "DomesticShipping                                                           None   \n",
       "InternationalShipping                                                      None   \n",
       "IsMerchantAmazon                                                           True   \n",
       "Merchant                                                              Amazon.de   \n",
       "MerchantId                                                       A3JWKAKR8XB7XF   \n",
       "SellerName                                                                  NaN   \n",
       "SellerId                                                                    NaN   \n",
       "MerchantUsed                                                      buchgeheimnis   \n",
       "MerchantIdUsed                                                   A1REDELOKPR10T   \n",
       "StockOnHand                                                                  30   \n",
       "Available                                                                  True   \n",
       "AvailabilityString                                                   Auf Lager.   \n",
       "DeliveryStatus                                                                1   \n",
       "ProductDimensions                                                          None   \n",
       "PackageDimensions                                                          None   \n",
       "ItemWeight                                                                        \n",
       "ShippingWeight                                                             None   \n",
       "BestSellersRanks                                                             []   \n",
       "Manufacturer                                                               None   \n",
       "FirstListed                               {'$date': '0001-01-01T00:00:00.000Z'}   \n",
       "Department                                                                 None   \n",
       "ItemModelNumber                                                            None   \n",
       "IsDiscontinuedbyManufacturer                                              False   \n",
       "PropValues                    [{'PropertyName': 'Authors', 'PropertyValue': ...   \n",
       "Keywords                                                                          \n",
       "OfferLists                    [{'DataDate': {'$date': '2020-10-25T07:31:17.3...   \n",
       "OfferMessages                       [5 Gebraucht ab 2,08 €\\r\\n20 Neu ab 6,95 €]   \n",
       "OfferCountNew                                                                 5   \n",
       "OfferCountUsed                                                                0   \n",
       "DiscountAmount                                          {'$numberDecimal': '0'}   \n",
       "HasDiscount                                                               False   \n",
       "\n",
       "                                                                              3  \\\n",
       "_id                                        {'$oid': '5f95296033f37739666330da'}   \n",
       "DeliveryMessages                                                             []   \n",
       "AllVariationNameValues                                                       []   \n",
       "CurrentVariationNameValues                                                   []   \n",
       "DataStatus                                                                    4   \n",
       "DataStatusText                                                        Completed   \n",
       "DataDate                                  {'$date': '2020-10-25T07:29:25.575Z'}   \n",
       "IsTranslated                                                              False   \n",
       "MarketPlaceId                                                    A1PA6795UKMFR9   \n",
       "Asin                                                                 1495335216   \n",
       "ProductAsin                                                          1495335216   \n",
       "ParentAsin                                                                  NaN   \n",
       "IsParent                                                                  False   \n",
       "Title                         Praxishandbuch Healing Code: Weiterentwicklung...   \n",
       "RelatedAsinList                                                              []   \n",
       "TitleForListing                                                             NaN   \n",
       "ProductLink                                                                 NaN   \n",
       "OfferLink                                                                   NaN   \n",
       "ImageLink                                                                   NaN   \n",
       "ImageLinkFull                                                               NaN   \n",
       "IsAddOn                                                                   False   \n",
       "Images                                                                       []   \n",
       "HighResImages                                                                []   \n",
       "MainImage                     https://images-na.ssl-images-amazon.com/images...   \n",
       "ImageArray                    [https://images-na.ssl-images-amazon.com/image...   \n",
       "ManipulatedImages                                                            []   \n",
       "Condition                                                         used_like_new   \n",
       "LanguageId                                                                    0   \n",
       "Language                                                                   None   \n",
       "Price1                                               {'$numberDecimal': '9.80'}   \n",
       "Price2                                                  {'$numberDecimal': '0'}   \n",
       "RetailPrice                                             {'$numberDecimal': '0'}   \n",
       "PDWidth                                                 {'$numberDecimal': '0'}   \n",
       "PDHeight                                                {'$numberDecimal': '0'}   \n",
       "PDLength                                                {'$numberDecimal': '0'}   \n",
       "PDDimensionUnit                                                             NaN   \n",
       "PDWeight                                                {'$numberDecimal': '0'}   \n",
       "PDWeightUnit                                                                NaN   \n",
       "ShipLocation                                                             34117‌   \n",
       "BuyBoxPriceNew                                       {'$numberDecimal': '9.80'}   \n",
       "BuyBoxShippingNew                                       {'$numberDecimal': '0'}   \n",
       "BuyBoxPriceUsed                                      {'$numberDecimal': '1.39'}   \n",
       "BuyBoxShippingUsed                                   {'$numberDecimal': '3.00'}   \n",
       "OfferNewMinPrice                                        {'$numberDecimal': '8'}   \n",
       "OfferUsedMinPrice                                       {'$numberDecimal': '0'}   \n",
       "OfferNewMinShip                                         {'$numberDecimal': '0'}   \n",
       "OfferUsedMinShip                                        {'$numberDecimal': '0'}   \n",
       "Currency                                                                    EUR   \n",
       "Stars                                                 {'$numberDecimal': '4.3'}   \n",
       "Comments                                                                     93   \n",
       "IsBestSeller                                                              False   \n",
       "IsPrime                                                                    True   \n",
       "IsFBA                                                                      True   \n",
       "Brand                                      Entdecken Sie Simon Kraft bei Amazon   \n",
       "BrandNode                                                                   NaN   \n",
       "BrandForListing                                                             NaN   \n",
       "CategoryPath                           [Bücher, Ratgeber, Gesundheit & Medizin]   \n",
       "CategoryPathS                              Bücher>Ratgeber>Gesundheit & Medizin   \n",
       "CategoryPathById                                       [186606, 536302, 189584]   \n",
       "CategoryPathSById                                          186606>536302>189584   \n",
       "Publisher                                                                  None   \n",
       "Author                                                                      NaN   \n",
       "PageCount                                                                   NaN   \n",
       "Bullets                                                                      []   \n",
       "BulletsS                                                                          \n",
       "Descriptions                                                                NaN   \n",
       "DescriptionsHtml                                                            NaN   \n",
       "Videos                                                                       []   \n",
       "ShippingMessage                                                                   \n",
       "Shipping                                                {'$numberDecimal': '0'}   \n",
       "IsFreeShipping                                                            False   \n",
       "DomesticShipping                                                           None   \n",
       "InternationalShipping                                                      None   \n",
       "IsMerchantAmazon                                                           True   \n",
       "Merchant                                                              Amazon.de   \n",
       "MerchantId                                                       A3JWKAKR8XB7XF   \n",
       "SellerName                                                                  NaN   \n",
       "SellerId                                                                    NaN   \n",
       "MerchantUsed                                                           MEDIMOPS   \n",
       "MerchantIdUsed                                                    ALYY2EOZQ7QUK   \n",
       "StockOnHand                                                                  30   \n",
       "Available                                                                  True   \n",
       "AvailabilityString                                                   Auf Lager.   \n",
       "DeliveryStatus                                                                1   \n",
       "ProductDimensions                                                          None   \n",
       "PackageDimensions                                                          None   \n",
       "ItemWeight                                                                        \n",
       "ShippingWeight                                                             None   \n",
       "BestSellersRanks                                                             []   \n",
       "Manufacturer                                                               None   \n",
       "FirstListed                               {'$date': '0001-01-01T00:00:00.000Z'}   \n",
       "Department                                                                 None   \n",
       "ItemModelNumber                                                            None   \n",
       "IsDiscontinuedbyManufacturer                                              False   \n",
       "PropValues                    [{'PropertyName': 'Authors', 'PropertyValue': ...   \n",
       "Keywords                                                                          \n",
       "OfferLists                    [{'DataDate': {'$date': '2020-10-25T08:14:04.3...   \n",
       "OfferMessages                        [8 Gebraucht ab 1,39 €\\r\\n1 Neu ab 9,80 €]   \n",
       "OfferCountNew                                                                 8   \n",
       "OfferCountUsed                                                                0   \n",
       "DiscountAmount                                          {'$numberDecimal': '0'}   \n",
       "HasDiscount                                                               False   \n",
       "\n",
       "                                                                              4  \n",
       "_id                                        {'$oid': '5f95296033f37739666330e2'}  \n",
       "DeliveryMessages                                                             []  \n",
       "AllVariationNameValues                                                       []  \n",
       "CurrentVariationNameValues                                                   []  \n",
       "DataStatus                                                                    4  \n",
       "DataStatusText                                                        Completed  \n",
       "DataDate                                  {'$date': '2020-10-25T07:29:25.589Z'}  \n",
       "IsTranslated                                                              False  \n",
       "MarketPlaceId                                                    A1PA6795UKMFR9  \n",
       "Asin                                                                 178232321X  \n",
       "ProductAsin                                                          178232321X  \n",
       "ParentAsin                                                                  NaN  \n",
       "IsParent                                                                  False  \n",
       "Title                                Mein Mode-Stickerbuch: Hochzeitskollektion  \n",
       "RelatedAsinList                                                              []  \n",
       "TitleForListing                                                             NaN  \n",
       "ProductLink                                                                 NaN  \n",
       "OfferLink                                                                   NaN  \n",
       "ImageLink                                                                   NaN  \n",
       "ImageLinkFull                                                               NaN  \n",
       "IsAddOn                                                                   False  \n",
       "Images                                                                       []  \n",
       "HighResImages                                                                []  \n",
       "MainImage                     https://images-na.ssl-images-amazon.com/images...  \n",
       "ImageArray                    [https://images-na.ssl-images-amazon.com/image...  \n",
       "ManipulatedImages                                                            []  \n",
       "Condition                                                         used_like_new  \n",
       "LanguageId                                                                    0  \n",
       "Language                                                                   None  \n",
       "Price1                                               {'$numberDecimal': '6.95'}  \n",
       "Price2                                                  {'$numberDecimal': '0'}  \n",
       "RetailPrice                                             {'$numberDecimal': '0'}  \n",
       "PDWidth                                                 {'$numberDecimal': '0'}  \n",
       "PDHeight                                                {'$numberDecimal': '0'}  \n",
       "PDLength                                                {'$numberDecimal': '0'}  \n",
       "PDDimensionUnit                                                             NaN  \n",
       "PDWeight                                                {'$numberDecimal': '0'}  \n",
       "PDWeightUnit                                                                NaN  \n",
       "ShipLocation                                                             34117‌  \n",
       "BuyBoxPriceNew                                       {'$numberDecimal': '6.95'}  \n",
       "BuyBoxShippingNew                                       {'$numberDecimal': '0'}  \n",
       "BuyBoxPriceUsed                                         {'$numberDecimal': '0'}  \n",
       "BuyBoxShippingUsed                                      {'$numberDecimal': '0'}  \n",
       "OfferNewMinPrice                                        {'$numberDecimal': '3'}  \n",
       "OfferUsedMinPrice                                       {'$numberDecimal': '0'}  \n",
       "OfferNewMinShip                                         {'$numberDecimal': '0'}  \n",
       "OfferUsedMinShip                                        {'$numberDecimal': '0'}  \n",
       "Currency                                                                    EUR  \n",
       "Stars                                                 {'$numberDecimal': '4.7'}  \n",
       "Comments                                                                     18  \n",
       "IsBestSeller                                                              False  \n",
       "IsPrime                                                                    True  \n",
       "IsFBA                                                                      True  \n",
       "Brand                                       Entdecken Sie Fiona Watt bei Amazon  \n",
       "BrandNode                                                                   NaN  \n",
       "BrandForListing                                                             NaN  \n",
       "CategoryPath                               [Bücher, Kinderbücher, Spiel & Spaß]  \n",
       "CategoryPathS                                  Bücher>Kinderbücher>Spiel & Spaß  \n",
       "CategoryPathById                               [186606, 5452736031, 5452805031]  \n",
       "CategoryPathSById                                  186606>5452736031>5452805031  \n",
       "Publisher                                                                  None  \n",
       "Author                                                                      NaN  \n",
       "PageCount                                                                   NaN  \n",
       "Bullets                                                                      []  \n",
       "BulletsS                                                                         \n",
       "Descriptions                                                                NaN  \n",
       "DescriptionsHtml                                                            NaN  \n",
       "Videos                                                                       []  \n",
       "ShippingMessage                                                                  \n",
       "Shipping                                                {'$numberDecimal': '0'}  \n",
       "IsFreeShipping                                                            False  \n",
       "DomesticShipping                                                           None  \n",
       "InternationalShipping                                                      None  \n",
       "IsMerchantAmazon                                                           True  \n",
       "Merchant                                                              Amazon.de  \n",
       "MerchantId                                                       A3JWKAKR8XB7XF  \n",
       "SellerName                                                                  NaN  \n",
       "SellerId                                                                    NaN  \n",
       "MerchantUsed                                                                     \n",
       "MerchantIdUsed                                                                   \n",
       "StockOnHand                                                                  30  \n",
       "Available                                                                  True  \n",
       "AvailabilityString                                                   Auf Lager.  \n",
       "DeliveryStatus                                                                1  \n",
       "ProductDimensions                                                          None  \n",
       "PackageDimensions                                                          None  \n",
       "ItemWeight                                                                       \n",
       "ShippingWeight                                                             None  \n",
       "BestSellersRanks                                                             []  \n",
       "Manufacturer                                                               None  \n",
       "FirstListed                               {'$date': '0001-01-01T00:00:00.000Z'}  \n",
       "Department                                                                 None  \n",
       "ItemModelNumber                                                            None  \n",
       "IsDiscontinuedbyManufacturer                                              False  \n",
       "PropValues                    [{'PropertyName': 'Authors', 'PropertyValue': ...  \n",
       "Keywords                                                                         \n",
       "OfferLists                    [{'DataDate': {'$date': '2020-10-25T07:30:43.2...  \n",
       "OfferMessages                       [3 Gebraucht ab 6,95 €\\r\\n21 Neu ab 6,95 €]  \n",
       "OfferCountNew                                                                 3  \n",
       "OfferCountUsed                                                                0  \n",
       "DiscountAmount                                          {'$numberDecimal': '0'}  \n",
       "HasDiscount                                                               False  "
      ]
     },
     "execution_count": 49,
     "metadata": {},
     "output_type": "execute_result"
    }
   ],
   "source": [
    "df.head().T"
   ]
  },
  {
   "cell_type": "code",
   "execution_count": 5,
   "metadata": {},
   "outputs": [],
   "source": [
    "df2=df[['Asin','Title', 'CategoryPath', 'Price1','PropValues','Comments','Stars']]"
   ]
  },
  {
   "cell_type": "code",
   "execution_count": 6,
   "metadata": {},
   "outputs": [
    {
     "data": {
      "text/html": [
       "<div>\n",
       "<style scoped>\n",
       "    .dataframe tbody tr th:only-of-type {\n",
       "        vertical-align: middle;\n",
       "    }\n",
       "\n",
       "    .dataframe tbody tr th {\n",
       "        vertical-align: top;\n",
       "    }\n",
       "\n",
       "    .dataframe thead th {\n",
       "        text-align: right;\n",
       "    }\n",
       "</style>\n",
       "<table border=\"1\" class=\"dataframe\">\n",
       "  <thead>\n",
       "    <tr style=\"text-align: right;\">\n",
       "      <th></th>\n",
       "      <th>Asin</th>\n",
       "      <th>Title</th>\n",
       "      <th>CategoryPath</th>\n",
       "      <th>Price1</th>\n",
       "      <th>PropValues</th>\n",
       "      <th>Comments</th>\n",
       "      <th>Stars</th>\n",
       "    </tr>\n",
       "  </thead>\n",
       "  <tbody>\n",
       "    <tr>\n",
       "      <th>0</th>\n",
       "      <td>1781934606</td>\n",
       "      <td>Warhammer Age of Sigmar - Im Reich der Unbegra...</td>\n",
       "      <td>[Bücher, Literatur &amp; Fiktion, Unterhaltungslit...</td>\n",
       "      <td>{'$numberDecimal': '12.99'}</td>\n",
       "      <td>[{'PropertyName': 'Authors', 'PropertyValue': ...</td>\n",
       "      <td>23</td>\n",
       "      <td>{'$numberDecimal': '3.9'}</td>\n",
       "    </tr>\n",
       "    <tr>\n",
       "      <th>1</th>\n",
       "      <td>1782325956</td>\n",
       "      <td>Mein Stickerbuch: Abenteuer Raumfahrt</td>\n",
       "      <td>[Bücher, Kinderbücher, Spiel &amp; Spaß]</td>\n",
       "      <td>{'$numberDecimal': '6.95'}</td>\n",
       "      <td>[{'PropertyName': 'Authors', 'PropertyValue': ...</td>\n",
       "      <td>10</td>\n",
       "      <td>{'$numberDecimal': '4.9'}</td>\n",
       "    </tr>\n",
       "    <tr>\n",
       "      <th>2</th>\n",
       "      <td>178232707X</td>\n",
       "      <td>Mein Wisch-und-weg-Buch Schulstart: Ich schrei...</td>\n",
       "      <td>[Bücher, Kinderbücher, Kunst, Musik &amp; Fotografie]</td>\n",
       "      <td>{'$numberDecimal': '6.95'}</td>\n",
       "      <td>[{'PropertyName': 'Authors', 'PropertyValue': ...</td>\n",
       "      <td>27</td>\n",
       "      <td>{'$numberDecimal': '4.5'}</td>\n",
       "    </tr>\n",
       "    <tr>\n",
       "      <th>3</th>\n",
       "      <td>1495335216</td>\n",
       "      <td>Praxishandbuch Healing Code: Weiterentwicklung...</td>\n",
       "      <td>[Bücher, Ratgeber, Gesundheit &amp; Medizin]</td>\n",
       "      <td>{'$numberDecimal': '9.80'}</td>\n",
       "      <td>[{'PropertyName': 'Authors', 'PropertyValue': ...</td>\n",
       "      <td>93</td>\n",
       "      <td>{'$numberDecimal': '4.3'}</td>\n",
       "    </tr>\n",
       "    <tr>\n",
       "      <th>4</th>\n",
       "      <td>178232321X</td>\n",
       "      <td>Mein Mode-Stickerbuch: Hochzeitskollektion</td>\n",
       "      <td>[Bücher, Kinderbücher, Spiel &amp; Spaß]</td>\n",
       "      <td>{'$numberDecimal': '6.95'}</td>\n",
       "      <td>[{'PropertyName': 'Authors', 'PropertyValue': ...</td>\n",
       "      <td>18</td>\n",
       "      <td>{'$numberDecimal': '4.7'}</td>\n",
       "    </tr>\n",
       "  </tbody>\n",
       "</table>\n",
       "</div>"
      ],
      "text/plain": [
       "         Asin                                              Title  \\\n",
       "0  1781934606  Warhammer Age of Sigmar - Im Reich der Unbegra...   \n",
       "1  1782325956              Mein Stickerbuch: Abenteuer Raumfahrt   \n",
       "2  178232707X  Mein Wisch-und-weg-Buch Schulstart: Ich schrei...   \n",
       "3  1495335216  Praxishandbuch Healing Code: Weiterentwicklung...   \n",
       "4  178232321X         Mein Mode-Stickerbuch: Hochzeitskollektion   \n",
       "\n",
       "                                        CategoryPath  \\\n",
       "0  [Bücher, Literatur & Fiktion, Unterhaltungslit...   \n",
       "1               [Bücher, Kinderbücher, Spiel & Spaß]   \n",
       "2  [Bücher, Kinderbücher, Kunst, Musik & Fotografie]   \n",
       "3           [Bücher, Ratgeber, Gesundheit & Medizin]   \n",
       "4               [Bücher, Kinderbücher, Spiel & Spaß]   \n",
       "\n",
       "                        Price1  \\\n",
       "0  {'$numberDecimal': '12.99'}   \n",
       "1   {'$numberDecimal': '6.95'}   \n",
       "2   {'$numberDecimal': '6.95'}   \n",
       "3   {'$numberDecimal': '9.80'}   \n",
       "4   {'$numberDecimal': '6.95'}   \n",
       "\n",
       "                                          PropValues  Comments  \\\n",
       "0  [{'PropertyName': 'Authors', 'PropertyValue': ...        23   \n",
       "1  [{'PropertyName': 'Authors', 'PropertyValue': ...        10   \n",
       "2  [{'PropertyName': 'Authors', 'PropertyValue': ...        27   \n",
       "3  [{'PropertyName': 'Authors', 'PropertyValue': ...        93   \n",
       "4  [{'PropertyName': 'Authors', 'PropertyValue': ...        18   \n",
       "\n",
       "                       Stars  \n",
       "0  {'$numberDecimal': '3.9'}  \n",
       "1  {'$numberDecimal': '4.9'}  \n",
       "2  {'$numberDecimal': '4.5'}  \n",
       "3  {'$numberDecimal': '4.3'}  \n",
       "4  {'$numberDecimal': '4.7'}  "
      ]
     },
     "execution_count": 6,
     "metadata": {},
     "output_type": "execute_result"
    }
   ],
   "source": [
    "df2.head()"
   ]
  },
  {
   "cell_type": "code",
   "execution_count": 7,
   "metadata": {},
   "outputs": [
    {
     "data": {
      "text/plain": [
       "[{'PropertyName': 'Authors', 'PropertyValue': 'Horus W. Odenthal'},\n",
       " {'PropertyName': 'Format',\n",
       "  'PropertyValue': '(Deutsch) Broschiert – 4. Oktober 2019'},\n",
       " {'PropertyName': 'Title',\n",
       "  'PropertyValue': 'Warhammer Age of Sigmar - Im Reich der Unbegrabenen: Gotrek'},\n",
       " {'PropertyName': 'ISBN-10', 'PropertyValue': '1781934606'},\n",
       " {'PropertyName': 'ISBN-13', 'PropertyValue': '978-1781934609'},\n",
       " {'PropertyName': 'Broschiert', 'PropertyValue': '448 Seiten'},\n",
       " {'PropertyName': 'Größe und/oder Gewicht',\n",
       "  'PropertyValue': '14.8 x 2.5 x 21 cm'},\n",
       " {'PropertyName': 'Herausgeber',\n",
       "  'PropertyValue': 'Black Library; 1. Auflage (4. Oktober 2019)'},\n",
       " {'PropertyName': 'Sprache:', 'PropertyValue': 'Deutsch'},\n",
       " {'PropertyName': 'Amazon Bestseller-Rang', 'PropertyValue': ''}]"
      ]
     },
     "execution_count": 7,
     "metadata": {},
     "output_type": "execute_result"
    }
   ],
   "source": [
    "df2.PropValues[0]"
   ]
  },
  {
   "cell_type": "code",
   "execution_count": 7,
   "metadata": {},
   "outputs": [],
   "source": [
    "df2['Book_Price']=0"
   ]
  },
  {
   "cell_type": "code",
   "execution_count": 8,
   "metadata": {},
   "outputs": [
    {
     "data": {
      "text/html": [
       "<div>\n",
       "<style scoped>\n",
       "    .dataframe tbody tr th:only-of-type {\n",
       "        vertical-align: middle;\n",
       "    }\n",
       "\n",
       "    .dataframe tbody tr th {\n",
       "        vertical-align: top;\n",
       "    }\n",
       "\n",
       "    .dataframe thead th {\n",
       "        text-align: right;\n",
       "    }\n",
       "</style>\n",
       "<table border=\"1\" class=\"dataframe\">\n",
       "  <thead>\n",
       "    <tr style=\"text-align: right;\">\n",
       "      <th></th>\n",
       "      <th>Asin</th>\n",
       "      <th>Title</th>\n",
       "      <th>CategoryPath</th>\n",
       "      <th>Price1</th>\n",
       "      <th>PropValues</th>\n",
       "      <th>Comments</th>\n",
       "      <th>Stars</th>\n",
       "      <th>Book_Price</th>\n",
       "    </tr>\n",
       "  </thead>\n",
       "  <tbody>\n",
       "    <tr>\n",
       "      <th>0</th>\n",
       "      <td>1781934606</td>\n",
       "      <td>Warhammer Age of Sigmar - Im Reich der Unbegra...</td>\n",
       "      <td>[Bücher, Literatur &amp; Fiktion, Unterhaltungslit...</td>\n",
       "      <td>{'$numberDecimal': '12.99'}</td>\n",
       "      <td>[{'PropertyName': 'Authors', 'PropertyValue': ...</td>\n",
       "      <td>23</td>\n",
       "      <td>{'$numberDecimal': '3.9'}</td>\n",
       "      <td>0</td>\n",
       "    </tr>\n",
       "    <tr>\n",
       "      <th>1</th>\n",
       "      <td>1782325956</td>\n",
       "      <td>Mein Stickerbuch: Abenteuer Raumfahrt</td>\n",
       "      <td>[Bücher, Kinderbücher, Spiel &amp; Spaß]</td>\n",
       "      <td>{'$numberDecimal': '6.95'}</td>\n",
       "      <td>[{'PropertyName': 'Authors', 'PropertyValue': ...</td>\n",
       "      <td>10</td>\n",
       "      <td>{'$numberDecimal': '4.9'}</td>\n",
       "      <td>0</td>\n",
       "    </tr>\n",
       "    <tr>\n",
       "      <th>2</th>\n",
       "      <td>178232707X</td>\n",
       "      <td>Mein Wisch-und-weg-Buch Schulstart: Ich schrei...</td>\n",
       "      <td>[Bücher, Kinderbücher, Kunst, Musik &amp; Fotografie]</td>\n",
       "      <td>{'$numberDecimal': '6.95'}</td>\n",
       "      <td>[{'PropertyName': 'Authors', 'PropertyValue': ...</td>\n",
       "      <td>27</td>\n",
       "      <td>{'$numberDecimal': '4.5'}</td>\n",
       "      <td>0</td>\n",
       "    </tr>\n",
       "    <tr>\n",
       "      <th>3</th>\n",
       "      <td>1495335216</td>\n",
       "      <td>Praxishandbuch Healing Code: Weiterentwicklung...</td>\n",
       "      <td>[Bücher, Ratgeber, Gesundheit &amp; Medizin]</td>\n",
       "      <td>{'$numberDecimal': '9.80'}</td>\n",
       "      <td>[{'PropertyName': 'Authors', 'PropertyValue': ...</td>\n",
       "      <td>93</td>\n",
       "      <td>{'$numberDecimal': '4.3'}</td>\n",
       "      <td>0</td>\n",
       "    </tr>\n",
       "    <tr>\n",
       "      <th>4</th>\n",
       "      <td>178232321X</td>\n",
       "      <td>Mein Mode-Stickerbuch: Hochzeitskollektion</td>\n",
       "      <td>[Bücher, Kinderbücher, Spiel &amp; Spaß]</td>\n",
       "      <td>{'$numberDecimal': '6.95'}</td>\n",
       "      <td>[{'PropertyName': 'Authors', 'PropertyValue': ...</td>\n",
       "      <td>18</td>\n",
       "      <td>{'$numberDecimal': '4.7'}</td>\n",
       "      <td>0</td>\n",
       "    </tr>\n",
       "  </tbody>\n",
       "</table>\n",
       "</div>"
      ],
      "text/plain": [
       "         Asin                                              Title  \\\n",
       "0  1781934606  Warhammer Age of Sigmar - Im Reich der Unbegra...   \n",
       "1  1782325956              Mein Stickerbuch: Abenteuer Raumfahrt   \n",
       "2  178232707X  Mein Wisch-und-weg-Buch Schulstart: Ich schrei...   \n",
       "3  1495335216  Praxishandbuch Healing Code: Weiterentwicklung...   \n",
       "4  178232321X         Mein Mode-Stickerbuch: Hochzeitskollektion   \n",
       "\n",
       "                                        CategoryPath  \\\n",
       "0  [Bücher, Literatur & Fiktion, Unterhaltungslit...   \n",
       "1               [Bücher, Kinderbücher, Spiel & Spaß]   \n",
       "2  [Bücher, Kinderbücher, Kunst, Musik & Fotografie]   \n",
       "3           [Bücher, Ratgeber, Gesundheit & Medizin]   \n",
       "4               [Bücher, Kinderbücher, Spiel & Spaß]   \n",
       "\n",
       "                        Price1  \\\n",
       "0  {'$numberDecimal': '12.99'}   \n",
       "1   {'$numberDecimal': '6.95'}   \n",
       "2   {'$numberDecimal': '6.95'}   \n",
       "3   {'$numberDecimal': '9.80'}   \n",
       "4   {'$numberDecimal': '6.95'}   \n",
       "\n",
       "                                          PropValues  Comments  \\\n",
       "0  [{'PropertyName': 'Authors', 'PropertyValue': ...        23   \n",
       "1  [{'PropertyName': 'Authors', 'PropertyValue': ...        10   \n",
       "2  [{'PropertyName': 'Authors', 'PropertyValue': ...        27   \n",
       "3  [{'PropertyName': 'Authors', 'PropertyValue': ...        93   \n",
       "4  [{'PropertyName': 'Authors', 'PropertyValue': ...        18   \n",
       "\n",
       "                       Stars  Book_Price  \n",
       "0  {'$numberDecimal': '3.9'}           0  \n",
       "1  {'$numberDecimal': '4.9'}           0  \n",
       "2  {'$numberDecimal': '4.5'}           0  \n",
       "3  {'$numberDecimal': '4.3'}           0  \n",
       "4  {'$numberDecimal': '4.7'}           0  "
      ]
     },
     "execution_count": 8,
     "metadata": {},
     "output_type": "execute_result"
    }
   ],
   "source": [
    "df2.head()"
   ]
  },
  {
   "cell_type": "code",
   "execution_count": 9,
   "metadata": {},
   "outputs": [],
   "source": [
    "for i,d in enumerate(df2.Price1):\n",
    "    df2['Book_Price'][i]=list(df2.Price1[i].values())[0]"
   ]
  },
  {
   "cell_type": "code",
   "execution_count": 10,
   "metadata": {},
   "outputs": [],
   "source": [
    "df2.Book_Price=df2.Book_Price.astype('float')"
   ]
  },
  {
   "cell_type": "code",
   "execution_count": 11,
   "metadata": {},
   "outputs": [],
   "source": [
    "df2['Book_Star']=0"
   ]
  },
  {
   "cell_type": "code",
   "execution_count": 12,
   "metadata": {},
   "outputs": [],
   "source": [
    "for i,d in enumerate(df2.Stars):\n",
    "    df2['Book_Star'][i]=list(df2.Stars[i].values())[0]"
   ]
  },
  {
   "cell_type": "code",
   "execution_count": 13,
   "metadata": {},
   "outputs": [],
   "source": [
    "df2.Book_Star=df2.Book_Star.astype('float')"
   ]
  },
  {
   "cell_type": "code",
   "execution_count": 14,
   "metadata": {},
   "outputs": [
    {
     "data": {
      "text/html": [
       "<div>\n",
       "<style scoped>\n",
       "    .dataframe tbody tr th:only-of-type {\n",
       "        vertical-align: middle;\n",
       "    }\n",
       "\n",
       "    .dataframe tbody tr th {\n",
       "        vertical-align: top;\n",
       "    }\n",
       "\n",
       "    .dataframe thead th {\n",
       "        text-align: right;\n",
       "    }\n",
       "</style>\n",
       "<table border=\"1\" class=\"dataframe\">\n",
       "  <thead>\n",
       "    <tr style=\"text-align: right;\">\n",
       "      <th></th>\n",
       "      <th>Asin</th>\n",
       "      <th>Title</th>\n",
       "      <th>CategoryPath</th>\n",
       "      <th>Price1</th>\n",
       "      <th>PropValues</th>\n",
       "      <th>Comments</th>\n",
       "      <th>Stars</th>\n",
       "      <th>Book_Price</th>\n",
       "      <th>Book_Star</th>\n",
       "    </tr>\n",
       "  </thead>\n",
       "  <tbody>\n",
       "    <tr>\n",
       "      <th>0</th>\n",
       "      <td>1781934606</td>\n",
       "      <td>Warhammer Age of Sigmar - Im Reich der Unbegra...</td>\n",
       "      <td>[Bücher, Literatur &amp; Fiktion, Unterhaltungslit...</td>\n",
       "      <td>{'$numberDecimal': '12.99'}</td>\n",
       "      <td>[{'PropertyName': 'Authors', 'PropertyValue': ...</td>\n",
       "      <td>23</td>\n",
       "      <td>{'$numberDecimal': '3.9'}</td>\n",
       "      <td>12.99</td>\n",
       "      <td>3.9</td>\n",
       "    </tr>\n",
       "    <tr>\n",
       "      <th>1</th>\n",
       "      <td>1782325956</td>\n",
       "      <td>Mein Stickerbuch: Abenteuer Raumfahrt</td>\n",
       "      <td>[Bücher, Kinderbücher, Spiel &amp; Spaß]</td>\n",
       "      <td>{'$numberDecimal': '6.95'}</td>\n",
       "      <td>[{'PropertyName': 'Authors', 'PropertyValue': ...</td>\n",
       "      <td>10</td>\n",
       "      <td>{'$numberDecimal': '4.9'}</td>\n",
       "      <td>6.95</td>\n",
       "      <td>4.9</td>\n",
       "    </tr>\n",
       "    <tr>\n",
       "      <th>2</th>\n",
       "      <td>178232707X</td>\n",
       "      <td>Mein Wisch-und-weg-Buch Schulstart: Ich schrei...</td>\n",
       "      <td>[Bücher, Kinderbücher, Kunst, Musik &amp; Fotografie]</td>\n",
       "      <td>{'$numberDecimal': '6.95'}</td>\n",
       "      <td>[{'PropertyName': 'Authors', 'PropertyValue': ...</td>\n",
       "      <td>27</td>\n",
       "      <td>{'$numberDecimal': '4.5'}</td>\n",
       "      <td>6.95</td>\n",
       "      <td>4.5</td>\n",
       "    </tr>\n",
       "    <tr>\n",
       "      <th>3</th>\n",
       "      <td>1495335216</td>\n",
       "      <td>Praxishandbuch Healing Code: Weiterentwicklung...</td>\n",
       "      <td>[Bücher, Ratgeber, Gesundheit &amp; Medizin]</td>\n",
       "      <td>{'$numberDecimal': '9.80'}</td>\n",
       "      <td>[{'PropertyName': 'Authors', 'PropertyValue': ...</td>\n",
       "      <td>93</td>\n",
       "      <td>{'$numberDecimal': '4.3'}</td>\n",
       "      <td>9.80</td>\n",
       "      <td>4.3</td>\n",
       "    </tr>\n",
       "    <tr>\n",
       "      <th>4</th>\n",
       "      <td>178232321X</td>\n",
       "      <td>Mein Mode-Stickerbuch: Hochzeitskollektion</td>\n",
       "      <td>[Bücher, Kinderbücher, Spiel &amp; Spaß]</td>\n",
       "      <td>{'$numberDecimal': '6.95'}</td>\n",
       "      <td>[{'PropertyName': 'Authors', 'PropertyValue': ...</td>\n",
       "      <td>18</td>\n",
       "      <td>{'$numberDecimal': '4.7'}</td>\n",
       "      <td>6.95</td>\n",
       "      <td>4.7</td>\n",
       "    </tr>\n",
       "  </tbody>\n",
       "</table>\n",
       "</div>"
      ],
      "text/plain": [
       "         Asin                                              Title  \\\n",
       "0  1781934606  Warhammer Age of Sigmar - Im Reich der Unbegra...   \n",
       "1  1782325956              Mein Stickerbuch: Abenteuer Raumfahrt   \n",
       "2  178232707X  Mein Wisch-und-weg-Buch Schulstart: Ich schrei...   \n",
       "3  1495335216  Praxishandbuch Healing Code: Weiterentwicklung...   \n",
       "4  178232321X         Mein Mode-Stickerbuch: Hochzeitskollektion   \n",
       "\n",
       "                                        CategoryPath  \\\n",
       "0  [Bücher, Literatur & Fiktion, Unterhaltungslit...   \n",
       "1               [Bücher, Kinderbücher, Spiel & Spaß]   \n",
       "2  [Bücher, Kinderbücher, Kunst, Musik & Fotografie]   \n",
       "3           [Bücher, Ratgeber, Gesundheit & Medizin]   \n",
       "4               [Bücher, Kinderbücher, Spiel & Spaß]   \n",
       "\n",
       "                        Price1  \\\n",
       "0  {'$numberDecimal': '12.99'}   \n",
       "1   {'$numberDecimal': '6.95'}   \n",
       "2   {'$numberDecimal': '6.95'}   \n",
       "3   {'$numberDecimal': '9.80'}   \n",
       "4   {'$numberDecimal': '6.95'}   \n",
       "\n",
       "                                          PropValues  Comments  \\\n",
       "0  [{'PropertyName': 'Authors', 'PropertyValue': ...        23   \n",
       "1  [{'PropertyName': 'Authors', 'PropertyValue': ...        10   \n",
       "2  [{'PropertyName': 'Authors', 'PropertyValue': ...        27   \n",
       "3  [{'PropertyName': 'Authors', 'PropertyValue': ...        93   \n",
       "4  [{'PropertyName': 'Authors', 'PropertyValue': ...        18   \n",
       "\n",
       "                       Stars  Book_Price  Book_Star  \n",
       "0  {'$numberDecimal': '3.9'}       12.99        3.9  \n",
       "1  {'$numberDecimal': '4.9'}        6.95        4.9  \n",
       "2  {'$numberDecimal': '4.5'}        6.95        4.5  \n",
       "3  {'$numberDecimal': '4.3'}        9.80        4.3  \n",
       "4  {'$numberDecimal': '4.7'}        6.95        4.7  "
      ]
     },
     "execution_count": 14,
     "metadata": {},
     "output_type": "execute_result"
    }
   ],
   "source": [
    "df2.head()"
   ]
  },
  {
   "cell_type": "code",
   "execution_count": 15,
   "metadata": {},
   "outputs": [],
   "source": [
    "df2['Category']='Buch'"
   ]
  },
  {
   "cell_type": "code",
   "execution_count": 16,
   "metadata": {},
   "outputs": [],
   "source": [
    "for i,a in enumerate(df2.CategoryPath):\n",
    "    if len(a)==2:\n",
    "        df2['Category'][i]=a[1]\n",
    "    if len(a)==3:\n",
    "        df2['Category'][i]=a[2]\n",
    "    else:\n",
    "        df2['Category'][i]='Bücher'"
   ]
  },
  {
   "cell_type": "code",
   "execution_count": 17,
   "metadata": {},
   "outputs": [
    {
     "data": {
      "text/html": [
       "<div>\n",
       "<style scoped>\n",
       "    .dataframe tbody tr th:only-of-type {\n",
       "        vertical-align: middle;\n",
       "    }\n",
       "\n",
       "    .dataframe tbody tr th {\n",
       "        vertical-align: top;\n",
       "    }\n",
       "\n",
       "    .dataframe thead th {\n",
       "        text-align: right;\n",
       "    }\n",
       "</style>\n",
       "<table border=\"1\" class=\"dataframe\">\n",
       "  <thead>\n",
       "    <tr style=\"text-align: right;\">\n",
       "      <th></th>\n",
       "      <th>Asin</th>\n",
       "      <th>Title</th>\n",
       "      <th>CategoryPath</th>\n",
       "      <th>Price1</th>\n",
       "      <th>PropValues</th>\n",
       "      <th>Comments</th>\n",
       "      <th>Stars</th>\n",
       "      <th>Book_Price</th>\n",
       "      <th>Book_Star</th>\n",
       "      <th>Category</th>\n",
       "    </tr>\n",
       "  </thead>\n",
       "  <tbody>\n",
       "    <tr>\n",
       "      <th>0</th>\n",
       "      <td>1781934606</td>\n",
       "      <td>Warhammer Age of Sigmar - Im Reich der Unbegra...</td>\n",
       "      <td>[Bücher, Literatur &amp; Fiktion, Unterhaltungslit...</td>\n",
       "      <td>{'$numberDecimal': '12.99'}</td>\n",
       "      <td>[{'PropertyName': 'Authors', 'PropertyValue': ...</td>\n",
       "      <td>23</td>\n",
       "      <td>{'$numberDecimal': '3.9'}</td>\n",
       "      <td>12.99</td>\n",
       "      <td>3.9</td>\n",
       "      <td>Unterhaltungsliteratur</td>\n",
       "    </tr>\n",
       "    <tr>\n",
       "      <th>1</th>\n",
       "      <td>1782325956</td>\n",
       "      <td>Mein Stickerbuch: Abenteuer Raumfahrt</td>\n",
       "      <td>[Bücher, Kinderbücher, Spiel &amp; Spaß]</td>\n",
       "      <td>{'$numberDecimal': '6.95'}</td>\n",
       "      <td>[{'PropertyName': 'Authors', 'PropertyValue': ...</td>\n",
       "      <td>10</td>\n",
       "      <td>{'$numberDecimal': '4.9'}</td>\n",
       "      <td>6.95</td>\n",
       "      <td>4.9</td>\n",
       "      <td>Spiel &amp; Spaß</td>\n",
       "    </tr>\n",
       "    <tr>\n",
       "      <th>2</th>\n",
       "      <td>178232707X</td>\n",
       "      <td>Mein Wisch-und-weg-Buch Schulstart: Ich schrei...</td>\n",
       "      <td>[Bücher, Kinderbücher, Kunst, Musik &amp; Fotografie]</td>\n",
       "      <td>{'$numberDecimal': '6.95'}</td>\n",
       "      <td>[{'PropertyName': 'Authors', 'PropertyValue': ...</td>\n",
       "      <td>27</td>\n",
       "      <td>{'$numberDecimal': '4.5'}</td>\n",
       "      <td>6.95</td>\n",
       "      <td>4.5</td>\n",
       "      <td>Kunst, Musik &amp; Fotografie</td>\n",
       "    </tr>\n",
       "    <tr>\n",
       "      <th>3</th>\n",
       "      <td>1495335216</td>\n",
       "      <td>Praxishandbuch Healing Code: Weiterentwicklung...</td>\n",
       "      <td>[Bücher, Ratgeber, Gesundheit &amp; Medizin]</td>\n",
       "      <td>{'$numberDecimal': '9.80'}</td>\n",
       "      <td>[{'PropertyName': 'Authors', 'PropertyValue': ...</td>\n",
       "      <td>93</td>\n",
       "      <td>{'$numberDecimal': '4.3'}</td>\n",
       "      <td>9.80</td>\n",
       "      <td>4.3</td>\n",
       "      <td>Gesundheit &amp; Medizin</td>\n",
       "    </tr>\n",
       "    <tr>\n",
       "      <th>4</th>\n",
       "      <td>178232321X</td>\n",
       "      <td>Mein Mode-Stickerbuch: Hochzeitskollektion</td>\n",
       "      <td>[Bücher, Kinderbücher, Spiel &amp; Spaß]</td>\n",
       "      <td>{'$numberDecimal': '6.95'}</td>\n",
       "      <td>[{'PropertyName': 'Authors', 'PropertyValue': ...</td>\n",
       "      <td>18</td>\n",
       "      <td>{'$numberDecimal': '4.7'}</td>\n",
       "      <td>6.95</td>\n",
       "      <td>4.7</td>\n",
       "      <td>Spiel &amp; Spaß</td>\n",
       "    </tr>\n",
       "  </tbody>\n",
       "</table>\n",
       "</div>"
      ],
      "text/plain": [
       "         Asin                                              Title  \\\n",
       "0  1781934606  Warhammer Age of Sigmar - Im Reich der Unbegra...   \n",
       "1  1782325956              Mein Stickerbuch: Abenteuer Raumfahrt   \n",
       "2  178232707X  Mein Wisch-und-weg-Buch Schulstart: Ich schrei...   \n",
       "3  1495335216  Praxishandbuch Healing Code: Weiterentwicklung...   \n",
       "4  178232321X         Mein Mode-Stickerbuch: Hochzeitskollektion   \n",
       "\n",
       "                                        CategoryPath  \\\n",
       "0  [Bücher, Literatur & Fiktion, Unterhaltungslit...   \n",
       "1               [Bücher, Kinderbücher, Spiel & Spaß]   \n",
       "2  [Bücher, Kinderbücher, Kunst, Musik & Fotografie]   \n",
       "3           [Bücher, Ratgeber, Gesundheit & Medizin]   \n",
       "4               [Bücher, Kinderbücher, Spiel & Spaß]   \n",
       "\n",
       "                        Price1  \\\n",
       "0  {'$numberDecimal': '12.99'}   \n",
       "1   {'$numberDecimal': '6.95'}   \n",
       "2   {'$numberDecimal': '6.95'}   \n",
       "3   {'$numberDecimal': '9.80'}   \n",
       "4   {'$numberDecimal': '6.95'}   \n",
       "\n",
       "                                          PropValues  Comments  \\\n",
       "0  [{'PropertyName': 'Authors', 'PropertyValue': ...        23   \n",
       "1  [{'PropertyName': 'Authors', 'PropertyValue': ...        10   \n",
       "2  [{'PropertyName': 'Authors', 'PropertyValue': ...        27   \n",
       "3  [{'PropertyName': 'Authors', 'PropertyValue': ...        93   \n",
       "4  [{'PropertyName': 'Authors', 'PropertyValue': ...        18   \n",
       "\n",
       "                       Stars  Book_Price  Book_Star                   Category  \n",
       "0  {'$numberDecimal': '3.9'}       12.99        3.9     Unterhaltungsliteratur  \n",
       "1  {'$numberDecimal': '4.9'}        6.95        4.9               Spiel & Spaß  \n",
       "2  {'$numberDecimal': '4.5'}        6.95        4.5  Kunst, Musik & Fotografie  \n",
       "3  {'$numberDecimal': '4.3'}        9.80        4.3       Gesundheit & Medizin  \n",
       "4  {'$numberDecimal': '4.7'}        6.95        4.7               Spiel & Spaß  "
      ]
     },
     "execution_count": 17,
     "metadata": {},
     "output_type": "execute_result"
    }
   ],
   "source": [
    "df2.head()"
   ]
  },
  {
   "cell_type": "code",
   "execution_count": 18,
   "metadata": {},
   "outputs": [],
   "source": [
    "df2=df2.drop(['CategoryPath','Price1','Stars'], axis=1)"
   ]
  },
  {
   "cell_type": "code",
   "execution_count": 19,
   "metadata": {},
   "outputs": [
    {
     "data": {
      "text/html": [
       "<div>\n",
       "<style scoped>\n",
       "    .dataframe tbody tr th:only-of-type {\n",
       "        vertical-align: middle;\n",
       "    }\n",
       "\n",
       "    .dataframe tbody tr th {\n",
       "        vertical-align: top;\n",
       "    }\n",
       "\n",
       "    .dataframe thead th {\n",
       "        text-align: right;\n",
       "    }\n",
       "</style>\n",
       "<table border=\"1\" class=\"dataframe\">\n",
       "  <thead>\n",
       "    <tr style=\"text-align: right;\">\n",
       "      <th></th>\n",
       "      <th>Asin</th>\n",
       "      <th>Title</th>\n",
       "      <th>PropValues</th>\n",
       "      <th>Comments</th>\n",
       "      <th>Book_Price</th>\n",
       "      <th>Book_Star</th>\n",
       "      <th>Category</th>\n",
       "    </tr>\n",
       "  </thead>\n",
       "  <tbody>\n",
       "    <tr>\n",
       "      <th>0</th>\n",
       "      <td>1781934606</td>\n",
       "      <td>Warhammer Age of Sigmar - Im Reich der Unbegra...</td>\n",
       "      <td>[{'PropertyName': 'Authors', 'PropertyValue': ...</td>\n",
       "      <td>23</td>\n",
       "      <td>12.99</td>\n",
       "      <td>3.9</td>\n",
       "      <td>Unterhaltungsliteratur</td>\n",
       "    </tr>\n",
       "    <tr>\n",
       "      <th>1</th>\n",
       "      <td>1782325956</td>\n",
       "      <td>Mein Stickerbuch: Abenteuer Raumfahrt</td>\n",
       "      <td>[{'PropertyName': 'Authors', 'PropertyValue': ...</td>\n",
       "      <td>10</td>\n",
       "      <td>6.95</td>\n",
       "      <td>4.9</td>\n",
       "      <td>Spiel &amp; Spaß</td>\n",
       "    </tr>\n",
       "    <tr>\n",
       "      <th>2</th>\n",
       "      <td>178232707X</td>\n",
       "      <td>Mein Wisch-und-weg-Buch Schulstart: Ich schrei...</td>\n",
       "      <td>[{'PropertyName': 'Authors', 'PropertyValue': ...</td>\n",
       "      <td>27</td>\n",
       "      <td>6.95</td>\n",
       "      <td>4.5</td>\n",
       "      <td>Kunst, Musik &amp; Fotografie</td>\n",
       "    </tr>\n",
       "    <tr>\n",
       "      <th>3</th>\n",
       "      <td>1495335216</td>\n",
       "      <td>Praxishandbuch Healing Code: Weiterentwicklung...</td>\n",
       "      <td>[{'PropertyName': 'Authors', 'PropertyValue': ...</td>\n",
       "      <td>93</td>\n",
       "      <td>9.80</td>\n",
       "      <td>4.3</td>\n",
       "      <td>Gesundheit &amp; Medizin</td>\n",
       "    </tr>\n",
       "    <tr>\n",
       "      <th>4</th>\n",
       "      <td>178232321X</td>\n",
       "      <td>Mein Mode-Stickerbuch: Hochzeitskollektion</td>\n",
       "      <td>[{'PropertyName': 'Authors', 'PropertyValue': ...</td>\n",
       "      <td>18</td>\n",
       "      <td>6.95</td>\n",
       "      <td>4.7</td>\n",
       "      <td>Spiel &amp; Spaß</td>\n",
       "    </tr>\n",
       "  </tbody>\n",
       "</table>\n",
       "</div>"
      ],
      "text/plain": [
       "         Asin                                              Title  \\\n",
       "0  1781934606  Warhammer Age of Sigmar - Im Reich der Unbegra...   \n",
       "1  1782325956              Mein Stickerbuch: Abenteuer Raumfahrt   \n",
       "2  178232707X  Mein Wisch-und-weg-Buch Schulstart: Ich schrei...   \n",
       "3  1495335216  Praxishandbuch Healing Code: Weiterentwicklung...   \n",
       "4  178232321X         Mein Mode-Stickerbuch: Hochzeitskollektion   \n",
       "\n",
       "                                          PropValues  Comments  Book_Price  \\\n",
       "0  [{'PropertyName': 'Authors', 'PropertyValue': ...        23       12.99   \n",
       "1  [{'PropertyName': 'Authors', 'PropertyValue': ...        10        6.95   \n",
       "2  [{'PropertyName': 'Authors', 'PropertyValue': ...        27        6.95   \n",
       "3  [{'PropertyName': 'Authors', 'PropertyValue': ...        93        9.80   \n",
       "4  [{'PropertyName': 'Authors', 'PropertyValue': ...        18        6.95   \n",
       "\n",
       "   Book_Star                   Category  \n",
       "0        3.9     Unterhaltungsliteratur  \n",
       "1        4.9               Spiel & Spaß  \n",
       "2        4.5  Kunst, Musik & Fotografie  \n",
       "3        4.3       Gesundheit & Medizin  \n",
       "4        4.7               Spiel & Spaß  "
      ]
     },
     "execution_count": 19,
     "metadata": {},
     "output_type": "execute_result"
    }
   ],
   "source": [
    "df2.head()"
   ]
  },
  {
   "cell_type": "code",
   "execution_count": 20,
   "metadata": {},
   "outputs": [],
   "source": [
    "df2.to_csv('books.csv')"
   ]
  },
  {
   "cell_type": "code",
   "execution_count": 21,
   "metadata": {},
   "outputs": [],
   "source": [
    "df4=pd.read_csv('books.csv')"
   ]
  },
  {
   "cell_type": "code",
   "execution_count": 22,
   "metadata": {},
   "outputs": [
    {
     "data": {
      "text/html": [
       "<div>\n",
       "<style scoped>\n",
       "    .dataframe tbody tr th:only-of-type {\n",
       "        vertical-align: middle;\n",
       "    }\n",
       "\n",
       "    .dataframe tbody tr th {\n",
       "        vertical-align: top;\n",
       "    }\n",
       "\n",
       "    .dataframe thead th {\n",
       "        text-align: right;\n",
       "    }\n",
       "</style>\n",
       "<table border=\"1\" class=\"dataframe\">\n",
       "  <thead>\n",
       "    <tr style=\"text-align: right;\">\n",
       "      <th></th>\n",
       "      <th>Unnamed: 0</th>\n",
       "      <th>Asin</th>\n",
       "      <th>Title</th>\n",
       "      <th>PropValues</th>\n",
       "      <th>Comments</th>\n",
       "      <th>Book_Price</th>\n",
       "      <th>Book_Star</th>\n",
       "      <th>Category</th>\n",
       "    </tr>\n",
       "  </thead>\n",
       "  <tbody>\n",
       "    <tr>\n",
       "      <th>0</th>\n",
       "      <td>0</td>\n",
       "      <td>1781934606</td>\n",
       "      <td>Warhammer Age of Sigmar - Im Reich der Unbegra...</td>\n",
       "      <td>[{'PropertyName': 'Authors', 'PropertyValue': ...</td>\n",
       "      <td>23</td>\n",
       "      <td>12.99</td>\n",
       "      <td>3.9</td>\n",
       "      <td>Unterhaltungsliteratur</td>\n",
       "    </tr>\n",
       "    <tr>\n",
       "      <th>1</th>\n",
       "      <td>1</td>\n",
       "      <td>1782325956</td>\n",
       "      <td>Mein Stickerbuch: Abenteuer Raumfahrt</td>\n",
       "      <td>[{'PropertyName': 'Authors', 'PropertyValue': ...</td>\n",
       "      <td>10</td>\n",
       "      <td>6.95</td>\n",
       "      <td>4.9</td>\n",
       "      <td>Spiel &amp; Spaß</td>\n",
       "    </tr>\n",
       "    <tr>\n",
       "      <th>2</th>\n",
       "      <td>2</td>\n",
       "      <td>178232707X</td>\n",
       "      <td>Mein Wisch-und-weg-Buch Schulstart: Ich schrei...</td>\n",
       "      <td>[{'PropertyName': 'Authors', 'PropertyValue': ...</td>\n",
       "      <td>27</td>\n",
       "      <td>6.95</td>\n",
       "      <td>4.5</td>\n",
       "      <td>Kunst, Musik &amp; Fotografie</td>\n",
       "    </tr>\n",
       "    <tr>\n",
       "      <th>3</th>\n",
       "      <td>3</td>\n",
       "      <td>1495335216</td>\n",
       "      <td>Praxishandbuch Healing Code: Weiterentwicklung...</td>\n",
       "      <td>[{'PropertyName': 'Authors', 'PropertyValue': ...</td>\n",
       "      <td>93</td>\n",
       "      <td>9.80</td>\n",
       "      <td>4.3</td>\n",
       "      <td>Gesundheit &amp; Medizin</td>\n",
       "    </tr>\n",
       "    <tr>\n",
       "      <th>4</th>\n",
       "      <td>4</td>\n",
       "      <td>178232321X</td>\n",
       "      <td>Mein Mode-Stickerbuch: Hochzeitskollektion</td>\n",
       "      <td>[{'PropertyName': 'Authors', 'PropertyValue': ...</td>\n",
       "      <td>18</td>\n",
       "      <td>6.95</td>\n",
       "      <td>4.7</td>\n",
       "      <td>Spiel &amp; Spaß</td>\n",
       "    </tr>\n",
       "    <tr>\n",
       "      <th>...</th>\n",
       "      <td>...</td>\n",
       "      <td>...</td>\n",
       "      <td>...</td>\n",
       "      <td>...</td>\n",
       "      <td>...</td>\n",
       "      <td>...</td>\n",
       "      <td>...</td>\n",
       "      <td>...</td>\n",
       "    </tr>\n",
       "    <tr>\n",
       "      <th>83052</th>\n",
       "      <td>83052</td>\n",
       "      <td>3442743389</td>\n",
       "      <td>Shalimar der Narr: Roman</td>\n",
       "      <td>[{'PropertyName': 'Authors', 'PropertyValue': ...</td>\n",
       "      <td>13</td>\n",
       "      <td>11.99</td>\n",
       "      <td>4.1</td>\n",
       "      <td>Weltliteratur</td>\n",
       "    </tr>\n",
       "    <tr>\n",
       "      <th>83053</th>\n",
       "      <td>83053</td>\n",
       "      <td>3446247343</td>\n",
       "      <td>'45: Die Welt am Wendepunkt</td>\n",
       "      <td>[{'PropertyName': 'Authors', 'PropertyValue': ...</td>\n",
       "      <td>4</td>\n",
       "      <td>26.00</td>\n",
       "      <td>4.6</td>\n",
       "      <td>Geschichte nach Ländern</td>\n",
       "    </tr>\n",
       "    <tr>\n",
       "      <th>83054</th>\n",
       "      <td>83054</td>\n",
       "      <td>3841421253</td>\n",
       "      <td>Die Poison Diaries: Band 2</td>\n",
       "      <td>[{'PropertyName': 'Authors', 'PropertyValue': ...</td>\n",
       "      <td>20</td>\n",
       "      <td>14.99</td>\n",
       "      <td>3.7</td>\n",
       "      <td>Weltliteratur</td>\n",
       "    </tr>\n",
       "    <tr>\n",
       "      <th>83055</th>\n",
       "      <td>83055</td>\n",
       "      <td>3841421350</td>\n",
       "      <td>Als gäbe es einen Himmel</td>\n",
       "      <td>[{'PropertyName': 'Authors', 'PropertyValue': ...</td>\n",
       "      <td>8</td>\n",
       "      <td>19.95</td>\n",
       "      <td>4.3</td>\n",
       "      <td>Unterhaltungsliteratur</td>\n",
       "    </tr>\n",
       "    <tr>\n",
       "      <th>83056</th>\n",
       "      <td>83056</td>\n",
       "      <td>384360715X</td>\n",
       "      <td>Einfach raus! - Wie Sie Kraft aus der Natur sc...</td>\n",
       "      <td>[{'PropertyName': 'Authors', 'PropertyValue': ...</td>\n",
       "      <td>15</td>\n",
       "      <td>18.00</td>\n",
       "      <td>3.2</td>\n",
       "      <td>Lebensführung</td>\n",
       "    </tr>\n",
       "  </tbody>\n",
       "</table>\n",
       "<p>83057 rows × 8 columns</p>\n",
       "</div>"
      ],
      "text/plain": [
       "       Unnamed: 0        Asin  \\\n",
       "0               0  1781934606   \n",
       "1               1  1782325956   \n",
       "2               2  178232707X   \n",
       "3               3  1495335216   \n",
       "4               4  178232321X   \n",
       "...           ...         ...   \n",
       "83052       83052  3442743389   \n",
       "83053       83053  3446247343   \n",
       "83054       83054  3841421253   \n",
       "83055       83055  3841421350   \n",
       "83056       83056  384360715X   \n",
       "\n",
       "                                                   Title  \\\n",
       "0      Warhammer Age of Sigmar - Im Reich der Unbegra...   \n",
       "1                  Mein Stickerbuch: Abenteuer Raumfahrt   \n",
       "2      Mein Wisch-und-weg-Buch Schulstart: Ich schrei...   \n",
       "3      Praxishandbuch Healing Code: Weiterentwicklung...   \n",
       "4             Mein Mode-Stickerbuch: Hochzeitskollektion   \n",
       "...                                                  ...   \n",
       "83052                           Shalimar der Narr: Roman   \n",
       "83053                        '45: Die Welt am Wendepunkt   \n",
       "83054                         Die Poison Diaries: Band 2   \n",
       "83055                           Als gäbe es einen Himmel   \n",
       "83056  Einfach raus! - Wie Sie Kraft aus der Natur sc...   \n",
       "\n",
       "                                              PropValues  Comments  \\\n",
       "0      [{'PropertyName': 'Authors', 'PropertyValue': ...        23   \n",
       "1      [{'PropertyName': 'Authors', 'PropertyValue': ...        10   \n",
       "2      [{'PropertyName': 'Authors', 'PropertyValue': ...        27   \n",
       "3      [{'PropertyName': 'Authors', 'PropertyValue': ...        93   \n",
       "4      [{'PropertyName': 'Authors', 'PropertyValue': ...        18   \n",
       "...                                                  ...       ...   \n",
       "83052  [{'PropertyName': 'Authors', 'PropertyValue': ...        13   \n",
       "83053  [{'PropertyName': 'Authors', 'PropertyValue': ...         4   \n",
       "83054  [{'PropertyName': 'Authors', 'PropertyValue': ...        20   \n",
       "83055  [{'PropertyName': 'Authors', 'PropertyValue': ...         8   \n",
       "83056  [{'PropertyName': 'Authors', 'PropertyValue': ...        15   \n",
       "\n",
       "       Book_Price  Book_Star                   Category  \n",
       "0           12.99        3.9     Unterhaltungsliteratur  \n",
       "1            6.95        4.9               Spiel & Spaß  \n",
       "2            6.95        4.5  Kunst, Musik & Fotografie  \n",
       "3            9.80        4.3       Gesundheit & Medizin  \n",
       "4            6.95        4.7               Spiel & Spaß  \n",
       "...           ...        ...                        ...  \n",
       "83052       11.99        4.1              Weltliteratur  \n",
       "83053       26.00        4.6    Geschichte nach Ländern  \n",
       "83054       14.99        3.7              Weltliteratur  \n",
       "83055       19.95        4.3     Unterhaltungsliteratur  \n",
       "83056       18.00        3.2              Lebensführung  \n",
       "\n",
       "[83057 rows x 8 columns]"
      ]
     },
     "execution_count": 22,
     "metadata": {},
     "output_type": "execute_result"
    }
   ],
   "source": [
    "df4"
   ]
  },
  {
   "cell_type": "code",
   "execution_count": 23,
   "metadata": {},
   "outputs": [],
   "source": [
    "df4=df4.drop('Unnamed: 0', axis=1)"
   ]
  },
  {
   "cell_type": "code",
   "execution_count": 24,
   "metadata": {},
   "outputs": [],
   "source": [
    "df4['Prop_values']=df2['PropValues']"
   ]
  },
  {
   "cell_type": "code",
   "execution_count": 25,
   "metadata": {},
   "outputs": [],
   "source": [
    "df4.drop('PropValues',axis=1,inplace=True)"
   ]
  },
  {
   "cell_type": "code",
   "execution_count": 26,
   "metadata": {},
   "outputs": [
    {
     "data": {
      "text/html": [
       "<div>\n",
       "<style scoped>\n",
       "    .dataframe tbody tr th:only-of-type {\n",
       "        vertical-align: middle;\n",
       "    }\n",
       "\n",
       "    .dataframe tbody tr th {\n",
       "        vertical-align: top;\n",
       "    }\n",
       "\n",
       "    .dataframe thead th {\n",
       "        text-align: right;\n",
       "    }\n",
       "</style>\n",
       "<table border=\"1\" class=\"dataframe\">\n",
       "  <thead>\n",
       "    <tr style=\"text-align: right;\">\n",
       "      <th></th>\n",
       "      <th>Asin</th>\n",
       "      <th>Title</th>\n",
       "      <th>Comments</th>\n",
       "      <th>Book_Price</th>\n",
       "      <th>Book_Star</th>\n",
       "      <th>Category</th>\n",
       "      <th>Prop_values</th>\n",
       "    </tr>\n",
       "  </thead>\n",
       "  <tbody>\n",
       "    <tr>\n",
       "      <th>0</th>\n",
       "      <td>1781934606</td>\n",
       "      <td>Warhammer Age of Sigmar - Im Reich der Unbegra...</td>\n",
       "      <td>23</td>\n",
       "      <td>12.99</td>\n",
       "      <td>3.9</td>\n",
       "      <td>Unterhaltungsliteratur</td>\n",
       "      <td>[{'PropertyName': 'Authors', 'PropertyValue': ...</td>\n",
       "    </tr>\n",
       "    <tr>\n",
       "      <th>1</th>\n",
       "      <td>1782325956</td>\n",
       "      <td>Mein Stickerbuch: Abenteuer Raumfahrt</td>\n",
       "      <td>10</td>\n",
       "      <td>6.95</td>\n",
       "      <td>4.9</td>\n",
       "      <td>Spiel &amp; Spaß</td>\n",
       "      <td>[{'PropertyName': 'Authors', 'PropertyValue': ...</td>\n",
       "    </tr>\n",
       "    <tr>\n",
       "      <th>2</th>\n",
       "      <td>178232707X</td>\n",
       "      <td>Mein Wisch-und-weg-Buch Schulstart: Ich schrei...</td>\n",
       "      <td>27</td>\n",
       "      <td>6.95</td>\n",
       "      <td>4.5</td>\n",
       "      <td>Kunst, Musik &amp; Fotografie</td>\n",
       "      <td>[{'PropertyName': 'Authors', 'PropertyValue': ...</td>\n",
       "    </tr>\n",
       "    <tr>\n",
       "      <th>3</th>\n",
       "      <td>1495335216</td>\n",
       "      <td>Praxishandbuch Healing Code: Weiterentwicklung...</td>\n",
       "      <td>93</td>\n",
       "      <td>9.80</td>\n",
       "      <td>4.3</td>\n",
       "      <td>Gesundheit &amp; Medizin</td>\n",
       "      <td>[{'PropertyName': 'Authors', 'PropertyValue': ...</td>\n",
       "    </tr>\n",
       "    <tr>\n",
       "      <th>4</th>\n",
       "      <td>178232321X</td>\n",
       "      <td>Mein Mode-Stickerbuch: Hochzeitskollektion</td>\n",
       "      <td>18</td>\n",
       "      <td>6.95</td>\n",
       "      <td>4.7</td>\n",
       "      <td>Spiel &amp; Spaß</td>\n",
       "      <td>[{'PropertyName': 'Authors', 'PropertyValue': ...</td>\n",
       "    </tr>\n",
       "  </tbody>\n",
       "</table>\n",
       "</div>"
      ],
      "text/plain": [
       "         Asin                                              Title  Comments  \\\n",
       "0  1781934606  Warhammer Age of Sigmar - Im Reich der Unbegra...        23   \n",
       "1  1782325956              Mein Stickerbuch: Abenteuer Raumfahrt        10   \n",
       "2  178232707X  Mein Wisch-und-weg-Buch Schulstart: Ich schrei...        27   \n",
       "3  1495335216  Praxishandbuch Healing Code: Weiterentwicklung...        93   \n",
       "4  178232321X         Mein Mode-Stickerbuch: Hochzeitskollektion        18   \n",
       "\n",
       "   Book_Price  Book_Star                   Category  \\\n",
       "0       12.99        3.9     Unterhaltungsliteratur   \n",
       "1        6.95        4.9               Spiel & Spaß   \n",
       "2        6.95        4.5  Kunst, Musik & Fotografie   \n",
       "3        9.80        4.3       Gesundheit & Medizin   \n",
       "4        6.95        4.7               Spiel & Spaß   \n",
       "\n",
       "                                         Prop_values  \n",
       "0  [{'PropertyName': 'Authors', 'PropertyValue': ...  \n",
       "1  [{'PropertyName': 'Authors', 'PropertyValue': ...  \n",
       "2  [{'PropertyName': 'Authors', 'PropertyValue': ...  \n",
       "3  [{'PropertyName': 'Authors', 'PropertyValue': ...  \n",
       "4  [{'PropertyName': 'Authors', 'PropertyValue': ...  "
      ]
     },
     "execution_count": 26,
     "metadata": {},
     "output_type": "execute_result"
    }
   ],
   "source": [
    "df4.head()"
   ]
  },
  {
   "cell_type": "markdown",
   "metadata": {},
   "source": [
    "### Filling the missing values into the features"
   ]
  },
  {
   "cell_type": "code",
   "execution_count": 310,
   "metadata": {},
   "outputs": [
    {
     "data": {
      "text/plain": [
       "Asin                0.0\n",
       "Title               0.0\n",
       "Comments            0.0\n",
       "Book_Price          0.0\n",
       "Book_Star           0.0\n",
       "Category            0.0\n",
       "Author              0.0\n",
       "Publication_year    0.0\n",
       "Publisher           0.0\n",
       "num_Page            0.0\n",
       "dtype: float64"
      ]
     },
     "execution_count": 310,
     "metadata": {},
     "output_type": "execute_result"
    }
   ],
   "source": [
    "df4.isnull().sum()/df4.shape[0]*100"
   ]
  },
  {
   "cell_type": "code",
   "execution_count": 311,
   "metadata": {},
   "outputs": [],
   "source": [
    "df4.drop(df4.Author[(df4.Author.isnull())&(df4.Publisher.isnull())].index,inplace=True)"
   ]
  },
  {
   "cell_type": "code",
   "execution_count": 312,
   "metadata": {},
   "outputs": [],
   "source": [
    "for i in df4[df4.Author.isnull()].index:\n",
    "    df4.Author[i]=df4.Publisher[i]"
   ]
  },
  {
   "cell_type": "code",
   "execution_count": 313,
   "metadata": {},
   "outputs": [],
   "source": [
    "for i in book_recom[book_recom.Author=='unbekannt'].index:\n",
    "    book_recom.Author[i]=book_recom.Publisher[i]"
   ]
  },
  {
   "cell_type": "code",
   "execution_count": 314,
   "metadata": {},
   "outputs": [],
   "source": [
    "for i in book_recom[book_recom.Author=='Author'].index:\n",
    "    book_recom.Author[i]=book_recom.Publisher[i]"
   ]
  },
  {
   "cell_type": "code",
   "execution_count": 315,
   "metadata": {},
   "outputs": [],
   "source": [
    "for i in book_recom[book_recom.Author=='Klett '].index:\n",
    "    book_recom.Author[i]=book_recom.Publisher[28]"
   ]
  },
  {
   "cell_type": "code",
   "execution_count": 316,
   "metadata": {},
   "outputs": [],
   "source": [
    "for i in book_recom[book_recom.Publisher.str.contains('Klett')].Publisher.index:\n",
    "    book_recom.Publisher[i]=book_recom.Publisher[28]"
   ]
  },
  {
   "cell_type": "code",
   "execution_count": 317,
   "metadata": {},
   "outputs": [],
   "source": [
    "for i in book_recom[book_recom.Publisher.str.contains('PONS')].Publisher.index:\n",
    "    book_recom.Publisher[i]='PONS GmbH'"
   ]
  },
  {
   "cell_type": "code",
   "execution_count": 318,
   "metadata": {},
   "outputs": [],
   "source": [
    "for i in book_recom[book_recom.Author.str.contains('PONS')].index:\n",
    "    book_recom.Author[i]=\"PONS GmbH\""
   ]
  },
  {
   "cell_type": "code",
   "execution_count": 358,
   "metadata": {},
   "outputs": [],
   "source": [
    "for i in book_recom[book_recom.Author==\"-\"].index:\n",
    "    book_recom.Author[i]=book_recom.Publisher[i]"
   ]
  },
  {
   "cell_type": "code",
   "execution_count": 319,
   "metadata": {},
   "outputs": [],
   "source": [
    "book_recom.drop([71646,75191],axis=0,inplace=True)"
   ]
  },
  {
   "cell_type": "code",
   "execution_count": 320,
   "metadata": {},
   "outputs": [],
   "source": [
    "book_recom.drop(book_recom[book_recom.Book_Price==0].index,axis=0,inplace=True)"
   ]
  },
  {
   "cell_type": "code",
   "execution_count": 321,
   "metadata": {},
   "outputs": [],
   "source": [
    "book_recom.drop(book_recom[book_recom.Book_Star==0].index,axis=0,inplace=True)\n"
   ]
  },
  {
   "cell_type": "code",
   "execution_count": 42,
   "metadata": {},
   "outputs": [],
   "source": [
    "df4.drop(df4[(df4.Publication_year.isnull())&(df4.Publisher.isnull())].index,inplace=True)"
   ]
  },
  {
   "cell_type": "code",
   "execution_count": 43,
   "metadata": {},
   "outputs": [],
   "source": [
    "df4.drop(df4[df4.num_Page.isnull()].index,inplace=True)"
   ]
  },
  {
   "cell_type": "code",
   "execution_count": 44,
   "metadata": {},
   "outputs": [],
   "source": [
    "df4.drop(['Prop_values'],axis=1,inplace=True)"
   ]
  },
  {
   "cell_type": "code",
   "execution_count": 45,
   "metadata": {},
   "outputs": [],
   "source": [
    "df4.drop(df4[df4.num_Page.str.contains('e')].index,inplace=True)"
   ]
  },
  {
   "cell_type": "markdown",
   "metadata": {},
   "source": [
    "### Change of Type of Columns"
   ]
  },
  {
   "cell_type": "code",
   "execution_count": 46,
   "metadata": {},
   "outputs": [
    {
     "name": "stdout",
     "output_type": "stream",
     "text": [
      "<class 'pandas.core.frame.DataFrame'>\n",
      "Int64Index: 78486 entries, 0 to 83056\n",
      "Data columns (total 10 columns):\n",
      " #   Column            Non-Null Count  Dtype  \n",
      "---  ------            --------------  -----  \n",
      " 0   Asin              78486 non-null  object \n",
      " 1   Title             78486 non-null  object \n",
      " 2   Comments          78486 non-null  int64  \n",
      " 3   Book_Price        78486 non-null  float64\n",
      " 4   Book_Star         78486 non-null  float64\n",
      " 5   Category          78486 non-null  object \n",
      " 6   Author            78486 non-null  object \n",
      " 7   Publication_year  78486 non-null  object \n",
      " 8   Publisher         78486 non-null  object \n",
      " 9   num_Page          78486 non-null  object \n",
      "dtypes: float64(2), int64(1), object(7)\n",
      "memory usage: 6.6+ MB\n"
     ]
    }
   ],
   "source": [
    "df4.info()"
   ]
  },
  {
   "cell_type": "code",
   "execution_count": 47,
   "metadata": {},
   "outputs": [
    {
     "data": {
      "text/plain": [
       "Asin                 object\n",
       "Title                object\n",
       "Comments              int64\n",
       "Book_Price          float64\n",
       "Book_Star           float64\n",
       "Category             object\n",
       "Author               object\n",
       "Publication_year      int64\n",
       "Publisher            object\n",
       "num_Page              int64\n",
       "dtype: object"
      ]
     },
     "execution_count": 47,
     "metadata": {},
     "output_type": "execute_result"
    }
   ],
   "source": [
    "(df4.astype({'Publication_year': 'int64','num_Page': 'int64'}).dtypes)"
   ]
  },
  {
   "cell_type": "markdown",
   "metadata": {},
   "source": [
    "## Feature Engineering"
   ]
  },
  {
   "cell_type": "markdown",
   "metadata": {},
   "source": [
    "#### 1. Author Column"
   ]
  },
  {
   "cell_type": "code",
   "execution_count": 29,
   "metadata": {},
   "outputs": [],
   "source": [
    "Author=[]"
   ]
  },
  {
   "cell_type": "code",
   "execution_count": 30,
   "metadata": {},
   "outputs": [],
   "source": [
    "for j in range(0,df4.shape[0]):\n",
    "       for i in range(0,len(df4.Prop_values[j])):\n",
    "            if df4.Prop_values[j][i].get('PropertyName')==\"Authors\":\n",
    "                Author.append(df4.Prop_values[j][i].get('PropertyValue'))\n",
    "                break\n",
    "            elif i == len(df4.Prop_values[j])-1:\n",
    "                Author.append(np.nan)\n",
    "df4['Author']=Author                         "
   ]
  },
  {
   "cell_type": "markdown",
   "metadata": {},
   "source": [
    "#### 2. YoP Column"
   ]
  },
  {
   "cell_type": "code",
   "execution_count": 31,
   "metadata": {},
   "outputs": [],
   "source": [
    "df4[\"Publication_year\"]=np.nan"
   ]
  },
  {
   "cell_type": "code",
   "execution_count": 32,
   "metadata": {},
   "outputs": [],
   "source": [
    "a=[]"
   ]
  },
  {
   "cell_type": "code",
   "execution_count": 33,
   "metadata": {},
   "outputs": [],
   "source": [
    "for j in range(0,df4.shape[0]):\n",
    "    for i in range(0,len(df4.Prop_values[j])):\n",
    "        if df4.Prop_values[j][i].get('PropertyName')==\"Herausgeber\":\n",
    "            a.append(df4.Prop_values[j][i].get('PropertyValue')[-5:-1])\n",
    "            break\n",
    "        elif i == len(df4.Prop_values[j])-1:\n",
    "            a.append(np.nan)\n",
    "            \n",
    "            \n",
    "df4[\"Publication_year\"]=a"
   ]
  },
  {
   "cell_type": "markdown",
   "metadata": {},
   "source": [
    "#### 3. Publisher Column"
   ]
  },
  {
   "cell_type": "code",
   "execution_count": 34,
   "metadata": {},
   "outputs": [],
   "source": [
    "b=[]"
   ]
  },
  {
   "cell_type": "code",
   "execution_count": 35,
   "metadata": {},
   "outputs": [],
   "source": [
    "for j in range(0,df4.shape[0]):\n",
    "    for i in range(0,len(df4.Prop_values[j])):\n",
    "        if df4.Prop_values[j][i].get('PropertyName')==\"Herausgeber\":\n",
    "            b.append(df4.Prop_values[j][i].get('PropertyValue').split(';')[0])\n",
    "            break\n",
    "        elif i == len(df4.Prop_values[j])-1:\n",
    "            b.append(np.nan)\n",
    "df4['Publisher']=b          "
   ]
  },
  {
   "cell_type": "code",
   "execution_count": 36,
   "metadata": {},
   "outputs": [],
   "source": [
    "for i in df4['Publisher'][df4['Publisher'].str.contains(pat=\"(\",regex=False)==True].index:\n",
    "    df4.Publisher[i]=df4.Publisher[i].split('(')[0]"
   ]
  },
  {
   "cell_type": "markdown",
   "metadata": {},
   "source": [
    "#### 4. Num of Page Column"
   ]
  },
  {
   "cell_type": "code",
   "execution_count": 37,
   "metadata": {},
   "outputs": [],
   "source": [
    "c=[]"
   ]
  },
  {
   "cell_type": "code",
   "execution_count": 38,
   "metadata": {},
   "outputs": [],
   "source": [
    "for j in range(0,df4.shape[0]):\n",
    "    for i in range(0,len(df4.Prop_values[j])):\n",
    "        if 'Seite' in df4.Prop_values[j][i].get('PropertyValue'):\n",
    "            c.append(df4.Prop_values[j][i].get('PropertyValue')[:-7])\n",
    "            break\n",
    "        elif i == len(df4.Prop_values[j])-1:\n",
    "            c.append(np.nan)\n",
    "df4['num_Page']=c"
   ]
  },
  {
   "cell_type": "markdown",
   "metadata": {},
   "source": [
    "#### 5. Total Rating Score"
   ]
  },
  {
   "cell_type": "code",
   "execution_count": 48,
   "metadata": {},
   "outputs": [],
   "source": [
    "df4.to_csv('Books_Recommendation.csv')"
   ]
  },
  {
   "cell_type": "code",
   "execution_count": 308,
   "metadata": {},
   "outputs": [],
   "source": [
    "book_recom=pd.read_csv('Books_Recommendation.csv',dtype={'Publication_year': 'int64','num_Page': 'int64'},index_col=0)"
   ]
  },
  {
   "cell_type": "code",
   "execution_count": 113,
   "metadata": {},
   "outputs": [],
   "source": [
    "book_recom['Total_Rating_Score']= book_recom['Comments']*book_recom['Book_Star']"
   ]
  },
  {
   "cell_type": "code",
   "execution_count": 114,
   "metadata": {},
   "outputs": [],
   "source": [
    "book_recom.reset_index(inplace=True)"
   ]
  },
  {
   "cell_type": "code",
   "execution_count": 360,
   "metadata": {},
   "outputs": [],
   "source": [
    "book_recom.to_csv('Books_Recommendation.csv')"
   ]
  },
  {
   "cell_type": "code",
   "execution_count": 365,
   "metadata": {},
   "outputs": [
    {
     "data": {
      "text/html": [
       "<div>\n",
       "<style scoped>\n",
       "    .dataframe tbody tr th:only-of-type {\n",
       "        vertical-align: middle;\n",
       "    }\n",
       "\n",
       "    .dataframe tbody tr th {\n",
       "        vertical-align: top;\n",
       "    }\n",
       "\n",
       "    .dataframe thead th {\n",
       "        text-align: right;\n",
       "    }\n",
       "</style>\n",
       "<table border=\"1\" class=\"dataframe\">\n",
       "  <thead>\n",
       "    <tr style=\"text-align: right;\">\n",
       "      <th></th>\n",
       "      <th>Asin</th>\n",
       "      <th>Title</th>\n",
       "      <th>Comments</th>\n",
       "      <th>Book_Price</th>\n",
       "      <th>Book_Star</th>\n",
       "      <th>Category</th>\n",
       "      <th>Author</th>\n",
       "      <th>Publication_year</th>\n",
       "      <th>Publisher</th>\n",
       "      <th>num_Page</th>\n",
       "      <th>Total_Rating_Score</th>\n",
       "    </tr>\n",
       "  </thead>\n",
       "  <tbody>\n",
       "    <tr>\n",
       "      <th>0</th>\n",
       "      <td>1781934606</td>\n",
       "      <td>Warhammer Age of Sigmar - Im Reich der Unbegra...</td>\n",
       "      <td>23</td>\n",
       "      <td>12.99</td>\n",
       "      <td>3.9</td>\n",
       "      <td>Unterhaltungsliteratur</td>\n",
       "      <td>Horus W. Odenthal</td>\n",
       "      <td>2019</td>\n",
       "      <td>Black Library</td>\n",
       "      <td>448</td>\n",
       "      <td>89.7</td>\n",
       "    </tr>\n",
       "    <tr>\n",
       "      <th>1</th>\n",
       "      <td>1782325956</td>\n",
       "      <td>Mein Stickerbuch: Abenteuer Raumfahrt</td>\n",
       "      <td>10</td>\n",
       "      <td>6.95</td>\n",
       "      <td>4.9</td>\n",
       "      <td>Spiel &amp; Spaß</td>\n",
       "      <td>Fiona Watt,Paul Nicholls</td>\n",
       "      <td>2017</td>\n",
       "      <td>Usborne Publishing</td>\n",
       "      <td>34</td>\n",
       "      <td>49.0</td>\n",
       "    </tr>\n",
       "    <tr>\n",
       "      <th>2</th>\n",
       "      <td>178232707X</td>\n",
       "      <td>Mein Wisch-und-weg-Buch Schulstart: Ich schrei...</td>\n",
       "      <td>27</td>\n",
       "      <td>6.95</td>\n",
       "      <td>4.5</td>\n",
       "      <td>Kunst, Musik &amp; Fotografie</td>\n",
       "      <td>Hannah Watson,Marina Aizen</td>\n",
       "      <td>2017</td>\n",
       "      <td>Usborne Publishing</td>\n",
       "      <td>24</td>\n",
       "      <td>121.5</td>\n",
       "    </tr>\n",
       "    <tr>\n",
       "      <th>3</th>\n",
       "      <td>1495335216</td>\n",
       "      <td>Praxishandbuch Healing Code: Weiterentwicklung...</td>\n",
       "      <td>93</td>\n",
       "      <td>9.80</td>\n",
       "      <td>4.3</td>\n",
       "      <td>Gesundheit &amp; Medizin</td>\n",
       "      <td>Simon Kraft</td>\n",
       "      <td>2014</td>\n",
       "      <td>CreateSpace Independent Publishing Platform</td>\n",
       "      <td>136</td>\n",
       "      <td>399.9</td>\n",
       "    </tr>\n",
       "    <tr>\n",
       "      <th>4</th>\n",
       "      <td>178232321X</td>\n",
       "      <td>Mein Mode-Stickerbuch: Hochzeitskollektion</td>\n",
       "      <td>18</td>\n",
       "      <td>6.95</td>\n",
       "      <td>4.7</td>\n",
       "      <td>Spiel &amp; Spaß</td>\n",
       "      <td>Stella Baggott</td>\n",
       "      <td>2015</td>\n",
       "      <td>Usborne Publishing</td>\n",
       "      <td>34</td>\n",
       "      <td>84.6</td>\n",
       "    </tr>\n",
       "  </tbody>\n",
       "</table>\n",
       "</div>"
      ],
      "text/plain": [
       "         Asin                                              Title  Comments  \\\n",
       "0  1781934606  Warhammer Age of Sigmar - Im Reich der Unbegra...        23   \n",
       "1  1782325956              Mein Stickerbuch: Abenteuer Raumfahrt        10   \n",
       "2  178232707X  Mein Wisch-und-weg-Buch Schulstart: Ich schrei...        27   \n",
       "3  1495335216  Praxishandbuch Healing Code: Weiterentwicklung...        93   \n",
       "4  178232321X         Mein Mode-Stickerbuch: Hochzeitskollektion        18   \n",
       "\n",
       "   Book_Price  Book_Star                   Category  \\\n",
       "0       12.99        3.9     Unterhaltungsliteratur   \n",
       "1        6.95        4.9               Spiel & Spaß   \n",
       "2        6.95        4.5  Kunst, Musik & Fotografie   \n",
       "3        9.80        4.3       Gesundheit & Medizin   \n",
       "4        6.95        4.7               Spiel & Spaß   \n",
       "\n",
       "                       Author  Publication_year  \\\n",
       "0           Horus W. Odenthal              2019   \n",
       "1    Fiona Watt,Paul Nicholls              2017   \n",
       "2  Hannah Watson,Marina Aizen              2017   \n",
       "3                 Simon Kraft              2014   \n",
       "4              Stella Baggott              2015   \n",
       "\n",
       "                                     Publisher  num_Page  Total_Rating_Score  \n",
       "0                                Black Library       448                89.7  \n",
       "1                          Usborne Publishing         34                49.0  \n",
       "2                          Usborne Publishing         24               121.5  \n",
       "3  CreateSpace Independent Publishing Platform       136               399.9  \n",
       "4                          Usborne Publishing         34                84.6  "
      ]
     },
     "execution_count": 365,
     "metadata": {},
     "output_type": "execute_result"
    }
   ],
   "source": [
    "book_recom.head()"
   ]
  },
  {
   "cell_type": "markdown",
   "metadata": {},
   "source": [
    "# EDA"
   ]
  },
  {
   "cell_type": "code",
   "execution_count": 4,
   "metadata": {},
   "outputs": [],
   "source": [
    "df5=pd.read_csv('Books_Recommendation.csv')"
   ]
  },
  {
   "cell_type": "code",
   "execution_count": 5,
   "metadata": {},
   "outputs": [
    {
     "data": {
      "text/html": [
       "<div>\n",
       "<style scoped>\n",
       "    .dataframe tbody tr th:only-of-type {\n",
       "        vertical-align: middle;\n",
       "    }\n",
       "\n",
       "    .dataframe tbody tr th {\n",
       "        vertical-align: top;\n",
       "    }\n",
       "\n",
       "    .dataframe thead th {\n",
       "        text-align: right;\n",
       "    }\n",
       "</style>\n",
       "<table border=\"1\" class=\"dataframe\">\n",
       "  <thead>\n",
       "    <tr style=\"text-align: right;\">\n",
       "      <th></th>\n",
       "      <th>Unnamed: 0</th>\n",
       "      <th>Asin</th>\n",
       "      <th>Title</th>\n",
       "      <th>Comments</th>\n",
       "      <th>Book_Price</th>\n",
       "      <th>Book_Star</th>\n",
       "      <th>Category</th>\n",
       "      <th>Author</th>\n",
       "      <th>Publication_year</th>\n",
       "      <th>Publisher</th>\n",
       "      <th>num_Page</th>\n",
       "      <th>Total_Rating_Score</th>\n",
       "    </tr>\n",
       "  </thead>\n",
       "  <tbody>\n",
       "    <tr>\n",
       "      <th>0</th>\n",
       "      <td>0</td>\n",
       "      <td>1781934606</td>\n",
       "      <td>Warhammer Age of Sigmar - Im Reich der Unbegra...</td>\n",
       "      <td>23</td>\n",
       "      <td>12.99</td>\n",
       "      <td>3.9</td>\n",
       "      <td>Unterhaltungsliteratur</td>\n",
       "      <td>Horus W. Odenthal</td>\n",
       "      <td>2019</td>\n",
       "      <td>Black Library</td>\n",
       "      <td>448</td>\n",
       "      <td>89.7</td>\n",
       "    </tr>\n",
       "    <tr>\n",
       "      <th>1</th>\n",
       "      <td>1</td>\n",
       "      <td>1782325956</td>\n",
       "      <td>Mein Stickerbuch: Abenteuer Raumfahrt</td>\n",
       "      <td>10</td>\n",
       "      <td>6.95</td>\n",
       "      <td>4.9</td>\n",
       "      <td>Spiel &amp; Spaß</td>\n",
       "      <td>Fiona Watt,Paul Nicholls</td>\n",
       "      <td>2017</td>\n",
       "      <td>Usborne Publishing</td>\n",
       "      <td>34</td>\n",
       "      <td>49.0</td>\n",
       "    </tr>\n",
       "    <tr>\n",
       "      <th>2</th>\n",
       "      <td>2</td>\n",
       "      <td>178232707X</td>\n",
       "      <td>Mein Wisch-und-weg-Buch Schulstart: Ich schrei...</td>\n",
       "      <td>27</td>\n",
       "      <td>6.95</td>\n",
       "      <td>4.5</td>\n",
       "      <td>Kunst, Musik &amp; Fotografie</td>\n",
       "      <td>Hannah Watson,Marina Aizen</td>\n",
       "      <td>2017</td>\n",
       "      <td>Usborne Publishing</td>\n",
       "      <td>24</td>\n",
       "      <td>121.5</td>\n",
       "    </tr>\n",
       "    <tr>\n",
       "      <th>3</th>\n",
       "      <td>3</td>\n",
       "      <td>1495335216</td>\n",
       "      <td>Praxishandbuch Healing Code: Weiterentwicklung...</td>\n",
       "      <td>93</td>\n",
       "      <td>9.80</td>\n",
       "      <td>4.3</td>\n",
       "      <td>Gesundheit &amp; Medizin</td>\n",
       "      <td>Simon Kraft</td>\n",
       "      <td>2014</td>\n",
       "      <td>CreateSpace Independent Publishing Platform</td>\n",
       "      <td>136</td>\n",
       "      <td>399.9</td>\n",
       "    </tr>\n",
       "    <tr>\n",
       "      <th>4</th>\n",
       "      <td>4</td>\n",
       "      <td>178232321X</td>\n",
       "      <td>Mein Mode-Stickerbuch: Hochzeitskollektion</td>\n",
       "      <td>18</td>\n",
       "      <td>6.95</td>\n",
       "      <td>4.7</td>\n",
       "      <td>Spiel &amp; Spaß</td>\n",
       "      <td>Stella Baggott</td>\n",
       "      <td>2015</td>\n",
       "      <td>Usborne Publishing</td>\n",
       "      <td>34</td>\n",
       "      <td>84.6</td>\n",
       "    </tr>\n",
       "  </tbody>\n",
       "</table>\n",
       "</div>"
      ],
      "text/plain": [
       "   Unnamed: 0        Asin                                              Title  \\\n",
       "0           0  1781934606  Warhammer Age of Sigmar - Im Reich der Unbegra...   \n",
       "1           1  1782325956              Mein Stickerbuch: Abenteuer Raumfahrt   \n",
       "2           2  178232707X  Mein Wisch-und-weg-Buch Schulstart: Ich schrei...   \n",
       "3           3  1495335216  Praxishandbuch Healing Code: Weiterentwicklung...   \n",
       "4           4  178232321X         Mein Mode-Stickerbuch: Hochzeitskollektion   \n",
       "\n",
       "   Comments  Book_Price  Book_Star                   Category  \\\n",
       "0        23       12.99        3.9     Unterhaltungsliteratur   \n",
       "1        10        6.95        4.9               Spiel & Spaß   \n",
       "2        27        6.95        4.5  Kunst, Musik & Fotografie   \n",
       "3        93        9.80        4.3       Gesundheit & Medizin   \n",
       "4        18        6.95        4.7               Spiel & Spaß   \n",
       "\n",
       "                       Author  Publication_year  \\\n",
       "0           Horus W. Odenthal              2019   \n",
       "1    Fiona Watt,Paul Nicholls              2017   \n",
       "2  Hannah Watson,Marina Aizen              2017   \n",
       "3                 Simon Kraft              2014   \n",
       "4              Stella Baggott              2015   \n",
       "\n",
       "                                     Publisher  num_Page  Total_Rating_Score  \n",
       "0                                Black Library       448                89.7  \n",
       "1                          Usborne Publishing         34                49.0  \n",
       "2                          Usborne Publishing         24               121.5  \n",
       "3  CreateSpace Independent Publishing Platform       136               399.9  \n",
       "4                          Usborne Publishing         34                84.6  "
      ]
     },
     "execution_count": 5,
     "metadata": {},
     "output_type": "execute_result"
    }
   ],
   "source": [
    "df5.head()"
   ]
  },
  {
   "cell_type": "code",
   "execution_count": 6,
   "metadata": {},
   "outputs": [],
   "source": [
    "df5.drop('Unnamed: 0',1, inplace=True)"
   ]
  },
  {
   "cell_type": "code",
   "execution_count": 7,
   "metadata": {},
   "outputs": [
    {
     "data": {
      "text/html": [
       "<div>\n",
       "<style scoped>\n",
       "    .dataframe tbody tr th:only-of-type {\n",
       "        vertical-align: middle;\n",
       "    }\n",
       "\n",
       "    .dataframe tbody tr th {\n",
       "        vertical-align: top;\n",
       "    }\n",
       "\n",
       "    .dataframe thead th {\n",
       "        text-align: right;\n",
       "    }\n",
       "</style>\n",
       "<table border=\"1\" class=\"dataframe\">\n",
       "  <thead>\n",
       "    <tr style=\"text-align: right;\">\n",
       "      <th></th>\n",
       "      <th>Asin</th>\n",
       "      <th>Title</th>\n",
       "      <th>Comments</th>\n",
       "      <th>Book_Price</th>\n",
       "      <th>Book_Star</th>\n",
       "      <th>Category</th>\n",
       "      <th>Author</th>\n",
       "      <th>Publication_year</th>\n",
       "      <th>Publisher</th>\n",
       "      <th>num_Page</th>\n",
       "      <th>Total_Rating_Score</th>\n",
       "    </tr>\n",
       "  </thead>\n",
       "  <tbody>\n",
       "    <tr>\n",
       "      <th>0</th>\n",
       "      <td>1781934606</td>\n",
       "      <td>Warhammer Age of Sigmar - Im Reich der Unbegra...</td>\n",
       "      <td>23</td>\n",
       "      <td>12.99</td>\n",
       "      <td>3.9</td>\n",
       "      <td>Unterhaltungsliteratur</td>\n",
       "      <td>Horus W. Odenthal</td>\n",
       "      <td>2019</td>\n",
       "      <td>Black Library</td>\n",
       "      <td>448</td>\n",
       "      <td>89.7</td>\n",
       "    </tr>\n",
       "    <tr>\n",
       "      <th>1</th>\n",
       "      <td>1782325956</td>\n",
       "      <td>Mein Stickerbuch: Abenteuer Raumfahrt</td>\n",
       "      <td>10</td>\n",
       "      <td>6.95</td>\n",
       "      <td>4.9</td>\n",
       "      <td>Spiel &amp; Spaß</td>\n",
       "      <td>Fiona Watt,Paul Nicholls</td>\n",
       "      <td>2017</td>\n",
       "      <td>Usborne Publishing</td>\n",
       "      <td>34</td>\n",
       "      <td>49.0</td>\n",
       "    </tr>\n",
       "    <tr>\n",
       "      <th>2</th>\n",
       "      <td>178232707X</td>\n",
       "      <td>Mein Wisch-und-weg-Buch Schulstart: Ich schrei...</td>\n",
       "      <td>27</td>\n",
       "      <td>6.95</td>\n",
       "      <td>4.5</td>\n",
       "      <td>Kunst, Musik &amp; Fotografie</td>\n",
       "      <td>Hannah Watson,Marina Aizen</td>\n",
       "      <td>2017</td>\n",
       "      <td>Usborne Publishing</td>\n",
       "      <td>24</td>\n",
       "      <td>121.5</td>\n",
       "    </tr>\n",
       "    <tr>\n",
       "      <th>3</th>\n",
       "      <td>1495335216</td>\n",
       "      <td>Praxishandbuch Healing Code: Weiterentwicklung...</td>\n",
       "      <td>93</td>\n",
       "      <td>9.80</td>\n",
       "      <td>4.3</td>\n",
       "      <td>Gesundheit &amp; Medizin</td>\n",
       "      <td>Simon Kraft</td>\n",
       "      <td>2014</td>\n",
       "      <td>CreateSpace Independent Publishing Platform</td>\n",
       "      <td>136</td>\n",
       "      <td>399.9</td>\n",
       "    </tr>\n",
       "    <tr>\n",
       "      <th>4</th>\n",
       "      <td>178232321X</td>\n",
       "      <td>Mein Mode-Stickerbuch: Hochzeitskollektion</td>\n",
       "      <td>18</td>\n",
       "      <td>6.95</td>\n",
       "      <td>4.7</td>\n",
       "      <td>Spiel &amp; Spaß</td>\n",
       "      <td>Stella Baggott</td>\n",
       "      <td>2015</td>\n",
       "      <td>Usborne Publishing</td>\n",
       "      <td>34</td>\n",
       "      <td>84.6</td>\n",
       "    </tr>\n",
       "    <tr>\n",
       "      <th>5</th>\n",
       "      <td>178232545X</td>\n",
       "      <td>Ich weiß jetzt 100 Dinge mehr! Abenteuer Natur...</td>\n",
       "      <td>22</td>\n",
       "      <td>12.95</td>\n",
       "      <td>4.8</td>\n",
       "      <td>Wissenschaft &amp; Natur</td>\n",
       "      <td>Alex Frith,Minna Lacey,Jerome Martin,Jonathan ...</td>\n",
       "      <td>2017</td>\n",
       "      <td>Usborne Publishing</td>\n",
       "      <td>128</td>\n",
       "      <td>105.6</td>\n",
       "    </tr>\n",
       "    <tr>\n",
       "      <th>6</th>\n",
       "      <td>1781934282</td>\n",
       "      <td>Die Verlorenen und die Verdammten: The Horus H...</td>\n",
       "      <td>82</td>\n",
       "      <td>15.00</td>\n",
       "      <td>4.8</td>\n",
       "      <td>Fantasy</td>\n",
       "      <td>Guy Haley</td>\n",
       "      <td>2019</td>\n",
       "      <td>Black Library</td>\n",
       "      <td>395</td>\n",
       "      <td>393.6</td>\n",
       "    </tr>\n",
       "    <tr>\n",
       "      <th>7</th>\n",
       "      <td>1782321675</td>\n",
       "      <td>Warum schlägt mein Herz?: 60 schlaue Fragen üb...</td>\n",
       "      <td>40</td>\n",
       "      <td>12.95</td>\n",
       "      <td>4.4</td>\n",
       "      <td>Wissenschaft &amp; Natur</td>\n",
       "      <td>Katie Daynes,Marie-Eve Tremblay</td>\n",
       "      <td>2014</td>\n",
       "      <td>Usborne Publishing</td>\n",
       "      <td>14</td>\n",
       "      <td>176.0</td>\n",
       "    </tr>\n",
       "    <tr>\n",
       "      <th>8</th>\n",
       "      <td>1781933669</td>\n",
       "      <td>Warhammer 40.000 - Mephiston: Kreuzug der Verd...</td>\n",
       "      <td>8</td>\n",
       "      <td>12.99</td>\n",
       "      <td>4.1</td>\n",
       "      <td>Fantasy</td>\n",
       "      <td>Ralph Hummel</td>\n",
       "      <td>2019</td>\n",
       "      <td>Black Library</td>\n",
       "      <td>347</td>\n",
       "      <td>32.8</td>\n",
       "    </tr>\n",
       "    <tr>\n",
       "      <th>9</th>\n",
       "      <td>1781932948</td>\n",
       "      <td>Warhammer 40.000 - Hereticus: Eisenhorn</td>\n",
       "      <td>17</td>\n",
       "      <td>12.99</td>\n",
       "      <td>4.5</td>\n",
       "      <td>Fantasy</td>\n",
       "      <td>Dan Abnett,Stefan Behrenbruch</td>\n",
       "      <td>2018</td>\n",
       "      <td>Black Library</td>\n",
       "      <td>400</td>\n",
       "      <td>76.5</td>\n",
       "    </tr>\n",
       "  </tbody>\n",
       "</table>\n",
       "</div>"
      ],
      "text/plain": [
       "         Asin                                              Title  Comments  \\\n",
       "0  1781934606  Warhammer Age of Sigmar - Im Reich der Unbegra...        23   \n",
       "1  1782325956              Mein Stickerbuch: Abenteuer Raumfahrt        10   \n",
       "2  178232707X  Mein Wisch-und-weg-Buch Schulstart: Ich schrei...        27   \n",
       "3  1495335216  Praxishandbuch Healing Code: Weiterentwicklung...        93   \n",
       "4  178232321X         Mein Mode-Stickerbuch: Hochzeitskollektion        18   \n",
       "5  178232545X  Ich weiß jetzt 100 Dinge mehr! Abenteuer Natur...        22   \n",
       "6  1781934282  Die Verlorenen und die Verdammten: The Horus H...        82   \n",
       "7  1782321675  Warum schlägt mein Herz?: 60 schlaue Fragen üb...        40   \n",
       "8  1781933669  Warhammer 40.000 - Mephiston: Kreuzug der Verd...         8   \n",
       "9  1781932948            Warhammer 40.000 - Hereticus: Eisenhorn        17   \n",
       "\n",
       "   Book_Price  Book_Star                   Category  \\\n",
       "0       12.99        3.9     Unterhaltungsliteratur   \n",
       "1        6.95        4.9               Spiel & Spaß   \n",
       "2        6.95        4.5  Kunst, Musik & Fotografie   \n",
       "3        9.80        4.3       Gesundheit & Medizin   \n",
       "4        6.95        4.7               Spiel & Spaß   \n",
       "5       12.95        4.8       Wissenschaft & Natur   \n",
       "6       15.00        4.8                    Fantasy   \n",
       "7       12.95        4.4       Wissenschaft & Natur   \n",
       "8       12.99        4.1                    Fantasy   \n",
       "9       12.99        4.5                    Fantasy   \n",
       "\n",
       "                                              Author  Publication_year  \\\n",
       "0                                  Horus W. Odenthal              2019   \n",
       "1                           Fiona Watt,Paul Nicholls              2017   \n",
       "2                         Hannah Watson,Marina Aizen              2017   \n",
       "3                                        Simon Kraft              2014   \n",
       "4                                     Stella Baggott              2015   \n",
       "5  Alex Frith,Minna Lacey,Jerome Martin,Jonathan ...              2017   \n",
       "6                                          Guy Haley              2019   \n",
       "7                    Katie Daynes,Marie-Eve Tremblay              2014   \n",
       "8                                       Ralph Hummel              2019   \n",
       "9                      Dan Abnett,Stefan Behrenbruch              2018   \n",
       "\n",
       "                                     Publisher  num_Page  Total_Rating_Score  \n",
       "0                                Black Library       448                89.7  \n",
       "1                          Usborne Publishing         34                49.0  \n",
       "2                          Usborne Publishing         24               121.5  \n",
       "3  CreateSpace Independent Publishing Platform       136               399.9  \n",
       "4                          Usborne Publishing         34                84.6  \n",
       "5                           Usborne Publishing       128               105.6  \n",
       "6                                Black Library       395               393.6  \n",
       "7                          Usborne Publishing         14               176.0  \n",
       "8                                Black Library       347                32.8  \n",
       "9                                Black Library       400                76.5  "
      ]
     },
     "execution_count": 7,
     "metadata": {},
     "output_type": "execute_result"
    }
   ],
   "source": [
    "df5.head(10)"
   ]
  },
  {
   "cell_type": "code",
   "execution_count": 7,
   "metadata": {},
   "outputs": [],
   "source": [
    "df5_category=df5.groupby('Category')['Title'].count()"
   ]
  },
  {
   "cell_type": "code",
   "execution_count": 8,
   "metadata": {},
   "outputs": [],
   "source": [
    "df5_category2=df5_category.reset_index()"
   ]
  },
  {
   "cell_type": "code",
   "execution_count": 9,
   "metadata": {},
   "outputs": [],
   "source": [
    "df5_category3=df5_category2.sort_values('Title',ascending=False)"
   ]
  },
  {
   "cell_type": "code",
   "execution_count": 10,
   "metadata": {},
   "outputs": [],
   "source": [
    "df5_category3.drop(index=df5_category3[df5_category3.Category=='Bücher'].index, inplace=True)"
   ]
  },
  {
   "cell_type": "code",
   "execution_count": 11,
   "metadata": {},
   "outputs": [],
   "source": [
    "df5_category4=df5_category3.head(20)"
   ]
  },
  {
   "cell_type": "code",
   "execution_count": 12,
   "metadata": {},
   "outputs": [
    {
     "data": {
      "text/html": [
       "<div>\n",
       "<style scoped>\n",
       "    .dataframe tbody tr th:only-of-type {\n",
       "        vertical-align: middle;\n",
       "    }\n",
       "\n",
       "    .dataframe tbody tr th {\n",
       "        vertical-align: top;\n",
       "    }\n",
       "\n",
       "    .dataframe thead th {\n",
       "        text-align: right;\n",
       "    }\n",
       "</style>\n",
       "<table border=\"1\" class=\"dataframe\">\n",
       "  <thead>\n",
       "    <tr style=\"text-align: right;\">\n",
       "      <th></th>\n",
       "      <th>Category</th>\n",
       "      <th>Title</th>\n",
       "    </tr>\n",
       "  </thead>\n",
       "  <tbody>\n",
       "    <tr>\n",
       "      <th>300</th>\n",
       "      <td>Weltliteratur</td>\n",
       "      <td>5666</td>\n",
       "    </tr>\n",
       "    <tr>\n",
       "      <th>111</th>\n",
       "      <td>Gesundheit &amp; Medizin</td>\n",
       "      <td>3038</td>\n",
       "    </tr>\n",
       "    <tr>\n",
       "      <th>287</th>\n",
       "      <td>Unterhaltungsliteratur</td>\n",
       "      <td>2643</td>\n",
       "    </tr>\n",
       "    <tr>\n",
       "      <th>158</th>\n",
       "      <td>Krimis</td>\n",
       "      <td>2431</td>\n",
       "    </tr>\n",
       "    <tr>\n",
       "      <th>25</th>\n",
       "      <td>Belletristik</td>\n",
       "      <td>2366</td>\n",
       "    </tr>\n",
       "    <tr>\n",
       "      <th>99</th>\n",
       "      <td>Gegenwartsliteratur</td>\n",
       "      <td>2191</td>\n",
       "    </tr>\n",
       "    <tr>\n",
       "      <th>90</th>\n",
       "      <td>Fremdsprachen &amp; Sprachkurse</td>\n",
       "      <td>1992</td>\n",
       "    </tr>\n",
       "    <tr>\n",
       "      <th>230</th>\n",
       "      <td>Psychologie &amp; Hilfe</td>\n",
       "      <td>1942</td>\n",
       "    </tr>\n",
       "    <tr>\n",
       "      <th>304</th>\n",
       "      <td>Wissen nach Themen</td>\n",
       "      <td>1650</td>\n",
       "    </tr>\n",
       "    <tr>\n",
       "      <th>254</th>\n",
       "      <td>Schulbücher</td>\n",
       "      <td>1478</td>\n",
       "    </tr>\n",
       "    <tr>\n",
       "      <th>261</th>\n",
       "      <td>Sonderreisen</td>\n",
       "      <td>1280</td>\n",
       "    </tr>\n",
       "    <tr>\n",
       "      <th>257</th>\n",
       "      <td>Science Fiction &amp; Fantasy</td>\n",
       "      <td>1268</td>\n",
       "    </tr>\n",
       "    <tr>\n",
       "      <th>168</th>\n",
       "      <td>Lebensführung</td>\n",
       "      <td>1177</td>\n",
       "    </tr>\n",
       "    <tr>\n",
       "      <th>197</th>\n",
       "      <td>Medizin &amp; Gesundheitsdienste</td>\n",
       "      <td>1131</td>\n",
       "    </tr>\n",
       "    <tr>\n",
       "      <th>69</th>\n",
       "      <td>Ernährung</td>\n",
       "      <td>1089</td>\n",
       "    </tr>\n",
       "    <tr>\n",
       "      <th>139</th>\n",
       "      <td>Job &amp; Karriere</td>\n",
       "      <td>1065</td>\n",
       "    </tr>\n",
       "    <tr>\n",
       "      <th>203</th>\n",
       "      <td>Musik</td>\n",
       "      <td>1037</td>\n",
       "    </tr>\n",
       "    <tr>\n",
       "      <th>45</th>\n",
       "      <td>Christentum &amp; Theologie</td>\n",
       "      <td>1002</td>\n",
       "    </tr>\n",
       "    <tr>\n",
       "      <th>135</th>\n",
       "      <td>Ingenieurwissenschaft &amp; Technik</td>\n",
       "      <td>887</td>\n",
       "    </tr>\n",
       "    <tr>\n",
       "      <th>26</th>\n",
       "      <td>Berufs- &amp; Fachschulbücher</td>\n",
       "      <td>817</td>\n",
       "    </tr>\n",
       "  </tbody>\n",
       "</table>\n",
       "</div>"
      ],
      "text/plain": [
       "                            Category  Title\n",
       "300                    Weltliteratur   5666\n",
       "111             Gesundheit & Medizin   3038\n",
       "287           Unterhaltungsliteratur   2643\n",
       "158                           Krimis   2431\n",
       "25                      Belletristik   2366\n",
       "99               Gegenwartsliteratur   2191\n",
       "90       Fremdsprachen & Sprachkurse   1992\n",
       "230              Psychologie & Hilfe   1942\n",
       "304               Wissen nach Themen   1650\n",
       "254                      Schulbücher   1478\n",
       "261                     Sonderreisen   1280\n",
       "257        Science Fiction & Fantasy   1268\n",
       "168                    Lebensführung   1177\n",
       "197     Medizin & Gesundheitsdienste   1131\n",
       "69                         Ernährung   1089\n",
       "139                   Job & Karriere   1065\n",
       "203                            Musik   1037\n",
       "45           Christentum & Theologie   1002\n",
       "135  Ingenieurwissenschaft & Technik    887\n",
       "26         Berufs- & Fachschulbücher    817"
      ]
     },
     "execution_count": 12,
     "metadata": {},
     "output_type": "execute_result"
    }
   ],
   "source": [
    "df5_category4"
   ]
  },
  {
   "cell_type": "code",
   "execution_count": 51,
   "metadata": {},
   "outputs": [],
   "source": [
    "title_font = {'family': 'arial', 'color': 'darkred','weight': 'bold','size': 20 }\n",
    "axis_style  = {'family': 'Arial', 'color': 'darkblue', 'size': 15 }"
   ]
  },
  {
   "cell_type": "code",
   "execution_count": 52,
   "metadata": {},
   "outputs": [
    {
     "data": {
      "image/png": "[encoded data removed]",
      "text/plain": [
       "<Figure size 720x504 with 1 Axes>"
      ]
     },
     "metadata": {
      "needs_background": "light"
     },
     "output_type": "display_data"
    }
   ],
   "source": [
    "plt.figure(figsize=(10,7))\n",
    "sns.barplot(x = 'Category', y='Title', data =df5_category4)\n",
    "plt.title('Top 20 Categories und Number of Books',title_font)\n",
    "plt.xlabel('Category',axis_style)\n",
    "plt.ylabel('Number of Books',axis_style)\n",
    "plt.xticks(rotation = 90)\n",
    "plt.show()"
   ]
  },
  {
   "cell_type": "code",
   "execution_count": 54,
   "metadata": {},
   "outputs": [
    {
     "data": {
      "application/vnd.plotly.v1+json": {
       "config": {
        "plotlyServerURL": "https://plot.ly"
       },
       "data": [
        {
         "domain": {
          "x": [
           0,
           1
          ],
          "y": [
           0,
           1
          ]
         },
         "hovertemplate": "Category=%{label}<br>Title=%{value}<extra></extra>",
         "labels": [
          "Weltliteratur",
          "Gesundheit & Medizin",
          "Unterhaltungsliteratur",
          "Krimis",
          "Belletristik",
          "Gegenwartsliteratur",
          "Fremdsprachen & Sprachkurse",
          "Psychologie & Hilfe",
          "Wissen nach Themen",
          "Schulbücher",
          "Sonderreisen",
          "Science Fiction & Fantasy",
          "Lebensführung",
          "Medizin & Gesundheitsdienste",
          "Ernährung",
          "Job & Karriere",
          "Musik",
          "Christentum & Theologie",
          "Ingenieurwissenschaft & Technik",
          "Berufs- & Fachschulbücher"
         ],
         "legendgroup": "",
         "name": "",
         "showlegend": true,
         "type": "pie",
         "values": [
          5666,
          3038,
          2643,
          2431,
          2366,
          2191,
          1992,
          1942,
          1650,
          1478,
          1280,
          1268,
          1177,
          1131,
          1089,
          1065,
          1037,
          1002,
          887,
          817
         ]
        }
       ],
       "layout": {
        "autosize": true,
        "legend": {
         "tracegroupgap": 0
        },
        "template": {
         "data": {
          "bar": [
           {
            "error_x": {
             "color": "#2a3f5f"
            },
            "error_y": {
             "color": "#2a3f5f"
            },
            "marker": {
             "line": {
              "color": "#E5ECF6",
              "width": 0.5
             }
            },
            "type": "bar"
           }
          ],
          "barpolar": [
           {
            "marker": {
             "line": {
              "color": "#E5ECF6",
              "width": 0.5
             }
            },
            "type": "barpolar"
           }
          ],
          "carpet": [
           {
            "aaxis": {
             "endlinecolor": "#2a3f5f",
             "gridcolor": "white",
             "linecolor": "white",
             "minorgridcolor": "white",
             "startlinecolor": "#2a3f5f"
            },
            "baxis": {
             "endlinecolor": "#2a3f5f",
             "gridcolor": "white",
             "linecolor": "white",
             "minorgridcolor": "white",
             "startlinecolor": "#2a3f5f"
            },
            "type": "carpet"
           }
          ],
          "choropleth": [
           {
            "colorbar": {
             "outlinewidth": 0,
             "ticks": ""
            },
            "type": "choropleth"
           }
          ],
          "contour": [
           {
            "colorbar": {
             "outlinewidth": 0,
             "ticks": ""
            },
            "colorscale": [
             [
              0,
              "#0d0887"
             ],
             [
              0.1111111111111111,
              "#46039f"
             ],
             [
              0.2222222222222222,
              "#7201a8"
             ],
             [
              0.3333333333333333,
              "#9c179e"
             ],
             [
              0.4444444444444444,
              "#bd3786"
             ],
             [
              0.5555555555555556,
              "#d8576b"
             ],
             [
              0.6666666666666666,
              "#ed7953"
             ],
             [
              0.7777777777777778,
              "#fb9f3a"
             ],
             [
              0.8888888888888888,
              "#fdca26"
             ],
             [
              1,
              "#f0f921"
             ]
            ],
            "type": "contour"
           }
          ],
          "contourcarpet": [
           {
            "colorbar": {
             "outlinewidth": 0,
             "ticks": ""
            },
            "type": "contourcarpet"
           }
          ],
          "heatmap": [
           {
            "colorbar": {
             "outlinewidth": 0,
             "ticks": ""
            },
            "colorscale": [
             [
              0,
              "#0d0887"
             ],
             [
              0.1111111111111111,
              "#46039f"
             ],
             [
              0.2222222222222222,
              "#7201a8"
             ],
             [
              0.3333333333333333,
              "#9c179e"
             ],
             [
              0.4444444444444444,
              "#bd3786"
             ],
             [
              0.5555555555555556,
              "#d8576b"
             ],
             [
              0.6666666666666666,
              "#ed7953"
             ],
             [
              0.7777777777777778,
              "#fb9f3a"
             ],
             [
              0.8888888888888888,
              "#fdca26"
             ],
             [
              1,
              "#f0f921"
             ]
            ],
            "type": "heatmap"
           }
          ],
          "heatmapgl": [
           {
            "colorbar": {
             "outlinewidth": 0,
             "ticks": ""
            },
            "colorscale": [
             [
              0,
              "#0d0887"
             ],
             [
              0.1111111111111111,
              "#46039f"
             ],
             [
              0.2222222222222222,
              "#7201a8"
             ],
             [
              0.3333333333333333,
              "#9c179e"
             ],
             [
              0.4444444444444444,
              "#bd3786"
             ],
             [
              0.5555555555555556,
              "#d8576b"
             ],
             [
              0.6666666666666666,
              "#ed7953"
             ],
             [
              0.7777777777777778,
              "#fb9f3a"
             ],
             [
              0.8888888888888888,
              "#fdca26"
             ],
             [
              1,
              "#f0f921"
             ]
            ],
            "type": "heatmapgl"
           }
          ],
          "histogram": [
           {
            "marker": {
             "colorbar": {
              "outlinewidth": 0,
              "ticks": ""
             }
            },
            "type": "histogram"
           }
          ],
          "histogram2d": [
           {
            "colorbar": {
             "outlinewidth": 0,
             "ticks": ""
            },
            "colorscale": [
             [
              0,
              "#0d0887"
             ],
             [
              0.1111111111111111,
              "#46039f"
             ],
             [
              0.2222222222222222,
              "#7201a8"
             ],
             [
              0.3333333333333333,
              "#9c179e"
             ],
             [
              0.4444444444444444,
              "#bd3786"
             ],
             [
              0.5555555555555556,
              "#d8576b"
             ],
             [
              0.6666666666666666,
              "#ed7953"
             ],
             [
              0.7777777777777778,
              "#fb9f3a"
             ],
             [
              0.8888888888888888,
              "#fdca26"
             ],
             [
              1,
              "#f0f921"
             ]
            ],
            "type": "histogram2d"
           }
          ],
          "histogram2dcontour": [
           {
            "colorbar": {
             "outlinewidth": 0,
             "ticks": ""
            },
            "colorscale": [
             [
              0,
              "#0d0887"
             ],
             [
              0.1111111111111111,
              "#46039f"
             ],
             [
              0.2222222222222222,
              "#7201a8"
             ],
             [
              0.3333333333333333,
              "#9c179e"
             ],
             [
              0.4444444444444444,
              "#bd3786"
             ],
             [
              0.5555555555555556,
              "#d8576b"
             ],
             [
              0.6666666666666666,
              "#ed7953"
             ],
             [
              0.7777777777777778,
              "#fb9f3a"
             ],
             [
              0.8888888888888888,
              "#fdca26"
             ],
             [
              1,
              "#f0f921"
             ]
            ],
            "type": "histogram2dcontour"
           }
          ],
          "mesh3d": [
           {
            "colorbar": {
             "outlinewidth": 0,
             "ticks": ""
            },
            "type": "mesh3d"
           }
          ],
          "parcoords": [
           {
            "line": {
             "colorbar": {
              "outlinewidth": 0,
              "ticks": ""
             }
            },
            "type": "parcoords"
           }
          ],
          "pie": [
           {
            "automargin": true,
            "type": "pie"
           }
          ],
          "scatter": [
           {
            "marker": {
             "colorbar": {
              "outlinewidth": 0,
              "ticks": ""
             }
            },
            "type": "scatter"
           }
          ],
          "scatter3d": [
           {
            "line": {
             "colorbar": {
              "outlinewidth": 0,
              "ticks": ""
             }
            },
            "marker": {
             "colorbar": {
              "outlinewidth": 0,
              "ticks": ""
             }
            },
            "type": "scatter3d"
           }
          ],
          "scattercarpet": [
           {
            "marker": {
             "colorbar": {
              "outlinewidth": 0,
              "ticks": ""
             }
            },
            "type": "scattercarpet"
           }
          ],
          "scattergeo": [
           {
            "marker": {
             "colorbar": {
              "outlinewidth": 0,
              "ticks": ""
             }
            },
            "type": "scattergeo"
           }
          ],
          "scattergl": [
           {
            "marker": {
             "colorbar": {
              "outlinewidth": 0,
              "ticks": ""
             }
            },
            "type": "scattergl"
           }
          ],
          "scattermapbox": [
           {
            "marker": {
             "colorbar": {
              "outlinewidth": 0,
              "ticks": ""
             }
            },
            "type": "scattermapbox"
           }
          ],
          "scatterpolar": [
           {
            "marker": {
             "colorbar": {
              "outlinewidth": 0,
              "ticks": ""
             }
            },
            "type": "scatterpolar"
           }
          ],
          "scatterpolargl": [
           {
            "marker": {
             "colorbar": {
              "outlinewidth": 0,
              "ticks": ""
             }
            },
            "type": "scatterpolargl"
           }
          ],
          "scatterternary": [
           {
            "marker": {
             "colorbar": {
              "outlinewidth": 0,
              "ticks": ""
             }
            },
            "type": "scatterternary"
           }
          ],
          "surface": [
           {
            "colorbar": {
             "outlinewidth": 0,
             "ticks": ""
            },
            "colorscale": [
             [
              0,
              "#0d0887"
             ],
             [
              0.1111111111111111,
              "#46039f"
             ],
             [
              0.2222222222222222,
              "#7201a8"
             ],
             [
              0.3333333333333333,
              "#9c179e"
             ],
             [
              0.4444444444444444,
              "#bd3786"
             ],
             [
              0.5555555555555556,
              "#d8576b"
             ],
             [
              0.6666666666666666,
              "#ed7953"
             ],
             [
              0.7777777777777778,
              "#fb9f3a"
             ],
             [
              0.8888888888888888,
              "#fdca26"
             ],
             [
              1,
              "#f0f921"
             ]
            ],
            "type": "surface"
           }
          ],
          "table": [
           {
            "cells": {
             "fill": {
              "color": "#EBF0F8"
             },
             "line": {
              "color": "white"
             }
            },
            "header": {
             "fill": {
              "color": "#C8D4E3"
             },
             "line": {
              "color": "white"
             }
            },
            "type": "table"
           }
          ]
         },
         "layout": {
          "annotationdefaults": {
           "arrowcolor": "#2a3f5f",
           "arrowhead": 0,
           "arrowwidth": 1
          },
          "coloraxis": {
           "colorbar": {
            "outlinewidth": 0,
            "ticks": ""
           }
          },
          "colorscale": {
           "diverging": [
            [
             0,
             "#8e0152"
            ],
            [
             0.1,
             "#c51b7d"
            ],
            [
             0.2,
             "#de77ae"
            ],
            [
             0.3,
             "#f1b6da"
            ],
            [
             0.4,
             "#fde0ef"
            ],
            [
             0.5,
             "#f7f7f7"
            ],
            [
             0.6,
             "#e6f5d0"
            ],
            [
             0.7,
             "#b8e186"
            ],
            [
             0.8,
             "#7fbc41"
            ],
            [
             0.9,
             "#4d9221"
            ],
            [
             1,
             "#276419"
            ]
           ],
           "sequential": [
            [
             0,
             "#0d0887"
            ],
            [
             0.1111111111111111,
             "#46039f"
            ],
            [
             0.2222222222222222,
             "#7201a8"
            ],
            [
             0.3333333333333333,
             "#9c179e"
            ],
            [
             0.4444444444444444,
             "#bd3786"
            ],
            [
             0.5555555555555556,
             "#d8576b"
            ],
            [
             0.6666666666666666,
             "#ed7953"
            ],
            [
             0.7777777777777778,
             "#fb9f3a"
            ],
            [
             0.8888888888888888,
             "#fdca26"
            ],
            [
             1,
             "#f0f921"
            ]
           ],
           "sequentialminus": [
            [
             0,
             "#0d0887"
            ],
            [
             0.1111111111111111,
             "#46039f"
            ],
            [
             0.2222222222222222,
             "#7201a8"
            ],
            [
             0.3333333333333333,
             "#9c179e"
            ],
            [
             0.4444444444444444,
             "#bd3786"
            ],
            [
             0.5555555555555556,
             "#d8576b"
            ],
            [
             0.6666666666666666,
             "#ed7953"
            ],
            [
             0.7777777777777778,
             "#fb9f3a"
            ],
            [
             0.8888888888888888,
             "#fdca26"
            ],
            [
             1,
             "#f0f921"
            ]
           ]
          },
          "colorway": [
           "#636efa",
           "#EF553B",
           "#00cc96",
           "#ab63fa",
           "#FFA15A",
           "#19d3f3",
           "#FF6692",
           "#B6E880",
           "#FF97FF",
           "#FECB52"
          ],
          "font": {
           "color": "#2a3f5f"
          },
          "geo": {
           "bgcolor": "white",
           "lakecolor": "white",
           "landcolor": "#E5ECF6",
           "showlakes": true,
           "showland": true,
           "subunitcolor": "white"
          },
          "hoverlabel": {
           "align": "left"
          },
          "hovermode": "closest",
          "mapbox": {
           "style": "light"
          },
          "paper_bgcolor": "white",
          "plot_bgcolor": "#E5ECF6",
          "polar": {
           "angularaxis": {
            "gridcolor": "white",
            "linecolor": "white",
            "ticks": ""
           },
           "bgcolor": "#E5ECF6",
           "radialaxis": {
            "gridcolor": "white",
            "linecolor": "white",
            "ticks": ""
           }
          },
          "scene": {
           "xaxis": {
            "backgroundcolor": "#E5ECF6",
            "gridcolor": "white",
            "gridwidth": 2,
            "linecolor": "white",
            "showbackground": true,
            "ticks": "",
            "zerolinecolor": "white"
           },
           "yaxis": {
            "backgroundcolor": "#E5ECF6",
            "gridcolor": "white",
            "gridwidth": 2,
            "linecolor": "white",
            "showbackground": true,
            "ticks": "",
            "zerolinecolor": "white"
           },
           "zaxis": {
            "backgroundcolor": "#E5ECF6",
            "gridcolor": "white",
            "gridwidth": 2,
            "linecolor": "white",
            "showbackground": true,
            "ticks": "",
            "zerolinecolor": "white"
           }
          },
          "shapedefaults": {
           "line": {
            "color": "#2a3f5f"
           }
          },
          "ternary": {
           "aaxis": {
            "gridcolor": "white",
            "linecolor": "white",
            "ticks": ""
           },
           "baxis": {
            "gridcolor": "white",
            "linecolor": "white",
            "ticks": ""
           },
           "bgcolor": "#E5ECF6",
           "caxis": {
            "gridcolor": "white",
            "linecolor": "white",
            "ticks": ""
           }
          },
          "title": {
           "x": 0.05
          },
          "xaxis": {
           "automargin": true,
           "gridcolor": "white",
           "linecolor": "white",
           "ticks": "",
           "title": {
            "standoff": 15
           },
           "zerolinecolor": "white",
           "zerolinewidth": 2
          },
          "yaxis": {
           "automargin": true,
           "gridcolor": "white",
           "linecolor": "white",
           "ticks": "",
           "title": {
            "standoff": 15
           },
           "zerolinecolor": "white",
           "zerolinewidth": 2
          }
         }
        },
        "title": {
         "text": "Distribution of Top 20 Categories"
        }
       }
      },
      "image/png": "[encoded data removed]",
      "text/html": [
       "<div>\n",
       "        \n",
       "        \n",
       "            <div id=\"70a7d6d5-2f20-4aec-8982-879b8d0b0e79\" class=\"plotly-graph-div\" style=\"height:525px; width:100%;\"></div>\n",
       "            <script type=\"text/javascript\">\n",
       "                require([\"plotly\"], function(Plotly) {\n",
       "                    window.PLOTLYENV=window.PLOTLYENV || {};\n",
       "                    \n",
       "                if (document.getElementById(\"70a7d6d5-2f20-4aec-8982-879b8d0b0e79\")) {\n",
       "                    Plotly.newPlot(\n",
       "                        '70a7d6d5-2f20-4aec-8982-879b8d0b0e79',\n",
       "                        [{\"domain\": {\"x\": [0.0, 1.0], \"y\": [0.0, 1.0]}, \"hovertemplate\": \"Category=%{label}<br>Title=%{value}<extra></extra>\", \"labels\": [\"Weltliteratur\", \"Gesundheit & Medizin\", \"Unterhaltungsliteratur\", \"Krimis\", \"Belletristik\", \"Gegenwartsliteratur\", \"Fremdsprachen & Sprachkurse\", \"Psychologie & Hilfe\", \"Wissen nach Themen\", \"Schulb\\u00fccher\", \"Sonderreisen\", \"Science Fiction & Fantasy\", \"Lebensf\\u00fchrung\", \"Medizin & Gesundheitsdienste\", \"Ern\\u00e4hrung\", \"Job & Karriere\", \"Musik\", \"Christentum & Theologie\", \"Ingenieurwissenschaft & Technik\", \"Berufs- & Fachschulb\\u00fccher\"], \"legendgroup\": \"\", \"name\": \"\", \"showlegend\": true, \"type\": \"pie\", \"values\": [5666, 3038, 2643, 2431, 2366, 2191, 1992, 1942, 1650, 1478, 1280, 1268, 1177, 1131, 1089, 1065, 1037, 1002, 887, 817]}],\n",
       "                        {\"legend\": {\"tracegroupgap\": 0}, \"template\": {\"data\": {\"bar\": [{\"error_x\": {\"color\": \"#2a3f5f\"}, \"error_y\": {\"color\": \"#2a3f5f\"}, \"marker\": {\"line\": {\"color\": \"#E5ECF6\", \"width\": 0.5}}, \"type\": \"bar\"}], \"barpolar\": [{\"marker\": {\"line\": {\"color\": \"#E5ECF6\", \"width\": 0.5}}, \"type\": \"barpolar\"}], \"carpet\": [{\"aaxis\": {\"endlinecolor\": \"#2a3f5f\", \"gridcolor\": \"white\", \"linecolor\": \"white\", \"minorgridcolor\": \"white\", \"startlinecolor\": \"#2a3f5f\"}, \"baxis\": {\"endlinecolor\": \"#2a3f5f\", \"gridcolor\": \"white\", \"linecolor\": \"white\", \"minorgridcolor\": \"white\", \"startlinecolor\": \"#2a3f5f\"}, \"type\": \"carpet\"}], \"choropleth\": [{\"colorbar\": {\"outlinewidth\": 0, \"ticks\": \"\"}, \"type\": \"choropleth\"}], \"contour\": [{\"colorbar\": {\"outlinewidth\": 0, \"ticks\": \"\"}, \"colorscale\": [[0.0, \"#0d0887\"], [0.1111111111111111, \"#46039f\"], [0.2222222222222222, \"#7201a8\"], [0.3333333333333333, \"#9c179e\"], [0.4444444444444444, \"#bd3786\"], [0.5555555555555556, \"#d8576b\"], [0.6666666666666666, \"#ed7953\"], [0.7777777777777778, \"#fb9f3a\"], [0.8888888888888888, \"#fdca26\"], [1.0, \"#f0f921\"]], \"type\": \"contour\"}], \"contourcarpet\": [{\"colorbar\": {\"outlinewidth\": 0, \"ticks\": \"\"}, \"type\": \"contourcarpet\"}], \"heatmap\": [{\"colorbar\": {\"outlinewidth\": 0, \"ticks\": \"\"}, \"colorscale\": [[0.0, \"#0d0887\"], [0.1111111111111111, \"#46039f\"], [0.2222222222222222, \"#7201a8\"], [0.3333333333333333, \"#9c179e\"], [0.4444444444444444, \"#bd3786\"], [0.5555555555555556, \"#d8576b\"], [0.6666666666666666, \"#ed7953\"], [0.7777777777777778, \"#fb9f3a\"], [0.8888888888888888, \"#fdca26\"], [1.0, \"#f0f921\"]], \"type\": \"heatmap\"}], \"heatmapgl\": [{\"colorbar\": {\"outlinewidth\": 0, \"ticks\": \"\"}, \"colorscale\": [[0.0, \"#0d0887\"], [0.1111111111111111, \"#46039f\"], [0.2222222222222222, \"#7201a8\"], [0.3333333333333333, \"#9c179e\"], [0.4444444444444444, \"#bd3786\"], [0.5555555555555556, \"#d8576b\"], [0.6666666666666666, \"#ed7953\"], [0.7777777777777778, \"#fb9f3a\"], [0.8888888888888888, \"#fdca26\"], [1.0, \"#f0f921\"]], \"type\": \"heatmapgl\"}], \"histogram\": [{\"marker\": {\"colorbar\": {\"outlinewidth\": 0, \"ticks\": \"\"}}, \"type\": \"histogram\"}], \"histogram2d\": [{\"colorbar\": {\"outlinewidth\": 0, \"ticks\": \"\"}, \"colorscale\": [[0.0, \"#0d0887\"], [0.1111111111111111, \"#46039f\"], [0.2222222222222222, \"#7201a8\"], [0.3333333333333333, \"#9c179e\"], [0.4444444444444444, \"#bd3786\"], [0.5555555555555556, \"#d8576b\"], [0.6666666666666666, \"#ed7953\"], [0.7777777777777778, \"#fb9f3a\"], [0.8888888888888888, \"#fdca26\"], [1.0, \"#f0f921\"]], \"type\": \"histogram2d\"}], \"histogram2dcontour\": [{\"colorbar\": {\"outlinewidth\": 0, \"ticks\": \"\"}, \"colorscale\": [[0.0, \"#0d0887\"], [0.1111111111111111, \"#46039f\"], [0.2222222222222222, \"#7201a8\"], [0.3333333333333333, \"#9c179e\"], [0.4444444444444444, \"#bd3786\"], [0.5555555555555556, \"#d8576b\"], [0.6666666666666666, \"#ed7953\"], [0.7777777777777778, \"#fb9f3a\"], [0.8888888888888888, \"#fdca26\"], [1.0, \"#f0f921\"]], \"type\": \"histogram2dcontour\"}], \"mesh3d\": [{\"colorbar\": {\"outlinewidth\": 0, \"ticks\": \"\"}, \"type\": \"mesh3d\"}], \"parcoords\": [{\"line\": {\"colorbar\": {\"outlinewidth\": 0, \"ticks\": \"\"}}, \"type\": \"parcoords\"}], \"pie\": [{\"automargin\": true, \"type\": \"pie\"}], \"scatter\": [{\"marker\": {\"colorbar\": {\"outlinewidth\": 0, \"ticks\": \"\"}}, \"type\": \"scatter\"}], \"scatter3d\": [{\"line\": {\"colorbar\": {\"outlinewidth\": 0, \"ticks\": \"\"}}, \"marker\": {\"colorbar\": {\"outlinewidth\": 0, \"ticks\": \"\"}}, \"type\": \"scatter3d\"}], \"scattercarpet\": [{\"marker\": {\"colorbar\": {\"outlinewidth\": 0, \"ticks\": \"\"}}, \"type\": \"scattercarpet\"}], \"scattergeo\": [{\"marker\": {\"colorbar\": {\"outlinewidth\": 0, \"ticks\": \"\"}}, \"type\": \"scattergeo\"}], \"scattergl\": [{\"marker\": {\"colorbar\": {\"outlinewidth\": 0, \"ticks\": \"\"}}, \"type\": \"scattergl\"}], \"scattermapbox\": [{\"marker\": {\"colorbar\": {\"outlinewidth\": 0, \"ticks\": \"\"}}, \"type\": \"scattermapbox\"}], \"scatterpolar\": [{\"marker\": {\"colorbar\": {\"outlinewidth\": 0, \"ticks\": \"\"}}, \"type\": \"scatterpolar\"}], \"scatterpolargl\": [{\"marker\": {\"colorbar\": {\"outlinewidth\": 0, \"ticks\": \"\"}}, \"type\": \"scatterpolargl\"}], \"scatterternary\": [{\"marker\": {\"colorbar\": {\"outlinewidth\": 0, \"ticks\": \"\"}}, \"type\": \"scatterternary\"}], \"surface\": [{\"colorbar\": {\"outlinewidth\": 0, \"ticks\": \"\"}, \"colorscale\": [[0.0, \"#0d0887\"], [0.1111111111111111, \"#46039f\"], [0.2222222222222222, \"#7201a8\"], [0.3333333333333333, \"#9c179e\"], [0.4444444444444444, \"#bd3786\"], [0.5555555555555556, \"#d8576b\"], [0.6666666666666666, \"#ed7953\"], [0.7777777777777778, \"#fb9f3a\"], [0.8888888888888888, \"#fdca26\"], [1.0, \"#f0f921\"]], \"type\": \"surface\"}], \"table\": [{\"cells\": {\"fill\": {\"color\": \"#EBF0F8\"}, \"line\": {\"color\": \"white\"}}, \"header\": {\"fill\": {\"color\": \"#C8D4E3\"}, \"line\": {\"color\": \"white\"}}, \"type\": \"table\"}]}, \"layout\": {\"annotationdefaults\": {\"arrowcolor\": \"#2a3f5f\", \"arrowhead\": 0, \"arrowwidth\": 1}, \"coloraxis\": {\"colorbar\": {\"outlinewidth\": 0, \"ticks\": \"\"}}, \"colorscale\": {\"diverging\": [[0, \"#8e0152\"], [0.1, \"#c51b7d\"], [0.2, \"#de77ae\"], [0.3, \"#f1b6da\"], [0.4, \"#fde0ef\"], [0.5, \"#f7f7f7\"], [0.6, \"#e6f5d0\"], [0.7, \"#b8e186\"], [0.8, \"#7fbc41\"], [0.9, \"#4d9221\"], [1, \"#276419\"]], \"sequential\": [[0.0, \"#0d0887\"], [0.1111111111111111, \"#46039f\"], [0.2222222222222222, \"#7201a8\"], [0.3333333333333333, \"#9c179e\"], [0.4444444444444444, \"#bd3786\"], [0.5555555555555556, \"#d8576b\"], [0.6666666666666666, \"#ed7953\"], [0.7777777777777778, \"#fb9f3a\"], [0.8888888888888888, \"#fdca26\"], [1.0, \"#f0f921\"]], \"sequentialminus\": [[0.0, \"#0d0887\"], [0.1111111111111111, \"#46039f\"], [0.2222222222222222, \"#7201a8\"], [0.3333333333333333, \"#9c179e\"], [0.4444444444444444, \"#bd3786\"], [0.5555555555555556, \"#d8576b\"], [0.6666666666666666, \"#ed7953\"], [0.7777777777777778, \"#fb9f3a\"], [0.8888888888888888, \"#fdca26\"], [1.0, \"#f0f921\"]]}, \"colorway\": [\"#636efa\", \"#EF553B\", \"#00cc96\", \"#ab63fa\", \"#FFA15A\", \"#19d3f3\", \"#FF6692\", \"#B6E880\", \"#FF97FF\", \"#FECB52\"], \"font\": {\"color\": \"#2a3f5f\"}, \"geo\": {\"bgcolor\": \"white\", \"lakecolor\": \"white\", \"landcolor\": \"#E5ECF6\", \"showlakes\": true, \"showland\": true, \"subunitcolor\": \"white\"}, \"hoverlabel\": {\"align\": \"left\"}, \"hovermode\": \"closest\", \"mapbox\": {\"style\": \"light\"}, \"paper_bgcolor\": \"white\", \"plot_bgcolor\": \"#E5ECF6\", \"polar\": {\"angularaxis\": {\"gridcolor\": \"white\", \"linecolor\": \"white\", \"ticks\": \"\"}, \"bgcolor\": \"#E5ECF6\", \"radialaxis\": {\"gridcolor\": \"white\", \"linecolor\": \"white\", \"ticks\": \"\"}}, \"scene\": {\"xaxis\": {\"backgroundcolor\": \"#E5ECF6\", \"gridcolor\": \"white\", \"gridwidth\": 2, \"linecolor\": \"white\", \"showbackground\": true, \"ticks\": \"\", \"zerolinecolor\": \"white\"}, \"yaxis\": {\"backgroundcolor\": \"#E5ECF6\", \"gridcolor\": \"white\", \"gridwidth\": 2, \"linecolor\": \"white\", \"showbackground\": true, \"ticks\": \"\", \"zerolinecolor\": \"white\"}, \"zaxis\": {\"backgroundcolor\": \"#E5ECF6\", \"gridcolor\": \"white\", \"gridwidth\": 2, \"linecolor\": \"white\", \"showbackground\": true, \"ticks\": \"\", \"zerolinecolor\": \"white\"}}, \"shapedefaults\": {\"line\": {\"color\": \"#2a3f5f\"}}, \"ternary\": {\"aaxis\": {\"gridcolor\": \"white\", \"linecolor\": \"white\", \"ticks\": \"\"}, \"baxis\": {\"gridcolor\": \"white\", \"linecolor\": \"white\", \"ticks\": \"\"}, \"bgcolor\": \"#E5ECF6\", \"caxis\": {\"gridcolor\": \"white\", \"linecolor\": \"white\", \"ticks\": \"\"}}, \"title\": {\"x\": 0.05}, \"xaxis\": {\"automargin\": true, \"gridcolor\": \"white\", \"linecolor\": \"white\", \"ticks\": \"\", \"title\": {\"standoff\": 15}, \"zerolinecolor\": \"white\", \"zerolinewidth\": 2}, \"yaxis\": {\"automargin\": true, \"gridcolor\": \"white\", \"linecolor\": \"white\", \"ticks\": \"\", \"title\": {\"standoff\": 15}, \"zerolinecolor\": \"white\", \"zerolinewidth\": 2}}}, \"title\": {\"text\": \"Distribution of Top 20 Categories\"}},\n",
       "                        {\"responsive\": true}\n",
       "                    ).then(function(){\n",
       "                            \n",
       "var gd = document.getElementById('70a7d6d5-2f20-4aec-8982-879b8d0b0e79');\n",
       "var x = new MutationObserver(function (mutations, observer) {{\n",
       "        var display = window.getComputedStyle(gd).display;\n",
       "        if (!display || display === 'none') {{\n",
       "            console.log([gd, 'removed!']);\n",
       "            Plotly.purge(gd);\n",
       "            observer.disconnect();\n",
       "        }}\n",
       "}});\n",
       "\n",
       "// Listen for the removal of the full notebook cells\n",
       "var notebookContainer = gd.closest('#notebook-container');\n",
       "if (notebookContainer) {{\n",
       "    x.observe(notebookContainer, {childList: true});\n",
       "}}\n",
       "\n",
       "// Listen for the clearing of the current output cell\n",
       "var outputEl = gd.closest('.output');\n",
       "if (outputEl) {{\n",
       "    x.observe(outputEl, {childList: true});\n",
       "}}\n",
       "\n",
       "                        })\n",
       "                };\n",
       "                });\n",
       "            </script>\n",
       "        </div>"
      ]
     },
     "metadata": {},
     "output_type": "display_data"
    }
   ],
   "source": [
    "fig=px.pie(df5_category4, values='Title',title='Distribution of Top 20 Categories', names='Category')\n",
    "fig.show()"
   ]
  },
  {
   "cell_type": "code",
   "execution_count": 56,
   "metadata": {},
   "outputs": [
    {
     "data": {
      "text/html": [
       "<div>\n",
       "<style scoped>\n",
       "    .dataframe tbody tr th:only-of-type {\n",
       "        vertical-align: middle;\n",
       "    }\n",
       "\n",
       "    .dataframe tbody tr th {\n",
       "        vertical-align: top;\n",
       "    }\n",
       "\n",
       "    .dataframe thead th {\n",
       "        text-align: right;\n",
       "    }\n",
       "</style>\n",
       "<table border=\"1\" class=\"dataframe\">\n",
       "  <thead>\n",
       "    <tr style=\"text-align: right;\">\n",
       "      <th></th>\n",
       "      <th>Asin</th>\n",
       "      <th>Title</th>\n",
       "      <th>Comments</th>\n",
       "      <th>Book_Price</th>\n",
       "      <th>Book_Star</th>\n",
       "      <th>Category</th>\n",
       "      <th>Author</th>\n",
       "      <th>Publication_year</th>\n",
       "      <th>Publisher</th>\n",
       "      <th>num_Page</th>\n",
       "      <th>Total_Rating_Score</th>\n",
       "    </tr>\n",
       "  </thead>\n",
       "  <tbody>\n",
       "    <tr>\n",
       "      <th>0</th>\n",
       "      <td>1781934606</td>\n",
       "      <td>Warhammer Age of Sigmar - Im Reich der Unbegra...</td>\n",
       "      <td>23</td>\n",
       "      <td>12.99</td>\n",
       "      <td>3.9</td>\n",
       "      <td>Unterhaltungsliteratur</td>\n",
       "      <td>Horus W. Odenthal</td>\n",
       "      <td>2019</td>\n",
       "      <td>Black Library</td>\n",
       "      <td>448</td>\n",
       "      <td>89.7</td>\n",
       "    </tr>\n",
       "    <tr>\n",
       "      <th>1</th>\n",
       "      <td>1782325956</td>\n",
       "      <td>Mein Stickerbuch: Abenteuer Raumfahrt</td>\n",
       "      <td>10</td>\n",
       "      <td>6.95</td>\n",
       "      <td>4.9</td>\n",
       "      <td>Spiel &amp; Spaß</td>\n",
       "      <td>Fiona Watt,Paul Nicholls</td>\n",
       "      <td>2017</td>\n",
       "      <td>Usborne Publishing</td>\n",
       "      <td>34</td>\n",
       "      <td>49.0</td>\n",
       "    </tr>\n",
       "    <tr>\n",
       "      <th>2</th>\n",
       "      <td>178232707X</td>\n",
       "      <td>Mein Wisch-und-weg-Buch Schulstart: Ich schrei...</td>\n",
       "      <td>27</td>\n",
       "      <td>6.95</td>\n",
       "      <td>4.5</td>\n",
       "      <td>Kunst, Musik &amp; Fotografie</td>\n",
       "      <td>Hannah Watson,Marina Aizen</td>\n",
       "      <td>2017</td>\n",
       "      <td>Usborne Publishing</td>\n",
       "      <td>24</td>\n",
       "      <td>121.5</td>\n",
       "    </tr>\n",
       "    <tr>\n",
       "      <th>3</th>\n",
       "      <td>1495335216</td>\n",
       "      <td>Praxishandbuch Healing Code: Weiterentwicklung...</td>\n",
       "      <td>93</td>\n",
       "      <td>9.80</td>\n",
       "      <td>4.3</td>\n",
       "      <td>Gesundheit &amp; Medizin</td>\n",
       "      <td>Simon Kraft</td>\n",
       "      <td>2014</td>\n",
       "      <td>CreateSpace Independent Publishing Platform</td>\n",
       "      <td>136</td>\n",
       "      <td>399.9</td>\n",
       "    </tr>\n",
       "    <tr>\n",
       "      <th>4</th>\n",
       "      <td>178232321X</td>\n",
       "      <td>Mein Mode-Stickerbuch: Hochzeitskollektion</td>\n",
       "      <td>18</td>\n",
       "      <td>6.95</td>\n",
       "      <td>4.7</td>\n",
       "      <td>Spiel &amp; Spaß</td>\n",
       "      <td>Stella Baggott</td>\n",
       "      <td>2015</td>\n",
       "      <td>Usborne Publishing</td>\n",
       "      <td>34</td>\n",
       "      <td>84.6</td>\n",
       "    </tr>\n",
       "  </tbody>\n",
       "</table>\n",
       "</div>"
      ],
      "text/plain": [
       "         Asin                                              Title  Comments  \\\n",
       "0  1781934606  Warhammer Age of Sigmar - Im Reich der Unbegra...        23   \n",
       "1  1782325956              Mein Stickerbuch: Abenteuer Raumfahrt        10   \n",
       "2  178232707X  Mein Wisch-und-weg-Buch Schulstart: Ich schrei...        27   \n",
       "3  1495335216  Praxishandbuch Healing Code: Weiterentwicklung...        93   \n",
       "4  178232321X         Mein Mode-Stickerbuch: Hochzeitskollektion        18   \n",
       "\n",
       "   Book_Price  Book_Star                   Category  \\\n",
       "0       12.99        3.9     Unterhaltungsliteratur   \n",
       "1        6.95        4.9               Spiel & Spaß   \n",
       "2        6.95        4.5  Kunst, Musik & Fotografie   \n",
       "3        9.80        4.3       Gesundheit & Medizin   \n",
       "4        6.95        4.7               Spiel & Spaß   \n",
       "\n",
       "                       Author  Publication_year  \\\n",
       "0           Horus W. Odenthal              2019   \n",
       "1    Fiona Watt,Paul Nicholls              2017   \n",
       "2  Hannah Watson,Marina Aizen              2017   \n",
       "3                 Simon Kraft              2014   \n",
       "4              Stella Baggott              2015   \n",
       "\n",
       "                                     Publisher  num_Page  Total_Rating_Score  \n",
       "0                                Black Library       448                89.7  \n",
       "1                          Usborne Publishing         34                49.0  \n",
       "2                          Usborne Publishing         24               121.5  \n",
       "3  CreateSpace Independent Publishing Platform       136               399.9  \n",
       "4                          Usborne Publishing         34                84.6  "
      ]
     },
     "execution_count": 56,
     "metadata": {},
     "output_type": "execute_result"
    }
   ],
   "source": [
    "df5.head()"
   ]
  },
  {
   "cell_type": "code",
   "execution_count": 74,
   "metadata": {},
   "outputs": [],
   "source": [
    "df5_book_star2=df5.groupby('Category')['Book_Star'].mean().reset_index().sort_values('Book_Star',ascending=False).head(20)"
   ]
  },
  {
   "cell_type": "code",
   "execution_count": 75,
   "metadata": {},
   "outputs": [
    {
     "data": {
      "text/html": [
       "<div>\n",
       "<style scoped>\n",
       "    .dataframe tbody tr th:only-of-type {\n",
       "        vertical-align: middle;\n",
       "    }\n",
       "\n",
       "    .dataframe tbody tr th {\n",
       "        vertical-align: top;\n",
       "    }\n",
       "\n",
       "    .dataframe thead th {\n",
       "        text-align: right;\n",
       "    }\n",
       "</style>\n",
       "<table border=\"1\" class=\"dataframe\">\n",
       "  <thead>\n",
       "    <tr style=\"text-align: right;\">\n",
       "      <th></th>\n",
       "      <th>Category</th>\n",
       "      <th>Book_Star</th>\n",
       "    </tr>\n",
       "  </thead>\n",
       "  <tbody>\n",
       "    <tr>\n",
       "      <th>227</th>\n",
       "      <td>Postkarten &amp; Poster</td>\n",
       "      <td>5.000000</td>\n",
       "    </tr>\n",
       "    <tr>\n",
       "      <th>128</th>\n",
       "      <td>Hinduismus</td>\n",
       "      <td>5.000000</td>\n",
       "    </tr>\n",
       "    <tr>\n",
       "      <th>56</th>\n",
       "      <td>Deutsch als Fremdsprache (DAF)</td>\n",
       "      <td>5.000000</td>\n",
       "    </tr>\n",
       "    <tr>\n",
       "      <th>204</th>\n",
       "      <td>Mädchen (0 -24 Monate)</td>\n",
       "      <td>5.000000</td>\n",
       "    </tr>\n",
       "    <tr>\n",
       "      <th>294</th>\n",
       "      <td>Wand- &amp; Türschilder</td>\n",
       "      <td>5.000000</td>\n",
       "    </tr>\n",
       "    <tr>\n",
       "      <th>291</th>\n",
       "      <td>Verschiedenes</td>\n",
       "      <td>5.000000</td>\n",
       "    </tr>\n",
       "    <tr>\n",
       "      <th>310</th>\n",
       "      <td>Zivilrecht</td>\n",
       "      <td>5.000000</td>\n",
       "    </tr>\n",
       "    <tr>\n",
       "      <th>185</th>\n",
       "      <td>Länder &amp; Städte</td>\n",
       "      <td>4.933333</td>\n",
       "    </tr>\n",
       "    <tr>\n",
       "      <th>165</th>\n",
       "      <td>Köche &amp; Kochshows im Fernsehen</td>\n",
       "      <td>4.900000</td>\n",
       "    </tr>\n",
       "    <tr>\n",
       "      <th>238</th>\n",
       "      <td>Rechtsmedizin</td>\n",
       "      <td>4.900000</td>\n",
       "    </tr>\n",
       "    <tr>\n",
       "      <th>50</th>\n",
       "      <td>Dank</td>\n",
       "      <td>4.900000</td>\n",
       "    </tr>\n",
       "    <tr>\n",
       "      <th>47</th>\n",
       "      <td>Comics &amp; Graphic Novels</td>\n",
       "      <td>4.900000</td>\n",
       "    </tr>\n",
       "    <tr>\n",
       "      <th>55</th>\n",
       "      <td>Detektiv- &amp; Kriminalgeschichten</td>\n",
       "      <td>4.866667</td>\n",
       "    </tr>\n",
       "    <tr>\n",
       "      <th>271</th>\n",
       "      <td>Sprichwörter &amp; Aphorismen</td>\n",
       "      <td>4.833333</td>\n",
       "    </tr>\n",
       "    <tr>\n",
       "      <th>48</th>\n",
       "      <td>Comics &amp; Humor</td>\n",
       "      <td>4.820000</td>\n",
       "    </tr>\n",
       "    <tr>\n",
       "      <th>97</th>\n",
       "      <td>Geburt &amp; Taufe</td>\n",
       "      <td>4.800000</td>\n",
       "    </tr>\n",
       "    <tr>\n",
       "      <th>54</th>\n",
       "      <td>Desserts &amp; Süßspeisen</td>\n",
       "      <td>4.800000</td>\n",
       "    </tr>\n",
       "    <tr>\n",
       "      <th>82</th>\n",
       "      <td>Finanzen</td>\n",
       "      <td>4.800000</td>\n",
       "    </tr>\n",
       "    <tr>\n",
       "      <th>150</th>\n",
       "      <td>Kochen für die Familie</td>\n",
       "      <td>4.800000</td>\n",
       "    </tr>\n",
       "    <tr>\n",
       "      <th>109</th>\n",
       "      <td>Gesetzessammlungen &amp; Entscheidungen</td>\n",
       "      <td>4.800000</td>\n",
       "    </tr>\n",
       "  </tbody>\n",
       "</table>\n",
       "</div>"
      ],
      "text/plain": [
       "                                Category  Book_Star\n",
       "227                  Postkarten & Poster   5.000000\n",
       "128                           Hinduismus   5.000000\n",
       "56        Deutsch als Fremdsprache (DAF)   5.000000\n",
       "204               Mädchen (0 -24 Monate)   5.000000\n",
       "294                  Wand- & Türschilder   5.000000\n",
       "291                        Verschiedenes   5.000000\n",
       "310                           Zivilrecht   5.000000\n",
       "185                      Länder & Städte   4.933333\n",
       "165       Köche & Kochshows im Fernsehen   4.900000\n",
       "238                        Rechtsmedizin   4.900000\n",
       "50                                  Dank   4.900000\n",
       "47               Comics & Graphic Novels   4.900000\n",
       "55       Detektiv- & Kriminalgeschichten   4.866667\n",
       "271            Sprichwörter & Aphorismen   4.833333\n",
       "48                        Comics & Humor   4.820000\n",
       "97                        Geburt & Taufe   4.800000\n",
       "54                 Desserts & Süßspeisen   4.800000\n",
       "82                              Finanzen   4.800000\n",
       "150               Kochen für die Familie   4.800000\n",
       "109  Gesetzessammlungen & Entscheidungen   4.800000"
      ]
     },
     "execution_count": 75,
     "metadata": {},
     "output_type": "execute_result"
    }
   ],
   "source": [
    "df5_book_star2"
   ]
  },
  {
   "cell_type": "code",
   "execution_count": 58,
   "metadata": {},
   "outputs": [],
   "source": [
    "df5_book_star3=df5.groupby('Title')[['Total_Rating_Score','Comments','Book_Star']].mean().reset_index()"
   ]
  },
  {
   "cell_type": "code",
   "execution_count": 65,
   "metadata": {},
   "outputs": [],
   "source": [
    "df5_book_star3=df5_book_star3.sort_values('Total_Rating_Score',ascending=False).head(10)"
   ]
  },
  {
   "cell_type": "code",
   "execution_count": 66,
   "metadata": {},
   "outputs": [
    {
     "data": {
      "text/html": [
       "<div>\n",
       "<style scoped>\n",
       "    .dataframe tbody tr th:only-of-type {\n",
       "        vertical-align: middle;\n",
       "    }\n",
       "\n",
       "    .dataframe tbody tr th {\n",
       "        vertical-align: top;\n",
       "    }\n",
       "\n",
       "    .dataframe thead th {\n",
       "        text-align: right;\n",
       "    }\n",
       "</style>\n",
       "<table border=\"1\" class=\"dataframe\">\n",
       "  <thead>\n",
       "    <tr style=\"text-align: right;\">\n",
       "      <th></th>\n",
       "      <th>Title</th>\n",
       "      <th>Total_Rating_Score</th>\n",
       "      <th>Comments</th>\n",
       "      <th>Book_Star</th>\n",
       "    </tr>\n",
       "  </thead>\n",
       "  <tbody>\n",
       "    <tr>\n",
       "      <th>59772</th>\n",
       "      <td>The Light Between Oceans: A Novel</td>\n",
       "      <td>75946.5</td>\n",
       "      <td>16877.0</td>\n",
       "      <td>4.5</td>\n",
       "    </tr>\n",
       "    <tr>\n",
       "      <th>60054</th>\n",
       "      <td>Thug Kitchen: The Official Cookbook: Eat Like ...</td>\n",
       "      <td>46023.0</td>\n",
       "      <td>10005.0</td>\n",
       "      <td>4.6</td>\n",
       "    </tr>\n",
       "    <tr>\n",
       "      <th>59897</th>\n",
       "      <td>The Wrong Side of Goodbye (A Harry Bosch Novel...</td>\n",
       "      <td>36645.9</td>\n",
       "      <td>7797.0</td>\n",
       "      <td>4.7</td>\n",
       "    </tr>\n",
       "    <tr>\n",
       "      <th>51575</th>\n",
       "      <td>Publication Manual of the American Psychologic...</td>\n",
       "      <td>36256.5</td>\n",
       "      <td>8057.0</td>\n",
       "      <td>4.5</td>\n",
       "    </tr>\n",
       "    <tr>\n",
       "      <th>16573</th>\n",
       "      <td>Diary of a Wimpy Kid #11: Double Down</td>\n",
       "      <td>29131.2</td>\n",
       "      <td>6069.0</td>\n",
       "      <td>4.8</td>\n",
       "    </tr>\n",
       "    <tr>\n",
       "      <th>24509</th>\n",
       "      <td>Ein ganzes halbes Jahr (Lou, Band 1)</td>\n",
       "      <td>27153.6</td>\n",
       "      <td>5657.0</td>\n",
       "      <td>4.8</td>\n",
       "    </tr>\n",
       "    <tr>\n",
       "      <th>27915</th>\n",
       "      <td>Fifty Shades of Grey - Geheimes Verlangen: Ban...</td>\n",
       "      <td>26867.4</td>\n",
       "      <td>6397.0</td>\n",
       "      <td>4.2</td>\n",
       "    </tr>\n",
       "    <tr>\n",
       "      <th>27914</th>\n",
       "      <td>Fifty Shades of Grey - Geheimes Verlangen: Ban...</td>\n",
       "      <td>25297.0</td>\n",
       "      <td>6170.0</td>\n",
       "      <td>4.1</td>\n",
       "    </tr>\n",
       "    <tr>\n",
       "      <th>40749</th>\n",
       "      <td>Lefteri, C: Beekeeper of Aleppo</td>\n",
       "      <td>21582.0</td>\n",
       "      <td>4796.0</td>\n",
       "      <td>4.5</td>\n",
       "    </tr>\n",
       "    <tr>\n",
       "      <th>41239</th>\n",
       "      <td>Let's Pretend This Never Happened</td>\n",
       "      <td>21018.8</td>\n",
       "      <td>4777.0</td>\n",
       "      <td>4.4</td>\n",
       "    </tr>\n",
       "  </tbody>\n",
       "</table>\n",
       "</div>"
      ],
      "text/plain": [
       "                                                   Title  Total_Rating_Score  \\\n",
       "59772                  The Light Between Oceans: A Novel             75946.5   \n",
       "60054  Thug Kitchen: The Official Cookbook: Eat Like ...             46023.0   \n",
       "59897  The Wrong Side of Goodbye (A Harry Bosch Novel...             36645.9   \n",
       "51575  Publication Manual of the American Psychologic...             36256.5   \n",
       "16573              Diary of a Wimpy Kid #11: Double Down             29131.2   \n",
       "24509               Ein ganzes halbes Jahr (Lou, Band 1)             27153.6   \n",
       "27915  Fifty Shades of Grey - Geheimes Verlangen: Ban...             26867.4   \n",
       "27914  Fifty Shades of Grey - Geheimes Verlangen: Ban...             25297.0   \n",
       "40749                    Lefteri, C: Beekeeper of Aleppo             21582.0   \n",
       "41239                  Let's Pretend This Never Happened             21018.8   \n",
       "\n",
       "       Comments  Book_Star  \n",
       "59772   16877.0        4.5  \n",
       "60054   10005.0        4.6  \n",
       "59897    7797.0        4.7  \n",
       "51575    8057.0        4.5  \n",
       "16573    6069.0        4.8  \n",
       "24509    5657.0        4.8  \n",
       "27915    6397.0        4.2  \n",
       "27914    6170.0        4.1  \n",
       "40749    4796.0        4.5  \n",
       "41239    4777.0        4.4  "
      ]
     },
     "execution_count": 66,
     "metadata": {},
     "output_type": "execute_result"
    }
   ],
   "source": [
    "df5_book_star3"
   ]
  },
  {
   "cell_type": "code",
   "execution_count": 69,
   "metadata": {},
   "outputs": [
    {
     "data": {
      "image/png": "[encoded data removed]",
      "text/plain": [
       "<Figure size 720x504 with 1 Axes>"
      ]
     },
     "metadata": {
      "needs_background": "light"
     },
     "output_type": "display_data"
    }
   ],
   "source": [
    "plt.figure(figsize=(10,7))\n",
    "sns.barplot(x = 'Title', y='Total_Rating_Score', data =df5_book_star3)\n",
    "plt.title('Books and Total Rating Score',title_font)\n",
    "plt.xlabel('Books',axis_style)\n",
    "plt.ylabel('Number of Total Rating Score',axis_style)\n",
    "plt.xticks(rotation = 90)\n",
    "plt.show()"
   ]
  },
  {
   "cell_type": "code",
   "execution_count": 58,
   "metadata": {},
   "outputs": [],
   "source": [
    "df5_book_star=df5.groupby('Category')[['Total_Rating_Score','Comments','Book_Star']].mean().reset_index()"
   ]
  },
  {
   "cell_type": "code",
   "execution_count": 59,
   "metadata": {},
   "outputs": [
    {
     "data": {
      "text/html": [
       "<div>\n",
       "<style scoped>\n",
       "    .dataframe tbody tr th:only-of-type {\n",
       "        vertical-align: middle;\n",
       "    }\n",
       "\n",
       "    .dataframe tbody tr th {\n",
       "        vertical-align: top;\n",
       "    }\n",
       "\n",
       "    .dataframe thead th {\n",
       "        text-align: right;\n",
       "    }\n",
       "</style>\n",
       "<table border=\"1\" class=\"dataframe\">\n",
       "  <thead>\n",
       "    <tr style=\"text-align: right;\">\n",
       "      <th></th>\n",
       "      <th>Category</th>\n",
       "      <th>Total_Rating_Score</th>\n",
       "      <th>Comments</th>\n",
       "      <th>Book_Star</th>\n",
       "    </tr>\n",
       "  </thead>\n",
       "  <tbody>\n",
       "    <tr>\n",
       "      <th>227</th>\n",
       "      <td>Postkarten &amp; Poster</td>\n",
       "      <td>5.000000</td>\n",
       "      <td>1.000000</td>\n",
       "      <td>5.000000</td>\n",
       "    </tr>\n",
       "    <tr>\n",
       "      <th>128</th>\n",
       "      <td>Hinduismus</td>\n",
       "      <td>15.000000</td>\n",
       "      <td>3.000000</td>\n",
       "      <td>5.000000</td>\n",
       "    </tr>\n",
       "    <tr>\n",
       "      <th>56</th>\n",
       "      <td>Deutsch als Fremdsprache (DAF)</td>\n",
       "      <td>20.000000</td>\n",
       "      <td>4.000000</td>\n",
       "      <td>5.000000</td>\n",
       "    </tr>\n",
       "    <tr>\n",
       "      <th>204</th>\n",
       "      <td>Mädchen (0 -24 Monate)</td>\n",
       "      <td>30.000000</td>\n",
       "      <td>6.000000</td>\n",
       "      <td>5.000000</td>\n",
       "    </tr>\n",
       "    <tr>\n",
       "      <th>294</th>\n",
       "      <td>Wand- &amp; Türschilder</td>\n",
       "      <td>10.000000</td>\n",
       "      <td>2.000000</td>\n",
       "      <td>5.000000</td>\n",
       "    </tr>\n",
       "    <tr>\n",
       "      <th>291</th>\n",
       "      <td>Verschiedenes</td>\n",
       "      <td>5.000000</td>\n",
       "      <td>1.000000</td>\n",
       "      <td>5.000000</td>\n",
       "    </tr>\n",
       "    <tr>\n",
       "      <th>310</th>\n",
       "      <td>Zivilrecht</td>\n",
       "      <td>15.000000</td>\n",
       "      <td>3.000000</td>\n",
       "      <td>5.000000</td>\n",
       "    </tr>\n",
       "    <tr>\n",
       "      <th>185</th>\n",
       "      <td>Länder &amp; Städte</td>\n",
       "      <td>75.233333</td>\n",
       "      <td>15.333333</td>\n",
       "      <td>4.933333</td>\n",
       "    </tr>\n",
       "    <tr>\n",
       "      <th>165</th>\n",
       "      <td>Köche &amp; Kochshows im Fernsehen</td>\n",
       "      <td>49.000000</td>\n",
       "      <td>10.000000</td>\n",
       "      <td>4.900000</td>\n",
       "    </tr>\n",
       "    <tr>\n",
       "      <th>238</th>\n",
       "      <td>Rechtsmedizin</td>\n",
       "      <td>112.700000</td>\n",
       "      <td>23.000000</td>\n",
       "      <td>4.900000</td>\n",
       "    </tr>\n",
       "    <tr>\n",
       "      <th>50</th>\n",
       "      <td>Dank</td>\n",
       "      <td>245.000000</td>\n",
       "      <td>50.000000</td>\n",
       "      <td>4.900000</td>\n",
       "    </tr>\n",
       "    <tr>\n",
       "      <th>47</th>\n",
       "      <td>Comics &amp; Graphic Novels</td>\n",
       "      <td>68.600000</td>\n",
       "      <td>14.000000</td>\n",
       "      <td>4.900000</td>\n",
       "    </tr>\n",
       "    <tr>\n",
       "      <th>55</th>\n",
       "      <td>Detektiv- &amp; Kriminalgeschichten</td>\n",
       "      <td>297.666667</td>\n",
       "      <td>62.000000</td>\n",
       "      <td>4.866667</td>\n",
       "    </tr>\n",
       "    <tr>\n",
       "      <th>271</th>\n",
       "      <td>Sprichwörter &amp; Aphorismen</td>\n",
       "      <td>14.333333</td>\n",
       "      <td>3.000000</td>\n",
       "      <td>4.833333</td>\n",
       "    </tr>\n",
       "    <tr>\n",
       "      <th>48</th>\n",
       "      <td>Comics &amp; Humor</td>\n",
       "      <td>218.400000</td>\n",
       "      <td>46.200000</td>\n",
       "      <td>4.820000</td>\n",
       "    </tr>\n",
       "    <tr>\n",
       "      <th>97</th>\n",
       "      <td>Geburt &amp; Taufe</td>\n",
       "      <td>123.533333</td>\n",
       "      <td>27.000000</td>\n",
       "      <td>4.800000</td>\n",
       "    </tr>\n",
       "    <tr>\n",
       "      <th>54</th>\n",
       "      <td>Desserts &amp; Süßspeisen</td>\n",
       "      <td>43.200000</td>\n",
       "      <td>9.000000</td>\n",
       "      <td>4.800000</td>\n",
       "    </tr>\n",
       "    <tr>\n",
       "      <th>82</th>\n",
       "      <td>Finanzen</td>\n",
       "      <td>11.066667</td>\n",
       "      <td>2.333333</td>\n",
       "      <td>4.800000</td>\n",
       "    </tr>\n",
       "    <tr>\n",
       "      <th>150</th>\n",
       "      <td>Kochen für die Familie</td>\n",
       "      <td>21.300000</td>\n",
       "      <td>4.500000</td>\n",
       "      <td>4.800000</td>\n",
       "    </tr>\n",
       "    <tr>\n",
       "      <th>109</th>\n",
       "      <td>Gesetzessammlungen &amp; Entscheidungen</td>\n",
       "      <td>18.800000</td>\n",
       "      <td>4.000000</td>\n",
       "      <td>4.800000</td>\n",
       "    </tr>\n",
       "  </tbody>\n",
       "</table>\n",
       "</div>"
      ],
      "text/plain": [
       "                                Category  Total_Rating_Score   Comments  \\\n",
       "227                  Postkarten & Poster            5.000000   1.000000   \n",
       "128                           Hinduismus           15.000000   3.000000   \n",
       "56        Deutsch als Fremdsprache (DAF)           20.000000   4.000000   \n",
       "204               Mädchen (0 -24 Monate)           30.000000   6.000000   \n",
       "294                  Wand- & Türschilder           10.000000   2.000000   \n",
       "291                        Verschiedenes            5.000000   1.000000   \n",
       "310                           Zivilrecht           15.000000   3.000000   \n",
       "185                      Länder & Städte           75.233333  15.333333   \n",
       "165       Köche & Kochshows im Fernsehen           49.000000  10.000000   \n",
       "238                        Rechtsmedizin          112.700000  23.000000   \n",
       "50                                  Dank          245.000000  50.000000   \n",
       "47               Comics & Graphic Novels           68.600000  14.000000   \n",
       "55       Detektiv- & Kriminalgeschichten          297.666667  62.000000   \n",
       "271            Sprichwörter & Aphorismen           14.333333   3.000000   \n",
       "48                        Comics & Humor          218.400000  46.200000   \n",
       "97                        Geburt & Taufe          123.533333  27.000000   \n",
       "54                 Desserts & Süßspeisen           43.200000   9.000000   \n",
       "82                              Finanzen           11.066667   2.333333   \n",
       "150               Kochen für die Familie           21.300000   4.500000   \n",
       "109  Gesetzessammlungen & Entscheidungen           18.800000   4.000000   \n",
       "\n",
       "     Book_Star  \n",
       "227   5.000000  \n",
       "128   5.000000  \n",
       "56    5.000000  \n",
       "204   5.000000  \n",
       "294   5.000000  \n",
       "291   5.000000  \n",
       "310   5.000000  \n",
       "185   4.933333  \n",
       "165   4.900000  \n",
       "238   4.900000  \n",
       "50    4.900000  \n",
       "47    4.900000  \n",
       "55    4.866667  \n",
       "271   4.833333  \n",
       "48    4.820000  \n",
       "97    4.800000  \n",
       "54    4.800000  \n",
       "82    4.800000  \n",
       "150   4.800000  \n",
       "109   4.800000  "
      ]
     },
     "execution_count": 59,
     "metadata": {},
     "output_type": "execute_result"
    }
   ],
   "source": [
    "df5_book_star.sort_values('Book_Star',ascending=False).head(20)\n",
    "# book star kiyaslamak icin mantikli bir sonuc vermiyor"
   ]
  },
  {
   "cell_type": "code",
   "execution_count": 60,
   "metadata": {},
   "outputs": [
    {
     "data": {
      "text/html": [
       "<div>\n",
       "<style scoped>\n",
       "    .dataframe tbody tr th:only-of-type {\n",
       "        vertical-align: middle;\n",
       "    }\n",
       "\n",
       "    .dataframe tbody tr th {\n",
       "        vertical-align: top;\n",
       "    }\n",
       "\n",
       "    .dataframe thead th {\n",
       "        text-align: right;\n",
       "    }\n",
       "</style>\n",
       "<table border=\"1\" class=\"dataframe\">\n",
       "  <thead>\n",
       "    <tr style=\"text-align: right;\">\n",
       "      <th></th>\n",
       "      <th>Category</th>\n",
       "      <th>Total_Rating_Score</th>\n",
       "      <th>Comments</th>\n",
       "      <th>Book_Star</th>\n",
       "    </tr>\n",
       "  </thead>\n",
       "  <tbody>\n",
       "    <tr>\n",
       "      <th>289</th>\n",
       "      <td>Vegetarische &amp; vegane Küche</td>\n",
       "      <td>46023.000000</td>\n",
       "      <td>10005.000000</td>\n",
       "      <td>4.600000</td>\n",
       "    </tr>\n",
       "    <tr>\n",
       "      <th>240</th>\n",
       "      <td>Rechtsstreit</td>\n",
       "      <td>1478.070000</td>\n",
       "      <td>314.800000</td>\n",
       "      <td>4.260000</td>\n",
       "    </tr>\n",
       "    <tr>\n",
       "      <th>249</th>\n",
       "      <td>Romantische Thriller</td>\n",
       "      <td>1194.028571</td>\n",
       "      <td>261.571429</td>\n",
       "      <td>4.371429</td>\n",
       "    </tr>\n",
       "    <tr>\n",
       "      <th>296</th>\n",
       "      <td>Wandkalender</td>\n",
       "      <td>723.800000</td>\n",
       "      <td>154.000000</td>\n",
       "      <td>4.700000</td>\n",
       "    </tr>\n",
       "    <tr>\n",
       "      <th>279</th>\n",
       "      <td>Thriller &amp; Suspense</td>\n",
       "      <td>505.179969</td>\n",
       "      <td>116.061633</td>\n",
       "      <td>4.137750</td>\n",
       "    </tr>\n",
       "    <tr>\n",
       "      <th>88</th>\n",
       "      <td>Frauenliteratur</td>\n",
       "      <td>483.106731</td>\n",
       "      <td>109.985577</td>\n",
       "      <td>4.305769</td>\n",
       "    </tr>\n",
       "    <tr>\n",
       "      <th>144</th>\n",
       "      <td>Kindergarten</td>\n",
       "      <td>475.200000</td>\n",
       "      <td>108.000000</td>\n",
       "      <td>4.400000</td>\n",
       "    </tr>\n",
       "    <tr>\n",
       "      <th>60</th>\n",
       "      <td>Dramatik</td>\n",
       "      <td>452.833929</td>\n",
       "      <td>102.776786</td>\n",
       "      <td>4.332143</td>\n",
       "    </tr>\n",
       "    <tr>\n",
       "      <th>242</th>\n",
       "      <td>Reise-Zubehör</td>\n",
       "      <td>421.400000</td>\n",
       "      <td>98.000000</td>\n",
       "      <td>4.300000</td>\n",
       "    </tr>\n",
       "    <tr>\n",
       "      <th>1</th>\n",
       "      <td>Action &amp; Abenteuer</td>\n",
       "      <td>405.965306</td>\n",
       "      <td>93.108844</td>\n",
       "      <td>4.206122</td>\n",
       "    </tr>\n",
       "    <tr>\n",
       "      <th>284</th>\n",
       "      <td>US-Sport</td>\n",
       "      <td>387.371429</td>\n",
       "      <td>82.571429</td>\n",
       "      <td>4.485714</td>\n",
       "    </tr>\n",
       "    <tr>\n",
       "      <th>211</th>\n",
       "      <td>New Adult</td>\n",
       "      <td>369.300000</td>\n",
       "      <td>82.333333</td>\n",
       "      <td>4.483333</td>\n",
       "    </tr>\n",
       "    <tr>\n",
       "      <th>257</th>\n",
       "      <td>Science Fiction &amp; Fantasy</td>\n",
       "      <td>364.269874</td>\n",
       "      <td>81.347792</td>\n",
       "      <td>4.370426</td>\n",
       "    </tr>\n",
       "    <tr>\n",
       "      <th>241</th>\n",
       "      <td>Reise &amp; Abenteuer</td>\n",
       "      <td>354.777778</td>\n",
       "      <td>77.777778</td>\n",
       "      <td>4.500000</td>\n",
       "    </tr>\n",
       "    <tr>\n",
       "      <th>206</th>\n",
       "      <td>Märchen, Sagen &amp; Legenden</td>\n",
       "      <td>332.900000</td>\n",
       "      <td>75.926606</td>\n",
       "      <td>4.432110</td>\n",
       "    </tr>\n",
       "    <tr>\n",
       "      <th>300</th>\n",
       "      <td>Weltliteratur</td>\n",
       "      <td>332.715390</td>\n",
       "      <td>76.986410</td>\n",
       "      <td>4.135263</td>\n",
       "    </tr>\n",
       "    <tr>\n",
       "      <th>141</th>\n",
       "      <td>Kalender für Kinder</td>\n",
       "      <td>330.300000</td>\n",
       "      <td>69.000000</td>\n",
       "      <td>4.633333</td>\n",
       "    </tr>\n",
       "    <tr>\n",
       "      <th>77</th>\n",
       "      <td>Fantasy</td>\n",
       "      <td>323.730508</td>\n",
       "      <td>73.043584</td>\n",
       "      <td>4.291525</td>\n",
       "    </tr>\n",
       "    <tr>\n",
       "      <th>158</th>\n",
       "      <td>Krimis</td>\n",
       "      <td>309.211107</td>\n",
       "      <td>70.925134</td>\n",
       "      <td>4.169313</td>\n",
       "    </tr>\n",
       "    <tr>\n",
       "      <th>212</th>\n",
       "      <td>Noir-Belletristik</td>\n",
       "      <td>299.200000</td>\n",
       "      <td>68.000000</td>\n",
       "      <td>4.400000</td>\n",
       "    </tr>\n",
       "  </tbody>\n",
       "</table>\n",
       "</div>"
      ],
      "text/plain": [
       "                        Category  Total_Rating_Score      Comments  Book_Star\n",
       "289  Vegetarische & vegane Küche        46023.000000  10005.000000   4.600000\n",
       "240                 Rechtsstreit         1478.070000    314.800000   4.260000\n",
       "249         Romantische Thriller         1194.028571    261.571429   4.371429\n",
       "296                 Wandkalender          723.800000    154.000000   4.700000\n",
       "279          Thriller & Suspense          505.179969    116.061633   4.137750\n",
       "88               Frauenliteratur          483.106731    109.985577   4.305769\n",
       "144                 Kindergarten          475.200000    108.000000   4.400000\n",
       "60                      Dramatik          452.833929    102.776786   4.332143\n",
       "242                Reise-Zubehör          421.400000     98.000000   4.300000\n",
       "1             Action & Abenteuer          405.965306     93.108844   4.206122\n",
       "284                     US-Sport          387.371429     82.571429   4.485714\n",
       "211                    New Adult          369.300000     82.333333   4.483333\n",
       "257    Science Fiction & Fantasy          364.269874     81.347792   4.370426\n",
       "241            Reise & Abenteuer          354.777778     77.777778   4.500000\n",
       "206    Märchen, Sagen & Legenden          332.900000     75.926606   4.432110\n",
       "300                Weltliteratur          332.715390     76.986410   4.135263\n",
       "141          Kalender für Kinder          330.300000     69.000000   4.633333\n",
       "77                       Fantasy          323.730508     73.043584   4.291525\n",
       "158                       Krimis          309.211107     70.925134   4.169313\n",
       "212            Noir-Belletristik          299.200000     68.000000   4.400000"
      ]
     },
     "execution_count": 60,
     "metadata": {},
     "output_type": "execute_result"
    }
   ],
   "source": [
    "df5_book_star.sort_values('Total_Rating_Score',ascending=False).head(20)"
   ]
  },
  {
   "cell_type": "code",
   "execution_count": 79,
   "metadata": {},
   "outputs": [
    {
     "data": {
      "image/png": "[encoded data removed]",
      "text/plain": [
       "<Figure size 720x504 with 1 Axes>"
      ]
     },
     "metadata": {
      "needs_background": "light"
     },
     "output_type": "display_data"
    }
   ],
   "source": [
    "plt.figure(figsize=(10,7))\n",
    "sns.distplot(df5.Publication_year, kde=False, color = 'darkblue', bins=50)\n",
    "plt.title('Years Distribution',title_font)\n",
    "plt.ylabel('Numbers of Books Published in that Year',axis_style)\n",
    "plt.xlabel('Years',axis_style)\n",
    "plt.show()"
   ]
  },
  {
   "cell_type": "code",
   "execution_count": 53,
   "metadata": {},
   "outputs": [
    {
     "data": {
      "image/png": "[encoded data removed]",
      "text/plain": [
       "<Figure size 720x504 with 1 Axes>"
      ]
     },
     "metadata": {
      "needs_background": "light"
     },
     "output_type": "display_data"
    }
   ],
   "source": [
    "plt.figure(figsize=(10,7))\n",
    "sns.distplot(df5.Book_Star, kde=False, color = 'darkblue')\n",
    "plt.title('Distribution of Book Stars',title_font)\n",
    "plt.ylabel('Numbers of Stars',axis_style)\n",
    "plt.xlabel('Book Stars',axis_style)\n",
    "plt.show()"
   ]
  },
  {
   "cell_type": "code",
   "execution_count": 67,
   "metadata": {},
   "outputs": [
    {
     "data": {
      "image/png": "[encoded data removed]",
      "text/plain": [
       "<Figure size 720x504 with 1 Axes>"
      ]
     },
     "metadata": {
      "needs_background": "light"
     },
     "output_type": "display_data"
    }
   ],
   "source": [
    "plt.figure(figsize=(10,7))\n",
    "sns.distplot(df5.Book_Price, kde=False, color = 'darkblue',bins=50)\n",
    "plt.title('Distribution of Book Price',title_font)\n",
    "plt.ylabel('Numbers',axis_style)\n",
    "plt.xlabel('Book Prices',axis_style)\n",
    "plt.show()"
   ]
  },
  {
   "cell_type": "code",
   "execution_count": 68,
   "metadata": {},
   "outputs": [
    {
     "data": {
      "text/plain": [
       "18"
      ]
     },
     "execution_count": 68,
     "metadata": {},
     "output_type": "execute_result"
    }
   ],
   "source": [
    "df5[df5.Book_Price>200].Title.count()"
   ]
  },
  {
   "cell_type": "code",
   "execution_count": null,
   "metadata": {},
   "outputs": [],
   "source": []
  },
  {
   "cell_type": "code",
   "execution_count": 54,
   "metadata": {},
   "outputs": [
    {
     "data": {
      "image/png": "[encoded data removed]",
      "text/plain": [
       "<Figure size 720x504 with 1 Axes>"
      ]
     },
     "metadata": {
      "needs_background": "light"
     },
     "output_type": "display_data"
    }
   ],
   "source": [
    "plt.figure(figsize=(10,7))\n",
    "sns.scatterplot(data=df5,x='Book_Star',y='Book_Price')\n",
    "plt.title('Book Price vs Book Stars',title_font)\n",
    "plt.xlabel('Book Stars',axis_style)\n",
    "plt.ylabel('Book Price',axis_style)\n",
    "plt.tight_layout()\n",
    "plt.show()"
   ]
  },
  {
   "cell_type": "code",
   "execution_count": 69,
   "metadata": {},
   "outputs": [
    {
     "data": {
      "image/png": "[encoded data removed]",
      "text/plain": [
       "<Figure size 720x504 with 1 Axes>"
      ]
     },
     "metadata": {
      "needs_background": "light"
     },
     "output_type": "display_data"
    }
   ],
   "source": [
    "plt.figure(figsize=(10,7))\n",
    "sns.scatterplot(data=df5,x='Total_Rating_Score',y='Book_Price')\n",
    "plt.title('Book Price vs Total Rating Score',title_font)\n",
    "plt.xlabel('Total Rating Score',axis_style)\n",
    "plt.ylabel('Book Price',axis_style)\n",
    "plt.tight_layout()\n",
    "plt.show()"
   ]
  },
  {
   "cell_type": "code",
   "execution_count": 9,
   "metadata": {},
   "outputs": [
    {
     "data": {
      "text/html": [
       "<div>\n",
       "<style scoped>\n",
       "    .dataframe tbody tr th:only-of-type {\n",
       "        vertical-align: middle;\n",
       "    }\n",
       "\n",
       "    .dataframe tbody tr th {\n",
       "        vertical-align: top;\n",
       "    }\n",
       "\n",
       "    .dataframe thead th {\n",
       "        text-align: right;\n",
       "    }\n",
       "</style>\n",
       "<table border=\"1\" class=\"dataframe\">\n",
       "  <thead>\n",
       "    <tr style=\"text-align: right;\">\n",
       "      <th></th>\n",
       "      <th>Author</th>\n",
       "      <th>Title</th>\n",
       "    </tr>\n",
       "  </thead>\n",
       "  <tbody>\n",
       "    <tr>\n",
       "      <th>25054</th>\n",
       "      <td>Klett</td>\n",
       "      <td>453</td>\n",
       "    </tr>\n",
       "    <tr>\n",
       "      <th>37461</th>\n",
       "      <td>Schroedel Verlag GmbH</td>\n",
       "      <td>129</td>\n",
       "    </tr>\n",
       "    <tr>\n",
       "      <th>43562</th>\n",
       "      <td>Westermann Schulbuch</td>\n",
       "      <td>107</td>\n",
       "    </tr>\n",
       "    <tr>\n",
       "      <th>10340</th>\n",
       "      <td>Dorling Kindersley Reiseführer</td>\n",
       "      <td>87</td>\n",
       "    </tr>\n",
       "    <tr>\n",
       "      <th>32448</th>\n",
       "      <td>PONS GmbH</td>\n",
       "      <td>85</td>\n",
       "    </tr>\n",
       "    <tr>\n",
       "      <th>38431</th>\n",
       "      <td>Stark Verlag</td>\n",
       "      <td>79</td>\n",
       "    </tr>\n",
       "    <tr>\n",
       "      <th>23515</th>\n",
       "      <td>Karl May</td>\n",
       "      <td>71</td>\n",
       "    </tr>\n",
       "    <tr>\n",
       "      <th>14231</th>\n",
       "      <td>Gabriele Haefs</td>\n",
       "      <td>69</td>\n",
       "    </tr>\n",
       "    <tr>\n",
       "      <th>10699</th>\n",
       "      <td>Dr. Oetker</td>\n",
       "      <td>64</td>\n",
       "    </tr>\n",
       "    <tr>\n",
       "      <th>34946</th>\n",
       "      <td>Redaktion Langenscheidt</td>\n",
       "      <td>63</td>\n",
       "    </tr>\n",
       "  </tbody>\n",
       "</table>\n",
       "</div>"
      ],
      "text/plain": [
       "                               Author  Title\n",
       "25054                           Klett    453\n",
       "37461          Schroedel Verlag GmbH     129\n",
       "43562           Westermann Schulbuch     107\n",
       "10340  Dorling Kindersley Reiseführer     87\n",
       "32448                       PONS GmbH     85\n",
       "38431                   Stark Verlag      79\n",
       "23515                        Karl May     71\n",
       "14231                  Gabriele Haefs     69\n",
       "10699                      Dr. Oetker     64\n",
       "34946         Redaktion Langenscheidt     63"
      ]
     },
     "execution_count": 9,
     "metadata": {},
     "output_type": "execute_result"
    }
   ],
   "source": [
    "# en cok 20 yazar\n",
    "df5.groupby('Author')['Title'].count().reset_index().sort_values('Title',ascending=False).head(10)"
   ]
  },
  {
   "cell_type": "code",
   "execution_count": 56,
   "metadata": {},
   "outputs": [
    {
     "data": {
      "text/html": [
       "<div>\n",
       "<style scoped>\n",
       "    .dataframe tbody tr th:only-of-type {\n",
       "        vertical-align: middle;\n",
       "    }\n",
       "\n",
       "    .dataframe tbody tr th {\n",
       "        vertical-align: top;\n",
       "    }\n",
       "\n",
       "    .dataframe thead th {\n",
       "        text-align: right;\n",
       "    }\n",
       "</style>\n",
       "<table border=\"1\" class=\"dataframe\">\n",
       "  <thead>\n",
       "    <tr style=\"text-align: right;\">\n",
       "      <th></th>\n",
       "      <th>Author</th>\n",
       "      <th>Comments</th>\n",
       "    </tr>\n",
       "  </thead>\n",
       "  <tbody>\n",
       "    <tr>\n",
       "      <th>1241</th>\n",
       "      <td>Andrea Brandl,Sonja Hauser</td>\n",
       "      <td>31773</td>\n",
       "    </tr>\n",
       "    <tr>\n",
       "      <th>37519</th>\n",
       "      <td>Sebastian Fitzek</td>\n",
       "      <td>20739</td>\n",
       "    </tr>\n",
       "    <tr>\n",
       "      <th>26700</th>\n",
       "      <td>M.L. Stedman</td>\n",
       "      <td>16877</td>\n",
       "    </tr>\n",
       "    <tr>\n",
       "      <th>43569</th>\n",
       "      <td>Wibke Kuhn</td>\n",
       "      <td>14691</td>\n",
       "    </tr>\n",
       "    <tr>\n",
       "      <th>6475</th>\n",
       "      <td>Charlotte Link</td>\n",
       "      <td>14173</td>\n",
       "    </tr>\n",
       "    <tr>\n",
       "      <th>23675</th>\n",
       "      <td>Karolina Fell</td>\n",
       "      <td>10447</td>\n",
       "    </tr>\n",
       "    <tr>\n",
       "      <th>24336</th>\n",
       "      <td>Kerstin Gier</td>\n",
       "      <td>10309</td>\n",
       "    </tr>\n",
       "    <tr>\n",
       "      <th>16161</th>\n",
       "      <td>Hannes Thiess</td>\n",
       "      <td>10259</td>\n",
       "    </tr>\n",
       "    <tr>\n",
       "      <th>20627</th>\n",
       "      <td>Jeff Kinney</td>\n",
       "      <td>10214</td>\n",
       "    </tr>\n",
       "    <tr>\n",
       "      <th>16894</th>\n",
       "      <td>Hape Kerkeling</td>\n",
       "      <td>10053</td>\n",
       "    </tr>\n",
       "  </tbody>\n",
       "</table>\n",
       "</div>"
      ],
      "text/plain": [
       "                           Author  Comments\n",
       "1241   Andrea Brandl,Sonja Hauser     31773\n",
       "37519            Sebastian Fitzek     20739\n",
       "26700                M.L. Stedman     16877\n",
       "43569                  Wibke Kuhn     14691\n",
       "6475               Charlotte Link     14173\n",
       "23675               Karolina Fell     10447\n",
       "24336                Kerstin Gier     10309\n",
       "16161               Hannes Thiess     10259\n",
       "20627                 Jeff Kinney     10214\n",
       "16894              Hape Kerkeling     10053"
      ]
     },
     "execution_count": 56,
     "metadata": {},
     "output_type": "execute_result"
    }
   ],
   "source": [
    "# en cok yorum alan 10 yazar\n",
    "df5_author=df5.groupby('Author')['Comments'].sum().reset_index().sort_values('Comments',ascending=False).head(10)\n",
    "df5_author"
   ]
  },
  {
   "cell_type": "code",
   "execution_count": 57,
   "metadata": {},
   "outputs": [
    {
     "data": {
      "image/png": "[encoded data removed]",
      "text/plain": [
       "<Figure size 720x504 with 1 Axes>"
      ]
     },
     "metadata": {
      "needs_background": "light"
     },
     "output_type": "display_data"
    }
   ],
   "source": [
    "plt.figure(figsize=(10,7))\n",
    "sns.barplot(x = 'Author', y='Comments', data =df5_author)\n",
    "plt.title('Authors and Number of Comments',title_font)\n",
    "plt.xlabel('Authors',axis_style)\n",
    "plt.ylabel('Number of Comments',axis_style)\n",
    "plt.xticks(rotation = 90)\n",
    "plt.show()"
   ]
  },
  {
   "cell_type": "markdown",
   "metadata": {},
   "source": [
    "# Natural Language Processing"
   ]
  },
  {
   "cell_type": "code",
   "execution_count": 2,
   "metadata": {},
   "outputs": [],
   "source": [
    "df6 = pd.read_csv(\"Books_Recommendation.csv\",index_col=0)"
   ]
  },
  {
   "cell_type": "markdown",
   "metadata": {},
   "source": [
    "# Lower Case"
   ]
  },
  {
   "cell_type": "code",
   "execution_count": 3,
   "metadata": {},
   "outputs": [],
   "source": [
    "df6['Title_lower']='title'"
   ]
  },
  {
   "cell_type": "code",
   "execution_count": 4,
   "metadata": {},
   "outputs": [],
   "source": [
    "df6['Title_lower'] = df6['Title'].apply(lambda x: \" \".join(x.lower() for x in x.split()))"
   ]
  },
  {
   "cell_type": "markdown",
   "metadata": {},
   "source": [
    "# Stopwords"
   ]
  },
  {
   "cell_type": "code",
   "execution_count": 5,
   "metadata": {},
   "outputs": [],
   "source": [
    "stop= stopwords.words('german')"
   ]
  },
  {
   "cell_type": "code",
   "execution_count": 132,
   "metadata": {},
   "outputs": [],
   "source": [
    "stop2= stopwords.words('english')"
   ]
  },
  {
   "cell_type": "code",
   "execution_count": 6,
   "metadata": {},
   "outputs": [],
   "source": [
    "df6['Title_lower'] = df6['Title_lower'].apply(lambda x: \" \".join(x for x in x.split() if x not in stop))"
   ]
  },
  {
   "cell_type": "code",
   "execution_count": 134,
   "metadata": {},
   "outputs": [],
   "source": [
    "df6['Title_lower'] = df6['Title_lower'].apply(lambda x: \" \".join(x for x in x.split() if x not in stop2))"
   ]
  },
  {
   "cell_type": "code",
   "execution_count": 8,
   "metadata": {},
   "outputs": [],
   "source": [
    "df6.reset_index(drop=True,inplace=True)"
   ]
  },
  {
   "cell_type": "markdown",
   "metadata": {},
   "source": [
    "# Removing all except Letters"
   ]
  },
  {
   "cell_type": "code",
   "execution_count": 11,
   "metadata": {},
   "outputs": [
    {
     "data": {
      "text/html": [
       "<div>\n",
       "<style scoped>\n",
       "    .dataframe tbody tr th:only-of-type {\n",
       "        vertical-align: middle;\n",
       "    }\n",
       "\n",
       "    .dataframe tbody tr th {\n",
       "        vertical-align: top;\n",
       "    }\n",
       "\n",
       "    .dataframe thead th {\n",
       "        text-align: right;\n",
       "    }\n",
       "</style>\n",
       "<table border=\"1\" class=\"dataframe\">\n",
       "  <thead>\n",
       "    <tr style=\"text-align: right;\">\n",
       "      <th></th>\n",
       "      <th>Asin</th>\n",
       "      <th>Title</th>\n",
       "      <th>Comments</th>\n",
       "      <th>Book_Price</th>\n",
       "      <th>Book_Star</th>\n",
       "      <th>Category</th>\n",
       "      <th>Author</th>\n",
       "      <th>Publication_year</th>\n",
       "      <th>Publisher</th>\n",
       "      <th>num_Page</th>\n",
       "      <th>Total_Rating_Score</th>\n",
       "      <th>Title_lower</th>\n",
       "    </tr>\n",
       "  </thead>\n",
       "  <tbody>\n",
       "    <tr>\n",
       "      <th>0</th>\n",
       "      <td>1781934606</td>\n",
       "      <td>Warhammer Age of Sigmar - Im Reich der Unbegra...</td>\n",
       "      <td>23</td>\n",
       "      <td>12.99</td>\n",
       "      <td>3.9</td>\n",
       "      <td>Unterhaltungsliteratur</td>\n",
       "      <td>Horus W. Odenthal</td>\n",
       "      <td>2019</td>\n",
       "      <td>Black Library</td>\n",
       "      <td>448</td>\n",
       "      <td>89.7</td>\n",
       "      <td>warhammer age of sigmar   reich unbegrabenen  ...</td>\n",
       "    </tr>\n",
       "    <tr>\n",
       "      <th>1</th>\n",
       "      <td>1782325956</td>\n",
       "      <td>Mein Stickerbuch: Abenteuer Raumfahrt</td>\n",
       "      <td>10</td>\n",
       "      <td>6.95</td>\n",
       "      <td>4.9</td>\n",
       "      <td>Spiel &amp; Spaß</td>\n",
       "      <td>Fiona Watt,Paul Nicholls</td>\n",
       "      <td>2017</td>\n",
       "      <td>Usborne Publishing</td>\n",
       "      <td>34</td>\n",
       "      <td>49.0</td>\n",
       "      <td>stickerbuch  abenteuer raumfahrt</td>\n",
       "    </tr>\n",
       "    <tr>\n",
       "      <th>2</th>\n",
       "      <td>178232707X</td>\n",
       "      <td>Mein Wisch-und-weg-Buch Schulstart: Ich schrei...</td>\n",
       "      <td>27</td>\n",
       "      <td>6.95</td>\n",
       "      <td>4.5</td>\n",
       "      <td>Kunst, Musik &amp; Fotografie</td>\n",
       "      <td>Hannah Watson,Marina Aizen</td>\n",
       "      <td>2017</td>\n",
       "      <td>Usborne Publishing</td>\n",
       "      <td>24</td>\n",
       "      <td>121.5</td>\n",
       "      <td>wisch und weg buch schulstart  schreibe buchst...</td>\n",
       "    </tr>\n",
       "    <tr>\n",
       "      <th>3</th>\n",
       "      <td>1495335216</td>\n",
       "      <td>Praxishandbuch Healing Code: Weiterentwicklung...</td>\n",
       "      <td>93</td>\n",
       "      <td>9.80</td>\n",
       "      <td>4.3</td>\n",
       "      <td>Gesundheit &amp; Medizin</td>\n",
       "      <td>Simon Kraft</td>\n",
       "      <td>2014</td>\n",
       "      <td>CreateSpace Independent Publishing Platform</td>\n",
       "      <td>136</td>\n",
       "      <td>399.9</td>\n",
       "      <td>praxishandbuch healing code  weiterentwicklung...</td>\n",
       "    </tr>\n",
       "    <tr>\n",
       "      <th>4</th>\n",
       "      <td>178232321X</td>\n",
       "      <td>Mein Mode-Stickerbuch: Hochzeitskollektion</td>\n",
       "      <td>18</td>\n",
       "      <td>6.95</td>\n",
       "      <td>4.7</td>\n",
       "      <td>Spiel &amp; Spaß</td>\n",
       "      <td>Stella Baggott</td>\n",
       "      <td>2015</td>\n",
       "      <td>Usborne Publishing</td>\n",
       "      <td>34</td>\n",
       "      <td>84.6</td>\n",
       "      <td>mode stickerbuch  hochzeitskollektion</td>\n",
       "    </tr>\n",
       "  </tbody>\n",
       "</table>\n",
       "</div>"
      ],
      "text/plain": [
       "         Asin                                              Title  Comments  \\\n",
       "0  1781934606  Warhammer Age of Sigmar - Im Reich der Unbegra...        23   \n",
       "1  1782325956              Mein Stickerbuch: Abenteuer Raumfahrt        10   \n",
       "2  178232707X  Mein Wisch-und-weg-Buch Schulstart: Ich schrei...        27   \n",
       "3  1495335216  Praxishandbuch Healing Code: Weiterentwicklung...        93   \n",
       "4  178232321X         Mein Mode-Stickerbuch: Hochzeitskollektion        18   \n",
       "\n",
       "   Book_Price  Book_Star                   Category  \\\n",
       "0       12.99        3.9     Unterhaltungsliteratur   \n",
       "1        6.95        4.9               Spiel & Spaß   \n",
       "2        6.95        4.5  Kunst, Musik & Fotografie   \n",
       "3        9.80        4.3       Gesundheit & Medizin   \n",
       "4        6.95        4.7               Spiel & Spaß   \n",
       "\n",
       "                       Author  Publication_year  \\\n",
       "0           Horus W. Odenthal              2019   \n",
       "1    Fiona Watt,Paul Nicholls              2017   \n",
       "2  Hannah Watson,Marina Aizen              2017   \n",
       "3                 Simon Kraft              2014   \n",
       "4              Stella Baggott              2015   \n",
       "\n",
       "                                     Publisher  num_Page  Total_Rating_Score  \\\n",
       "0                                Black Library       448                89.7   \n",
       "1                          Usborne Publishing         34                49.0   \n",
       "2                          Usborne Publishing         24               121.5   \n",
       "3  CreateSpace Independent Publishing Platform       136               399.9   \n",
       "4                          Usborne Publishing         34                84.6   \n",
       "\n",
       "                                         Title_lower  \n",
       "0  warhammer age of sigmar   reich unbegrabenen  ...  \n",
       "1                   stickerbuch  abenteuer raumfahrt  \n",
       "2  wisch und weg buch schulstart  schreibe buchst...  \n",
       "3  praxishandbuch healing code  weiterentwicklung...  \n",
       "4              mode stickerbuch  hochzeitskollektion  "
      ]
     },
     "execution_count": 11,
     "metadata": {},
     "output_type": "execute_result"
    }
   ],
   "source": [
    "df6['Title_lower'] = df6['Title_lower'].str.replace(\"[^a-zA-ZäöüÄÖÜß]\", \" \")\n"
   ]
  },
  {
   "cell_type": "markdown",
   "metadata": {},
   "source": [
    "# Punctuation Removal"
   ]
  },
  {
   "cell_type": "code",
   "execution_count": 13,
   "metadata": {},
   "outputs": [],
   "source": [
    "df6['Title_lower'] = df6['Title_lower'].str.replace('[^\\w\\s]','')"
   ]
  },
  {
   "cell_type": "code",
   "execution_count": 14,
   "metadata": {},
   "outputs": [
    {
     "data": {
      "text/plain": [
       "roman          7116\n",
       "band           4903\n",
       "ausgabe        3234\n",
       "reiseführer    2973\n",
       "leben          2631\n",
       "geschichte     1532\n",
       "welt           1531\n",
       "klasse         1501\n",
       "deutsch        1356\n",
       "buch           1312\n",
       "reise          1241\n",
       "ab             1217\n",
       "taschenbuch    1190\n",
       "fr             1156\n",
       "cd             1017\n",
       "die             985\n",
       "fall            970\n",
       "mathematik      960\n",
       "liebe           958\n",
       "schülerbuch     947\n",
       "dtype: int64"
      ]
     },
     "execution_count": 14,
     "metadata": {},
     "output_type": "execute_result"
    }
   ],
   "source": [
    "frequent_words = pd.Series(' '.join(df6['Title_lower']).split()).value_counts()[:20]\n",
    "frequent_words"
   ]
  },
  {
   "cell_type": "code",
   "execution_count": 15,
   "metadata": {},
   "outputs": [],
   "source": [
    "df6['Title_lower'] = df6['Title_lower'].apply(lambda x: \" \".join(x for x in x.split() if x not in frequent_words))"
   ]
  },
  {
   "cell_type": "markdown",
   "metadata": {},
   "source": [
    "# Rare Words Removal"
   ]
  },
  {
   "cell_type": "code",
   "execution_count": 16,
   "metadata": {},
   "outputs": [],
   "source": [
    "rare_words = pd.Series(\" \".join(df6['Title_lower']).split()).value_counts()[-50:]"
   ]
  },
  {
   "cell_type": "code",
   "execution_count": 17,
   "metadata": {},
   "outputs": [
    {
     "data": {
      "text/plain": [
       "weinlese           1\n",
       "schuldgefühl       1\n",
       "boysen             1\n",
       "haushaltstricks    1\n",
       "geschchten         1\n",
       "dtype: int64"
      ]
     },
     "execution_count": 17,
     "metadata": {},
     "output_type": "execute_result"
    }
   ],
   "source": [
    "rare_words.head()"
   ]
  },
  {
   "cell_type": "code",
   "execution_count": 18,
   "metadata": {},
   "outputs": [],
   "source": [
    "df6['Title_lower'] = df6['Title_lower'].apply(lambda x: \" \".join(x for x in x.split() if x not in rare_words))"
   ]
  },
  {
   "cell_type": "markdown",
   "metadata": {},
   "source": [
    "# Tokenization English"
   ]
  },
  {
   "cell_type": "code",
   "execution_count": 143,
   "metadata": {},
   "outputs": [],
   "source": [
    "nlp = en_core_web_sm.load()"
   ]
  },
  {
   "cell_type": "code",
   "execution_count": 144,
   "metadata": {},
   "outputs": [],
   "source": [
    "df6['Title_lower']=df6['Title_lower'].apply(nlp)"
   ]
  },
  {
   "cell_type": "markdown",
   "metadata": {},
   "source": [
    "# Lemmatization"
   ]
  },
  {
   "cell_type": "code",
   "execution_count": 146,
   "metadata": {},
   "outputs": [],
   "source": [
    "for i, word in enumerate(df6['Title_lower']):\n",
    "    df6.loc[i, \"Title_lower\"] = \" \".join([token.lemma_ for token in word if not token.is_punct and not token.is_stop])"
   ]
  },
  {
   "cell_type": "code",
   "execution_count": 151,
   "metadata": {},
   "outputs": [],
   "source": [
    "df6.dropna(inplace=True)"
   ]
  },
  {
   "cell_type": "code",
   "execution_count": 152,
   "metadata": {},
   "outputs": [],
   "source": [
    "df6.to_csv('Books_Title_eng_lemma.csv')"
   ]
  },
  {
   "cell_type": "code",
   "execution_count": 153,
   "metadata": {},
   "outputs": [],
   "source": [
    "df7=pd.read_csv('Books_Title_eng_lemma.csv',index_col=0)"
   ]
  },
  {
   "cell_type": "markdown",
   "metadata": {},
   "source": [
    "# Tokenization German"
   ]
  },
  {
   "cell_type": "code",
   "execution_count": 20,
   "metadata": {},
   "outputs": [],
   "source": [
    "nlp_de= de_core_news_sm.load()"
   ]
  },
  {
   "cell_type": "code",
   "execution_count": null,
   "metadata": {},
   "outputs": [],
   "source": [
    "df6=df6.dropna(subset=['Title_lower'])"
   ]
  },
  {
   "cell_type": "code",
   "execution_count": 21,
   "metadata": {},
   "outputs": [],
   "source": [
    "df6['Title_lower']=df6['Title_lower'].apply(nlp_de)"
   ]
  },
  {
   "cell_type": "markdown",
   "metadata": {},
   "source": [
    "# Lemmatization German"
   ]
  },
  {
   "cell_type": "code",
   "execution_count": 23,
   "metadata": {},
   "outputs": [],
   "source": [
    "for i, word in enumerate(df6['Title_lower']):\n",
    "    df6.loc[i, \"Title_lower\"] = \" \".join([token.lemma_ for token in word if not token.is_punct and not token.is_stop])"
   ]
  },
  {
   "cell_type": "code",
   "execution_count": 25,
   "metadata": {},
   "outputs": [],
   "source": [
    "df6.to_csv('Books_Title_de_lemma.csv')"
   ]
  },
  {
   "cell_type": "markdown",
   "metadata": {},
   "source": [
    "# Implementatiton"
   ]
  },
  {
   "cell_type": "code",
   "execution_count": 26,
   "metadata": {},
   "outputs": [],
   "source": [
    "df_temp=pd.read_csv('Books_Title_de_lemma.csv',index_col=0)"
   ]
  },
  {
   "cell_type": "code",
   "execution_count": 27,
   "metadata": {},
   "outputs": [],
   "source": [
    "df_temp.Title_lower=df_temp.Title_lower.str.split()"
   ]
  },
  {
   "cell_type": "code",
   "execution_count": 28,
   "metadata": {},
   "outputs": [],
   "source": [
    "df_temp.to_csv('title_list.csv')"
   ]
  },
  {
   "cell_type": "code",
   "execution_count": null,
   "metadata": {},
   "outputs": [],
   "source": [
    "df_temp.head(50)"
   ]
  },
  {
   "cell_type": "code",
   "execution_count": 34,
   "metadata": {},
   "outputs": [],
   "source": [
    "df_temp.dropna(inplace=True)"
   ]
  },
  {
   "cell_type": "code",
   "execution_count": 35,
   "metadata": {},
   "outputs": [],
   "source": [
    "df_temp.reset_index(drop=True,inplace=True)"
   ]
  },
  {
   "cell_type": "code",
   "execution_count": 36,
   "metadata": {},
   "outputs": [],
   "source": [
    "# train word2vec on the the sentences\n",
    "model = gensim.models.Word2Vec(\n",
    "    df_temp[\"Title_lower\"],\n",
    "    workers=4,\n",
    "    min_count=1,\n",
    "    window=6,\n",
    "    sg=0,\n",
    "    sample=1e-3,\n",
    "    size=100,\n",
    "    hs=1\n",
    ")"
   ]
  },
  {
   "cell_type": "code",
   "execution_count": 38,
   "metadata": {},
   "outputs": [],
   "source": [
    "word2vec_arr = np.zeros((df_temp.shape[0],100))\n",
    "\n",
    "for i, title in enumerate(df_temp[\"Title_lower\"]):\n",
    "    word2vec_arr[i,:] = np.mean([model[lemma] for lemma in title], axis=0)\n",
    "\n",
    "word2vec_arr = pd.DataFrame(word2vec_arr)"
   ]
  },
  {
   "cell_type": "code",
   "execution_count": 41,
   "metadata": {},
   "outputs": [],
   "source": [
    "df_last = pd.concat([df_temp[[\"Asin\",'Title','Category',\"Comments\",\"Book_Price\",'Book_Star','Publication_year','num_Page','Total_Rating_Score','Title_lower']],word2vec_arr], axis=1)"
   ]
  },
  {
   "cell_type": "code",
   "execution_count": 42,
   "metadata": {},
   "outputs": [],
   "source": [
    "for col in df_last.columns[3:6]:\n",
    "    df_last[col]=scale(df_last[col])"
   ]
  },
  {
   "cell_type": "code",
   "execution_count": 33,
   "metadata": {},
   "outputs": [],
   "source": [
    "df_last.dropna(inplace=True)"
   ]
  },
  {
   "cell_type": "code",
   "execution_count": 34,
   "metadata": {},
   "outputs": [],
   "source": [
    "df_last.reset_index(drop=True,inplace=True)"
   ]
  },
  {
   "cell_type": "code",
   "execution_count": 45,
   "metadata": {},
   "outputs": [],
   "source": [
    "df_last.to_csv('books_last.csv')"
   ]
  },
  {
   "cell_type": "code",
   "execution_count": 46,
   "metadata": {},
   "outputs": [],
   "source": [
    "book=pd.read_csv('books_last.csv',index_col='Asin')"
   ]
  },
  {
   "cell_type": "code",
   "execution_count": 47,
   "metadata": {},
   "outputs": [],
   "source": [
    "book.drop(columns=['Unnamed: 0'],inplace=True,axis=0)"
   ]
  },
  {
   "cell_type": "code",
   "execution_count": 6,
   "metadata": {},
   "outputs": [],
   "source": [
    "X=book.drop('Title_lower',1)\n",
    "y=book['Title_lower']"
   ]
  },
  {
   "cell_type": "code",
   "execution_count": 48,
   "metadata": {},
   "outputs": [],
   "source": [
    "book=pd.concat([book,pd.get_dummies(book.Category)],axis=1)"
   ]
  },
  {
   "cell_type": "code",
   "execution_count": 49,
   "metadata": {},
   "outputs": [],
   "source": [
    "book.drop(columns=['Category','Title_lower'],inplace=True)"
   ]
  },
  {
   "cell_type": "code",
   "execution_count": 52,
   "metadata": {},
   "outputs": [],
   "source": [
    "book.drop(columns=['Title'],inplace=True)"
   ]
  },
  {
   "cell_type": "code",
   "execution_count": 53,
   "metadata": {},
   "outputs": [],
   "source": [
    "cosine_sim = cosine_similarity(book)"
   ]
  },
  {
   "cell_type": "code",
   "execution_count": 55,
   "metadata": {},
   "outputs": [],
   "source": [
    "def get_title_from_index(ind):\n",
    "    return df_last[df_last.index == ind][\"Title\"].values[0]\n",
    "\n",
    "def get_index_from_title(Title):\n",
    "    return df_last[df_last.Title == Title].index.values[0]"
   ]
  },
  {
   "cell_type": "code",
   "execution_count": 56,
   "metadata": {},
   "outputs": [
    {
     "name": "stdin",
     "output_type": "stream",
     "text": [
      "Enter the Book Title Warhammer Age of Sigmar - Im Reich der Unbegrabenen: Gotrek\n"
     ]
    },
    {
     "name": "stdout",
     "output_type": "stream",
     "text": [
      "Top 5 similar books, similar to : Warhammer Age of Sigmar - Im Reich der Unbegrabenen: Gotrek are:\n",
      "\n",
      "Broken Hearts - Gefährliche Nähe (The Original Heartbreakers)\n",
      "Erzähl mir von den weißen Blüten (Die Asien-Saga, Band 1)\n",
      "Anatomie eines Skandals: Du willst deinem Ehemann glauben Sie will ihn zerstören\n",
      "Aus den Ruinen des Empires: Die Revolte gegen den Westen und der Wiederaufstieg Asiens\n",
      "Das Stinktier kann doch nichts dafür: Die schönsten Schmunzelgeschichten aus der Arche. 3 Bücher in 1 Band\n"
     ]
    }
   ],
   "source": [
    "book_user_likes = input(\"Enter the Book Title\")\n",
    "# Warhammer Age of Sigmar - Im Reich der Unbegrabenen: Gotrek\n",
    "# Warhammer 40.000 - Mephiston: Kreuzug der Verdammnis\n",
    "\n",
    "book_index = get_index_from_title(book_user_likes)\n",
    "\n",
    "similar_books =  list(enumerate(cosine_sim[book_index]))\n",
    "\n",
    "sorted_similar_books = sorted(similar_books,key=lambda x:x[1],reverse=True)[1:]\n",
    "\n",
    "i=0\n",
    "print(\"Top 5 similar books, similar to : \"+book_user_likes+\" are:\\n\")\n",
    "for element in sorted_similar_books:\n",
    "    print(get_title_from_index(element[0]))\n",
    "    i=i+1\n",
    "    if i>=5:\n",
    "        break"
   ]
  },
  {
   "cell_type": "code",
   "execution_count": 63,
   "metadata": {},
   "outputs": [
    {
     "data": {
      "text/html": [
       "<div>\n",
       "<style scoped>\n",
       "    .dataframe tbody tr th:only-of-type {\n",
       "        vertical-align: middle;\n",
       "    }\n",
       "\n",
       "    .dataframe tbody tr th {\n",
       "        vertical-align: top;\n",
       "    }\n",
       "\n",
       "    .dataframe thead th {\n",
       "        text-align: right;\n",
       "    }\n",
       "</style>\n",
       "<table border=\"1\" class=\"dataframe\">\n",
       "  <thead>\n",
       "    <tr style=\"text-align: right;\">\n",
       "      <th></th>\n",
       "      <th>Asin</th>\n",
       "      <th>Title</th>\n",
       "      <th>Category</th>\n",
       "      <th>Comments</th>\n",
       "      <th>Book_Price</th>\n",
       "      <th>Book_Star</th>\n",
       "      <th>Publication_year</th>\n",
       "      <th>num_Page</th>\n",
       "      <th>Total_Rating_Score</th>\n",
       "      <th>Title_lower</th>\n",
       "      <th>...</th>\n",
       "      <th>90</th>\n",
       "      <th>91</th>\n",
       "      <th>92</th>\n",
       "      <th>93</th>\n",
       "      <th>94</th>\n",
       "      <th>95</th>\n",
       "      <th>96</th>\n",
       "      <th>97</th>\n",
       "      <th>98</th>\n",
       "      <th>99</th>\n",
       "    </tr>\n",
       "  </thead>\n",
       "  <tbody>\n",
       "    <tr>\n",
       "      <th>0</th>\n",
       "      <td>1781934606</td>\n",
       "      <td>Warhammer Age of Sigmar - Im Reich der Unbegra...</td>\n",
       "      <td>Unterhaltungsliteratur</td>\n",
       "      <td>-0.091684</td>\n",
       "      <td>-0.32413</td>\n",
       "      <td>-0.715066</td>\n",
       "      <td>2019</td>\n",
       "      <td>448</td>\n",
       "      <td>89.7</td>\n",
       "      <td>[warhammer, age, of, sigmar, reichen, unbegrab...</td>\n",
       "      <td>...</td>\n",
       "      <td>0.336366</td>\n",
       "      <td>-0.049011</td>\n",
       "      <td>-0.120272</td>\n",
       "      <td>0.490883</td>\n",
       "      <td>-0.295687</td>\n",
       "      <td>0.179389</td>\n",
       "      <td>-0.159696</td>\n",
       "      <td>0.025246</td>\n",
       "      <td>-0.003317</td>\n",
       "      <td>-0.291504</td>\n",
       "    </tr>\n",
       "  </tbody>\n",
       "</table>\n",
       "<p>1 rows × 110 columns</p>\n",
       "</div>"
      ],
      "text/plain": [
       "         Asin                                              Title  \\\n",
       "0  1781934606  Warhammer Age of Sigmar - Im Reich der Unbegra...   \n",
       "\n",
       "                 Category  Comments  Book_Price  Book_Star  Publication_year  \\\n",
       "0  Unterhaltungsliteratur -0.091684    -0.32413  -0.715066              2019   \n",
       "\n",
       "   num_Page  Total_Rating_Score  \\\n",
       "0       448                89.7   \n",
       "\n",
       "                                         Title_lower  ...        90        91  \\\n",
       "0  [warhammer, age, of, sigmar, reichen, unbegrab...  ...  0.336366 -0.049011   \n",
       "\n",
       "         92        93        94        95        96        97        98  \\\n",
       "0 -0.120272  0.490883 -0.295687  0.179389 -0.159696  0.025246 -0.003317   \n",
       "\n",
       "         99  \n",
       "0 -0.291504  \n",
       "\n",
       "[1 rows x 110 columns]"
      ]
     },
     "execution_count": 63,
     "metadata": {},
     "output_type": "execute_result"
    }
   ],
   "source": [
    "df_last[df_last.Title== \"Warhammer Age of Sigmar - Im Reich der Unbegrabenen: Gotrek\"]"
   ]
  },
  {
   "cell_type": "code",
   "execution_count": 57,
   "metadata": {},
   "outputs": [
    {
     "data": {
      "text/html": [
       "<div>\n",
       "<style scoped>\n",
       "    .dataframe tbody tr th:only-of-type {\n",
       "        vertical-align: middle;\n",
       "    }\n",
       "\n",
       "    .dataframe tbody tr th {\n",
       "        vertical-align: top;\n",
       "    }\n",
       "\n",
       "    .dataframe thead th {\n",
       "        text-align: right;\n",
       "    }\n",
       "</style>\n",
       "<table border=\"1\" class=\"dataframe\">\n",
       "  <thead>\n",
       "    <tr style=\"text-align: right;\">\n",
       "      <th></th>\n",
       "      <th>Asin</th>\n",
       "      <th>Title</th>\n",
       "      <th>Category</th>\n",
       "      <th>Comments</th>\n",
       "      <th>Book_Price</th>\n",
       "      <th>Book_Star</th>\n",
       "      <th>Publication_year</th>\n",
       "      <th>num_Page</th>\n",
       "      <th>Total_Rating_Score</th>\n",
       "      <th>Title_lower</th>\n",
       "      <th>...</th>\n",
       "      <th>90</th>\n",
       "      <th>91</th>\n",
       "      <th>92</th>\n",
       "      <th>93</th>\n",
       "      <th>94</th>\n",
       "      <th>95</th>\n",
       "      <th>96</th>\n",
       "      <th>97</th>\n",
       "      <th>98</th>\n",
       "      <th>99</th>\n",
       "    </tr>\n",
       "  </thead>\n",
       "  <tbody>\n",
       "    <tr>\n",
       "      <th>35820</th>\n",
       "      <td>3956492781</td>\n",
       "      <td>Broken Hearts - Gefährliche Nähe (The Original...</td>\n",
       "      <td>Gegenwartsliteratur</td>\n",
       "      <td>-0.091684</td>\n",
       "      <td>-0.474838</td>\n",
       "      <td>-0.541107</td>\n",
       "      <td>2016</td>\n",
       "      <td>448</td>\n",
       "      <td>92.0</td>\n",
       "      <td>[broken, hearts, gefährlich, nähen, the, origi...</td>\n",
       "      <td>...</td>\n",
       "      <td>0.362071</td>\n",
       "      <td>-0.2979</td>\n",
       "      <td>0.042942</td>\n",
       "      <td>0.450003</td>\n",
       "      <td>-0.472792</td>\n",
       "      <td>0.344643</td>\n",
       "      <td>-0.161712</td>\n",
       "      <td>-0.067104</td>\n",
       "      <td>-0.025165</td>\n",
       "      <td>-0.35797</td>\n",
       "    </tr>\n",
       "  </tbody>\n",
       "</table>\n",
       "<p>1 rows × 110 columns</p>\n",
       "</div>"
      ],
      "text/plain": [
       "             Asin                                              Title  \\\n",
       "35820  3956492781  Broken Hearts - Gefährliche Nähe (The Original...   \n",
       "\n",
       "                  Category  Comments  Book_Price  Book_Star  Publication_year  \\\n",
       "35820  Gegenwartsliteratur -0.091684   -0.474838  -0.541107              2016   \n",
       "\n",
       "       num_Page  Total_Rating_Score  \\\n",
       "35820       448                92.0   \n",
       "\n",
       "                                             Title_lower  ...        90  \\\n",
       "35820  [broken, hearts, gefährlich, nähen, the, origi...  ...  0.362071   \n",
       "\n",
       "           91        92        93        94        95        96        97  \\\n",
       "35820 -0.2979  0.042942  0.450003 -0.472792  0.344643 -0.161712 -0.067104   \n",
       "\n",
       "             98       99  \n",
       "35820 -0.025165 -0.35797  \n",
       "\n",
       "[1 rows x 110 columns]"
      ]
     },
     "execution_count": 57,
     "metadata": {},
     "output_type": "execute_result"
    }
   ],
   "source": [
    "df_last[df_last.Title== \"Broken Hearts - Gefährliche Nähe (The Original Heartbreakers)\"]"
   ]
  },
  {
   "cell_type": "code",
   "execution_count": 58,
   "metadata": {},
   "outputs": [
    {
     "data": {
      "text/html": [
       "<div>\n",
       "<style scoped>\n",
       "    .dataframe tbody tr th:only-of-type {\n",
       "        vertical-align: middle;\n",
       "    }\n",
       "\n",
       "    .dataframe tbody tr th {\n",
       "        vertical-align: top;\n",
       "    }\n",
       "\n",
       "    .dataframe thead th {\n",
       "        text-align: right;\n",
       "    }\n",
       "</style>\n",
       "<table border=\"1\" class=\"dataframe\">\n",
       "  <thead>\n",
       "    <tr style=\"text-align: right;\">\n",
       "      <th></th>\n",
       "      <th>Asin</th>\n",
       "      <th>Title</th>\n",
       "      <th>Category</th>\n",
       "      <th>Comments</th>\n",
       "      <th>Book_Price</th>\n",
       "      <th>Book_Star</th>\n",
       "      <th>Publication_year</th>\n",
       "      <th>num_Page</th>\n",
       "      <th>Total_Rating_Score</th>\n",
       "      <th>Title_lower</th>\n",
       "      <th>...</th>\n",
       "      <th>90</th>\n",
       "      <th>91</th>\n",
       "      <th>92</th>\n",
       "      <th>93</th>\n",
       "      <th>94</th>\n",
       "      <th>95</th>\n",
       "      <th>96</th>\n",
       "      <th>97</th>\n",
       "      <th>98</th>\n",
       "      <th>99</th>\n",
       "    </tr>\n",
       "  </thead>\n",
       "  <tbody>\n",
       "    <tr>\n",
       "      <th>52683</th>\n",
       "      <td>3548281931</td>\n",
       "      <td>Erzähl mir von den weißen Blüten (Die Asien-Sa...</td>\n",
       "      <td>Psychologie &amp; Hilfe</td>\n",
       "      <td>-0.097784</td>\n",
       "      <td>-0.426611</td>\n",
       "      <td>-0.367147</td>\n",
       "      <td>2010</td>\n",
       "      <td>448</td>\n",
       "      <td>90.2</td>\n",
       "      <td>[erzähl, weiß, blüten, asien, saga]</td>\n",
       "      <td>...</td>\n",
       "      <td>0.422623</td>\n",
       "      <td>-0.298362</td>\n",
       "      <td>-0.121351</td>\n",
       "      <td>0.186727</td>\n",
       "      <td>-0.474419</td>\n",
       "      <td>-0.096226</td>\n",
       "      <td>0.028034</td>\n",
       "      <td>0.131275</td>\n",
       "      <td>0.075753</td>\n",
       "      <td>-0.437283</td>\n",
       "    </tr>\n",
       "  </tbody>\n",
       "</table>\n",
       "<p>1 rows × 110 columns</p>\n",
       "</div>"
      ],
      "text/plain": [
       "             Asin                                              Title  \\\n",
       "52683  3548281931  Erzähl mir von den weißen Blüten (Die Asien-Sa...   \n",
       "\n",
       "                  Category  Comments  Book_Price  Book_Star  Publication_year  \\\n",
       "52683  Psychologie & Hilfe -0.097784   -0.426611  -0.367147              2010   \n",
       "\n",
       "       num_Page  Total_Rating_Score                          Title_lower  ...  \\\n",
       "52683       448                90.2  [erzähl, weiß, blüten, asien, saga]  ...   \n",
       "\n",
       "             90        91        92        93        94        95        96  \\\n",
       "52683  0.422623 -0.298362 -0.121351  0.186727 -0.474419 -0.096226  0.028034   \n",
       "\n",
       "             97        98        99  \n",
       "52683  0.131275  0.075753 -0.437283  \n",
       "\n",
       "[1 rows x 110 columns]"
      ]
     },
     "execution_count": 58,
     "metadata": {},
     "output_type": "execute_result"
    }
   ],
   "source": [
    "df_last[df_last.Title== \"Erzähl mir von den weißen Blüten (Die Asien-Saga, Band 1)\"]"
   ]
  },
  {
   "cell_type": "code",
   "execution_count": 59,
   "metadata": {},
   "outputs": [
    {
     "data": {
      "text/html": [
       "<div>\n",
       "<style scoped>\n",
       "    .dataframe tbody tr th:only-of-type {\n",
       "        vertical-align: middle;\n",
       "    }\n",
       "\n",
       "    .dataframe tbody tr th {\n",
       "        vertical-align: top;\n",
       "    }\n",
       "\n",
       "    .dataframe thead th {\n",
       "        text-align: right;\n",
       "    }\n",
       "</style>\n",
       "<table border=\"1\" class=\"dataframe\">\n",
       "  <thead>\n",
       "    <tr style=\"text-align: right;\">\n",
       "      <th></th>\n",
       "      <th>Asin</th>\n",
       "      <th>Title</th>\n",
       "      <th>Category</th>\n",
       "      <th>Comments</th>\n",
       "      <th>Book_Price</th>\n",
       "      <th>Book_Star</th>\n",
       "      <th>Publication_year</th>\n",
       "      <th>num_Page</th>\n",
       "      <th>Total_Rating_Score</th>\n",
       "      <th>Title_lower</th>\n",
       "      <th>...</th>\n",
       "      <th>90</th>\n",
       "      <th>91</th>\n",
       "      <th>92</th>\n",
       "      <th>93</th>\n",
       "      <th>94</th>\n",
       "      <th>95</th>\n",
       "      <th>96</th>\n",
       "      <th>97</th>\n",
       "      <th>98</th>\n",
       "      <th>99</th>\n",
       "    </tr>\n",
       "  </thead>\n",
       "  <tbody>\n",
       "    <tr>\n",
       "      <th>62020</th>\n",
       "      <td>3404177606</td>\n",
       "      <td>Anatomie eines Skandals: Du willst deinem Ehem...</td>\n",
       "      <td>Weltliteratur</td>\n",
       "      <td>-0.073382</td>\n",
       "      <td>-0.223156</td>\n",
       "      <td>-1.410905</td>\n",
       "      <td>2019</td>\n",
       "      <td>448</td>\n",
       "      <td>91.0</td>\n",
       "      <td>[anatomie, skandals, ehemann, glauben, zerstören]</td>\n",
       "      <td>...</td>\n",
       "      <td>0.146891</td>\n",
       "      <td>-0.207237</td>\n",
       "      <td>0.091626</td>\n",
       "      <td>0.149895</td>\n",
       "      <td>-0.004974</td>\n",
       "      <td>-0.015715</td>\n",
       "      <td>-0.14809</td>\n",
       "      <td>0.252491</td>\n",
       "      <td>-0.186178</td>\n",
       "      <td>-0.153408</td>\n",
       "    </tr>\n",
       "  </tbody>\n",
       "</table>\n",
       "<p>1 rows × 110 columns</p>\n",
       "</div>"
      ],
      "text/plain": [
       "             Asin                                              Title  \\\n",
       "62020  3404177606  Anatomie eines Skandals: Du willst deinem Ehem...   \n",
       "\n",
       "            Category  Comments  Book_Price  Book_Star  Publication_year  \\\n",
       "62020  Weltliteratur -0.073382   -0.223156  -1.410905              2019   \n",
       "\n",
       "       num_Page  Total_Rating_Score  \\\n",
       "62020       448                91.0   \n",
       "\n",
       "                                             Title_lower  ...        90  \\\n",
       "62020  [anatomie, skandals, ehemann, glauben, zerstören]  ...  0.146891   \n",
       "\n",
       "             91        92        93        94        95       96        97  \\\n",
       "62020 -0.207237  0.091626  0.149895 -0.004974 -0.015715 -0.14809  0.252491   \n",
       "\n",
       "             98        99  \n",
       "62020 -0.186178 -0.153408  \n",
       "\n",
       "[1 rows x 110 columns]"
      ]
     },
     "execution_count": 59,
     "metadata": {},
     "output_type": "execute_result"
    }
   ],
   "source": [
    "df_last[df_last.Title== \"Anatomie eines Skandals: Du willst deinem Ehemann glauben Sie will ihn zerstören\"]"
   ]
  },
  {
   "cell_type": "code",
   "execution_count": 61,
   "metadata": {},
   "outputs": [
    {
     "data": {
      "text/html": [
       "<div>\n",
       "<style scoped>\n",
       "    .dataframe tbody tr th:only-of-type {\n",
       "        vertical-align: middle;\n",
       "    }\n",
       "\n",
       "    .dataframe tbody tr th {\n",
       "        vertical-align: top;\n",
       "    }\n",
       "\n",
       "    .dataframe thead th {\n",
       "        text-align: right;\n",
       "    }\n",
       "</style>\n",
       "<table border=\"1\" class=\"dataframe\">\n",
       "  <thead>\n",
       "    <tr style=\"text-align: right;\">\n",
       "      <th></th>\n",
       "      <th>Asin</th>\n",
       "      <th>Title</th>\n",
       "      <th>Category</th>\n",
       "      <th>Comments</th>\n",
       "      <th>Book_Price</th>\n",
       "      <th>Book_Star</th>\n",
       "      <th>Publication_year</th>\n",
       "      <th>num_Page</th>\n",
       "      <th>Total_Rating_Score</th>\n",
       "      <th>Title_lower</th>\n",
       "      <th>...</th>\n",
       "      <th>90</th>\n",
       "      <th>91</th>\n",
       "      <th>92</th>\n",
       "      <th>93</th>\n",
       "      <th>94</th>\n",
       "      <th>95</th>\n",
       "      <th>96</th>\n",
       "      <th>97</th>\n",
       "      <th>98</th>\n",
       "      <th>99</th>\n",
       "    </tr>\n",
       "  </thead>\n",
       "  <tbody>\n",
       "    <tr>\n",
       "      <th>48554</th>\n",
       "      <td>3765541818</td>\n",
       "      <td>Das Stinktier kann doch nichts dafür: Die schö...</td>\n",
       "      <td>Grundbegriffe</td>\n",
       "      <td>-0.109985</td>\n",
       "      <td>-0.474838</td>\n",
       "      <td>0.154732</td>\n",
       "      <td>2019</td>\n",
       "      <td>448</td>\n",
       "      <td>88.0</td>\n",
       "      <td>[stinktier, schön, schmunzelgeschichten, arche...</td>\n",
       "      <td>...</td>\n",
       "      <td>0.474584</td>\n",
       "      <td>0.030513</td>\n",
       "      <td>-0.162656</td>\n",
       "      <td>0.123453</td>\n",
       "      <td>-0.388735</td>\n",
       "      <td>0.261189</td>\n",
       "      <td>0.096811</td>\n",
       "      <td>0.169889</td>\n",
       "      <td>0.042463</td>\n",
       "      <td>-0.19531</td>\n",
       "    </tr>\n",
       "  </tbody>\n",
       "</table>\n",
       "<p>1 rows × 110 columns</p>\n",
       "</div>"
      ],
      "text/plain": [
       "             Asin                                              Title  \\\n",
       "48554  3765541818  Das Stinktier kann doch nichts dafür: Die schö...   \n",
       "\n",
       "            Category  Comments  Book_Price  Book_Star  Publication_year  \\\n",
       "48554  Grundbegriffe -0.109985   -0.474838   0.154732              2019   \n",
       "\n",
       "       num_Page  Total_Rating_Score  \\\n",
       "48554       448                88.0   \n",
       "\n",
       "                                             Title_lower  ...        90  \\\n",
       "48554  [stinktier, schön, schmunzelgeschichten, arche...  ...  0.474584   \n",
       "\n",
       "             91        92        93        94        95        96        97  \\\n",
       "48554  0.030513 -0.162656  0.123453 -0.388735  0.261189  0.096811  0.169889   \n",
       "\n",
       "             98       99  \n",
       "48554  0.042463 -0.19531  \n",
       "\n",
       "[1 rows x 110 columns]"
      ]
     },
     "execution_count": 61,
     "metadata": {},
     "output_type": "execute_result"
    }
   ],
   "source": [
    "df_last[df_last.Title== \"Das Stinktier kann doch nichts dafür: Die schönsten Schmunzelgeschichten aus der Arche. 3 Bücher in 1 Band\"]"
   ]
  }
 ],
 "metadata": {
  "kernelspec": {
   "display_name": "Python 3",
   "language": "python",
   "name": "python3"
  },
  "language_info": {
   "codemirror_mode": {
    "name": "ipython",
    "version": 3
   },
   "file_extension": ".py",
   "mimetype": "text/x-python",
   "name": "python",
   "nbconvert_exporter": "python",
   "pygments_lexer": "ipython3",
   "version": "3.7.6"
  }
 },
 "nbformat": 4,
 "nbformat_minor": 4
}
